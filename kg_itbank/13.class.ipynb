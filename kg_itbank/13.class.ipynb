{
 "cells": [
  {
   "cell_type": "markdown",
   "metadata": {},
   "source": [
    "# 파일 입출력"
   ]
  },
  {
   "cell_type": "code",
   "execution_count": 10,
   "metadata": {},
   "outputs": [],
   "source": [
    "file=open('text.txt',mode='rt',encoding='utf-8')\n"
   ]
  },
  {
   "cell_type": "code",
   "execution_count": 24,
   "metadata": {},
   "outputs": [],
   "source": [
    "file.seek(0)\n",
    "file.read()\n",
    "file.close()"
   ]
  },
  {
   "cell_type": "code",
   "execution_count": 30,
   "metadata": {},
   "outputs": [
    {
     "name": "stdout",
     "output_type": "stream",
     "text": [
      "출력내용dasdadw\n"
     ]
    }
   ],
   "source": [
    "file=open('text.txt',mode='w')\n",
    "str1=input('출력내용')\n",
    "file.write(str1)\n",
    "file.close()"
   ]
  },
  {
   "cell_type": "code",
   "execution_count": 31,
   "metadata": {},
   "outputs": [
    {
     "data": {
      "text/plain": [
       "'dasdadw'"
      ]
     },
     "execution_count": 31,
     "metadata": {},
     "output_type": "execute_result"
    }
   ],
   "source": [
    "file=open('text.txt',mode='r')\n",
    "file.seek(0)\n",
    "file.read()\n"
   ]
  },
  {
   "cell_type": "code",
   "execution_count": 32,
   "metadata": {},
   "outputs": [],
   "source": [
    "file=open('text.txt',mode='at',encoding='utf-8')\n",
    "file.write('날씨가 좋군요')\n",
    "file.close()"
   ]
  },
  {
   "cell_type": "code",
   "execution_count": 36,
   "metadata": {},
   "outputs": [
    {
     "data": {
      "text/plain": [
       "['\"asdasdasdasdasdawdwdawd\\n', 'asdawff\\n', 'aewfsaefs\\n', 'sgsgsgewegf\"']"
      ]
     },
     "execution_count": 36,
     "metadata": {},
     "output_type": "execute_result"
    }
   ],
   "source": [
    "file=open('text1.txt',mode='rt',encoding='utf-8')\n",
    "file.readlines()"
   ]
  },
  {
   "cell_type": "code",
   "execution_count": null,
   "metadata": {},
   "outputs": [],
   "source": [
    "file."
   ]
  },
  {
   "cell_type": "code",
   "execution_count": 40,
   "metadata": {},
   "outputs": [
    {
     "name": "stdout",
     "output_type": "stream",
     "text": [
      "당신의 이름은:홍길동\n",
      "홍길동 님의 나이는:20살\n",
      "홍길동 님의 주소는:산골자기\n"
     ]
    }
   ],
   "source": [
    "file=open('id_.txt',mode='wt',encoding='utf-8')\n",
    "name=input('당신의 이름은:')\n",
    "file.write(name)\n",
    "file.write('\\n')\n",
    "file.write(input('{} 님의 나이는:'.format(name)))\n",
    "file.write('\\n')\n",
    "file.write(input('{} 님의 주소는:'.format(name)))\n",
    "file.write('\\n')\n",
    "file.close()\n"
   ]
  },
  {
   "cell_type": "code",
   "execution_count": 42,
   "metadata": {},
   "outputs": [
    {
     "data": {
      "text/plain": [
       "'홍길동\\n'"
      ]
     },
     "execution_count": 42,
     "metadata": {},
     "output_type": "execute_result"
    }
   ],
   "source": [
    "f=open('id_.txt',mode='rt',encoding='utf-8')\n",
    "f.readline()"
   ]
  },
  {
   "cell_type": "code",
   "execution_count": 54,
   "metadata": {},
   "outputs": [],
   "source": [
    "g=open('id_.txt',mode='rt',encoding='utf-8')\n",
    "k=g.readlines()\n",
    "for i in k:\n",
    "    j=open('id_13.txt',mode='at',encoding='utf-8')\n",
    "    j.write(i)\n",
    "    j.close()"
   ]
  },
  {
   "cell_type": "code",
   "execution_count": 59,
   "metadata": {},
   "outputs": [],
   "source": [
    "f=open('text2.txt','r',encoding='utf-8')\n",
    "\n",
    "#if f5=='':\n",
    " #   print('더이상 없음')\n",
    "  #  file.close()\n",
    "    "
   ]
  },
  {
   "cell_type": "code",
   "execution_count": 65,
   "metadata": {},
   "outputs": [
    {
     "name": "stdout",
     "output_type": "stream",
     "text": [
      "﻿dasdadw날씨가 좋군요\n",
      "\n",
      "asdasdasd\n",
      "\n",
      "asdawdwfw\n",
      "\n",
      "weh\n"
     ]
    }
   ],
   "source": [
    "f.seek(0)\n",
    "for i in f.readlines():\n",
    "    print(i)\n",
    "f.close()"
   ]
  },
  {
   "cell_type": "code",
   "execution_count": 66,
   "metadata": {},
   "outputs": [
    {
     "name": "stdout",
     "output_type": "stream",
     "text": [
      "<class 'str'> ﻿dasdadw날씨가 좋군요\n",
      "asdasdasd\n",
      "asdawdwfw\n",
      "weh\n",
      "<class 'str'> ﻿dasdadw날씨가 좋군요\n",
      "\n",
      "<class 'list'> ['\\ufeffdasdadw날씨가 좋군요\\n', 'asdasdasd\\n', 'asdawdwfw\\n', 'weh']\n"
     ]
    }
   ],
   "source": [
    "f=open('text2.txt','r',encoding='utf-8')\n",
    "buf1=f.read()\n",
    "print(type(buf1),buf1)\n",
    "f.seek(0)\n",
    "buf2=f.readline()\n",
    "print(type(buf2),buf2)\n",
    "f.seek(0)\n",
    "buf3=f.readlines()\n",
    "print(type(buf3),buf3)"
   ]
  },
  {
   "cell_type": "code",
   "execution_count": 67,
   "metadata": {},
   "outputs": [],
   "source": [
    "f.close()"
   ]
  },
  {
   "cell_type": "code",
   "execution_count": 69,
   "metadata": {},
   "outputs": [
    {
     "name": "stdout",
     "output_type": "stream",
     "text": [
      "﻿dasdadw날씨가 좋군요\n",
      "asdasdasd\n",
      "asdawdwfw\n",
      "weh"
     ]
    }
   ],
   "source": [
    "f=open('text2.txt','r',encoding='utf-8')\n",
    "buf=f.readlines()\n",
    "for i in buf:\n",
    "    print(i,end='')\n",
    "f.close()"
   ]
  },
  {
   "cell_type": "code",
   "execution_count": 79,
   "metadata": {},
   "outputs": [],
   "source": [
    "file=open('test_text1.txt','r',encoding='utf-8')\n",
    "list_=file.readlines()"
   ]
  },
  {
   "cell_type": "code",
   "execution_count": 89,
   "metadata": {},
   "outputs": [
    {
     "data": {
      "text/plain": [
       "['\\ufeff0 : 홍길동\\n', '1 : 20살\\n', '2 : 산골짜기']"
      ]
     },
     "execution_count": 89,
     "metadata": {},
     "output_type": "execute_result"
    }
   ],
   "source": [
    "list_"
   ]
  },
  {
   "cell_type": "code",
   "execution_count": 110,
   "metadata": {},
   "outputs": [
    {
     "name": "stdout",
     "output_type": "stream",
     "text": [
      "수정을 원하는 번호를 선택하시오:2\n",
      "수정내용입력:40살\n"
     ]
    }
   ],
   "source": [
    "choice=int(input('수정을 원하는 번호를 선택하시오:'))\n",
    "if choice ==1:\n",
    "    wanted=input('수정내용입력:')\n",
    "    k=list_[0].split(':')[1].strip()\n",
    "    list_[0]=list_[0].replace(k,wanted)\n",
    "elif choice ==2:\n",
    "    wanted=input('수정내용입력:')\n",
    "    k=list_[1].split(':')[1].strip()\n",
    "    list_[1]=list_[1].replace(k,wanted)\n",
    "elif choice ==3:\n",
    "    wanted=input('수정내용입력:')\n",
    "    k=list_[2].split(':')[1].strip()\n",
    "    list_[2]=list_[2].replace(k,wanted)"
   ]
  },
  {
   "cell_type": "code",
   "execution_count": 112,
   "metadata": {},
   "outputs": [],
   "source": [
    "file.close()\n",
    "file=open('test_text1.txt','w',encoding='utf-8')\n",
    "for i in list_:\n",
    "    file.write(i)\n",
    "file.close()"
   ]
  },
  {
   "cell_type": "code",
   "execution_count": 107,
   "metadata": {},
   "outputs": [
    {
     "data": {
      "text/plain": [
       "'홍길동'"
      ]
     },
     "execution_count": 107,
     "metadata": {},
     "output_type": "execute_result"
    }
   ],
   "source": [
    "list_[0].split(':')[1].strip()"
   ]
  },
  {
   "cell_type": "code",
   "execution_count": 116,
   "metadata": {},
   "outputs": [
    {
     "name": "stdout",
     "output_type": "stream",
     "text": [
      "50504\n",
      "45397\n",
      "안\n"
     ]
    }
   ],
   "source": [
    "print(ord('안'))\n",
    "print(ord('녕'))\n",
    "\n",
    "print(chr(50504))"
   ]
  },
  {
   "cell_type": "code",
   "execution_count": 119,
   "metadata": {},
   "outputs": [
    {
     "name": "stdout",
     "output_type": "stream",
     "text": [
      "파일경로입력dasd\n",
      "해당하는 파일 없음\n"
     ]
    }
   ],
   "source": [
    "import os\n",
    "filename=input('파일경로입력')\n",
    "if os.path.exists(filename):\n",
    "    file=open(filename,'r',encoding='utf-8')\n",
    "    buf=file.read()\n",
    "    print(buf)\n",
    "    file.close()\n",
    "else:\n",
    "    print('해당하는 파일 없음')"
   ]
  },
  {
   "cell_type": "code",
   "execution_count": 122,
   "metadata": {
    "scrolled": true
   },
   "outputs": [
    {
     "data": {
      "text/plain": [
       "['.atom',\n",
       " '.bash_history',\n",
       " '.conda',\n",
       " '.eclipse',\n",
       " '.gitconfig',\n",
       " '.idlerc',\n",
       " '.ipynb_checkpoints',\n",
       " '.ipython',\n",
       " '.jupyter',\n",
       " '.keras',\n",
       " '.matplotlib',\n",
       " '.p2',\n",
       " '.pylint.d',\n",
       " '.python_history',\n",
       " '.tooling',\n",
       " '.viminfo',\n",
       " '.vscode',\n",
       " '3D Objects',\n",
       " 'AppData',\n",
       " 'Application Data',\n",
       " 'Contacts',\n",
       " 'Cookies',\n",
       " 'css',\n",
       " 'Desktop',\n",
       " 'Documents',\n",
       " 'Downloads',\n",
       " 'eclipse',\n",
       " 'eclipse-workspace',\n",
       " 'Favorites',\n",
       " 'html',\n",
       " 'IntelGraphicsProfiles',\n",
       " 'Links',\n",
       " 'Local Settings',\n",
       " 'MicrosoftEdgeBackups',\n",
       " 'Music',\n",
       " 'My Documents',\n",
       " 'mysite',\n",
       " 'NetHood',\n",
       " 'NTUSER.DAT',\n",
       " 'ntuser.dat.LOG1',\n",
       " 'ntuser.dat.LOG2',\n",
       " 'NTUSER.DAT{d60ebb1c-7aba-11e9-aa50-04ea56e1aeaf}.TxR.0.regtrans-ms',\n",
       " 'NTUSER.DAT{d60ebb1c-7aba-11e9-aa50-04ea56e1aeaf}.TxR.1.regtrans-ms',\n",
       " 'NTUSER.DAT{d60ebb1c-7aba-11e9-aa50-04ea56e1aeaf}.TxR.2.regtrans-ms',\n",
       " 'NTUSER.DAT{d60ebb1c-7aba-11e9-aa50-04ea56e1aeaf}.TxR.blf',\n",
       " 'NTUSER.DAT{d60ebb1d-7aba-11e9-aa50-04ea56e1aeaf}.TM.blf',\n",
       " 'NTUSER.DAT{d60ebb1d-7aba-11e9-aa50-04ea56e1aeaf}.TMContainer00000000000000000001.regtrans-ms',\n",
       " 'NTUSER.DAT{d60ebb1d-7aba-11e9-aa50-04ea56e1aeaf}.TMContainer00000000000000000002.regtrans-ms',\n",
       " 'ntuser.ini',\n",
       " 'OneDrive',\n",
       " 'Oracle',\n",
       " 'Pictures',\n",
       " 'PrintHood',\n",
       " 'python-code',\n",
       " 'python_jupyter',\n",
       " 'Recent',\n",
       " 'Saved Games',\n",
       " 'Searches',\n",
       " 'SendTo',\n",
       " 'Settings',\n",
       " 'sky',\n",
       " 'source',\n",
       " 'Templates',\n",
       " 'tutorial',\n",
       " 'Untitled.ipynb',\n",
       " 'Untitled1.ipynb',\n",
       " 'Untitled2.ipynb',\n",
       " 'Untitled3.ipynb',\n",
       " 'Videos',\n",
       " '시작 메뉴',\n",
       " '오라클']"
      ]
     },
     "execution_count": 122,
     "metadata": {},
     "output_type": "execute_result"
    }
   ],
   "source": [
    "os.listdir('..')"
   ]
  },
  {
   "cell_type": "code",
   "execution_count": 123,
   "metadata": {},
   "outputs": [
    {
     "data": {
      "text/plain": [
       "'C:\\\\Users\\\\82105\\\\python_jupyter'"
      ]
     },
     "execution_count": 123,
     "metadata": {},
     "output_type": "execute_result"
    }
   ],
   "source": [
    "os.getcwd()"
   ]
  },
  {
   "cell_type": "code",
   "execution_count": 126,
   "metadata": {},
   "outputs": [
    {
     "data": {
      "text/plain": [
       "'C:/Users/82105/python_jupyter/student\\\\ST_mg'"
      ]
     },
     "execution_count": 126,
     "metadata": {},
     "output_type": "execute_result"
    }
   ],
   "source": [
    "os.path.join('C:/Users/82105/python_jupyter/student','ST_mg')"
   ]
  },
  {
   "cell_type": "code",
   "execution_count": 19,
   "metadata": {},
   "outputs": [],
   "source": [
    "def resister_id():\n",
    "    import os\n",
    "    print('1. 회원가입')\n",
    "    print('2. 회원정보 보기')\n",
    "    print('3. 회원정보 수정')\n",
    "    print('4. 종료')\n",
    "    bool_=True\n",
    "    while bool_:\n",
    "        cho=int(input('원하시는 번호를 선택해주세요'))\n",
    "        if cho==1:\n",
    "            name_=input('이름을 입력해주세요:')\n",
    "            age=int(input('나이를 입력해주세요:'))\n",
    "            address=input('주소를 입력해주세요:')\n",
    "            list_=[name_,age,address]\n",
    "            for i in list_:\n",
    "                f=open(os.path.join('student','ST_mg{}.txt'.format(name_)),'a',encoding='utf-8')\n",
    "                f.write(str(i))\n",
    "                f.write('\\n')\n",
    "                f.close()\n",
    "\n",
    "        elif cho==2:\n",
    "            name_=input('자신의 이름을 입력해주세요')\n",
    "            if os.path.exists(os.path.join('student','ST_mg{}.txt'.format(name_))):\n",
    "                f=open(os.path.join('student','ST_mg{}.txt'.format(name_)),'rt',encoding='utf-8')\n",
    "                print(f.read())\n",
    "                f.close()\n",
    "            else:\n",
    "                print('해당하는 파일이 없습니다.')\n",
    "\n",
    "        elif cho==3:\n",
    "            wanted=input('바꾸고 싶은 부분을 선택하시오:(ex 이름 나이 주소)')\n",
    "            wanted_con=input('바꾸고 싶은 내용을 적으시오:')\n",
    "            name_=input('자신의 이름을 입력해주세요')\n",
    "            if os.path.exists(os.path.join('student','ST_mg{}.txt'.format(name_))):\n",
    "                f=open(os.path.join('student','ST_mg{}.txt'.format(name_)),'r',encoding='utf-8')\n",
    "                f.seek(0)\n",
    "                content=f.readlines()\n",
    "                f.close()\n",
    "                f=open(os.path.join('student','ST_mg{}.txt'.format(name_)),'w',encoding='utf-8')\n",
    "                if wanted=='이름':\n",
    "                    content[0]=wanted_con\n",
    "                elif wanted=='나이':\n",
    "                    content[1]=wanted_con\n",
    "                elif wanted=='주소':\n",
    "                    content[2]=wanted_con\n",
    "                for i in content:\n",
    "                    f.write(str(content))\n",
    "                f.close()\n",
    "            else:\n",
    "                print('해당하는 파일이 없습니다.')\n",
    "\n",
    "        elif cho==4:\n",
    "            print('종료합니다')\n",
    "            bool_=False"
   ]
  },
  {
   "cell_type": "code",
   "execution_count": 20,
   "metadata": {},
   "outputs": [
    {
     "name": "stdout",
     "output_type": "stream",
     "text": [
      "1. 회원가입\n",
      "2. 회원정보 보기\n",
      "3. 회원정보 수정\n",
      "4. 종료\n",
      "원하시는 번호를 선택해주세요1\n",
      "이름을 입력해주세요:홍길동\n",
      "나이를 입력해주세요:25\n",
      "주소를 입력해주세요:고대\n",
      "원하시는 번호를 선택해주세요2\n",
      "자신의 이름을 입력해주세요홍길동\n",
      "홍길동\n",
      "25\n",
      "고대\n",
      "\n",
      "원하시는 번호를 선택해주세요4\n",
      "종료합니다\n"
     ]
    }
   ],
   "source": [
    "resister_id()"
   ]
  },
  {
   "cell_type": "code",
   "execution_count": 15,
   "metadata": {},
   "outputs": [
    {
     "data": {
      "text/plain": [
       "['고길동\\n', '10\\n', '상월곡\\n']"
      ]
     },
     "execution_count": 15,
     "metadata": {},
     "output_type": "execute_result"
    }
   ],
   "source": [
    "import os\n",
    "f=open(os.path.join('student','ST_mg{}.txt'.format(101)),'rt',encoding='utf-8')\n",
    "f.seek(0)\n",
    "f.readlines()"
   ]
  },
  {
   "cell_type": "code",
   "execution_count": null,
   "metadata": {},
   "outputs": [],
   "source": []
  }
 ],
 "metadata": {
  "kernelspec": {
   "display_name": "tf-gpu",
   "language": "python",
   "name": "tf2.0-gpu"
  },
  "language_info": {
   "codemirror_mode": {
    "name": "ipython",
    "version": 3
   },
   "file_extension": ".py",
   "mimetype": "text/x-python",
   "name": "python",
   "nbconvert_exporter": "python",
   "pygments_lexer": "ipython3",
   "version": "3.7.2"
  }
 },
 "nbformat": 4,
 "nbformat_minor": 4
}
