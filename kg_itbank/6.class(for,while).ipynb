{
 "cells": [
  {
   "cell_type": "code",
   "execution_count": 1,
   "metadata": {},
   "outputs": [
    {
     "name": "stdout",
     "output_type": "stream",
     "text": [
      "1\n",
      "2\n",
      "3\n",
      "4\n",
      "5\n",
      "6\n",
      "7\n",
      "8\n",
      "9\n",
      "10\n"
     ]
    }
   ],
   "source": [
    "for i in range(1,11,1):\n",
    "    print(i)"
   ]
  },
  {
   "cell_type": "code",
   "execution_count": 3,
   "metadata": {},
   "outputs": [
    {
     "name": "stdout",
     "output_type": "stream",
     "text": [
      "1\n",
      "2\n",
      "3\n",
      "4\n",
      "5\n",
      "6\n",
      "7\n",
      "8\n",
      "9\n",
      "10\n"
     ]
    }
   ],
   "source": [
    "for i in range(1,11):\n",
    "    print(i)"
   ]
  },
  {
   "cell_type": "code",
   "execution_count": 8,
   "metadata": {},
   "outputs": [
    {
     "name": "stdout",
     "output_type": "stream",
     "text": [
      "0\n",
      "1\n",
      "2\n"
     ]
    }
   ],
   "source": [
    "for i in range(0,3,1):\n",
    "    print(i)\n",
    "    "
   ]
  },
  {
   "cell_type": "code",
   "execution_count": 9,
   "metadata": {},
   "outputs": [
    {
     "name": "stdout",
     "output_type": "stream",
     "text": [
      "2\n",
      "4\n",
      "6\n",
      "8\n",
      "10\n"
     ]
    }
   ],
   "source": [
    "for i in range(1,11):\n",
    "    if i%2==0:\n",
    "        print(i)"
   ]
  },
  {
   "cell_type": "code",
   "execution_count": 11,
   "metadata": {},
   "outputs": [
    {
     "name": "stdout",
     "output_type": "stream",
     "text": [
      "10\n",
      "9\n",
      "8\n",
      "7\n",
      "6\n",
      "5\n",
      "4\n",
      "3\n",
      "2\n",
      "1\n",
      "0\n"
     ]
    }
   ],
   "source": [
    "for i in range(10,-1,-1):\n",
    "    print(i)"
   ]
  },
  {
   "cell_type": "code",
   "execution_count": 13,
   "metadata": {},
   "outputs": [
    {
     "data": {
      "text/plain": [
       "55"
      ]
     },
     "execution_count": 13,
     "metadata": {},
     "output_type": "execute_result"
    }
   ],
   "source": [
    "sum_=0\n",
    "for i in range(11):\n",
    "    sum_+=i\n",
    "sum_"
   ]
  },
  {
   "cell_type": "markdown",
   "metadata": {},
   "source": [
    "- print(end=\" \") 뜻은 엔터값 대신에 공백을 넣는다."
   ]
  },
  {
   "cell_type": "code",
   "execution_count": 24,
   "metadata": {},
   "outputs": [
    {
     "name": "stdout",
     "output_type": "stream",
     "text": [
      "1\t2\t3\t4\t5\t\n",
      "\n",
      "6\t7\t8\t9\t10\t\n",
      "\n",
      "11\t12\t13\t14\t15\t\n",
      "\n",
      "16\t17\t18\t19\t20\t\n",
      "\n",
      "21\t22\t23\t24\t25\t\n",
      "\n",
      "26\t27\t28\t29\t30\t\n",
      "\n"
     ]
    }
   ],
   "source": [
    "for i in range(1,31):\n",
    "    print(i,end=\"\\t\")\n",
    "    if i%5==0:\n",
    "        print(\"\\n\")"
   ]
  },
  {
   "cell_type": "code",
   "execution_count": 30,
   "metadata": {},
   "outputs": [],
   "source": [
    "def _1(data):\n",
    "    sum_=0\n",
    "    for i in range(1,data+1):\n",
    "        sum_+=i\n",
    "    return sum_\n",
    "\n",
    "def _specific(data):\n",
    "    sum_odd=0\n",
    "    sum_even=0\n",
    "    for i in range(1,data+1):\n",
    "        if i%2==1:\n",
    "            sum_odd+=i\n",
    "        elif i%2==0:\n",
    "            sum_even+=i\n",
    "    return print(\"sum_odd:\",sum_odd,\"sum_even\",sum_even)"
   ]
  },
  {
   "cell_type": "code",
   "execution_count": 31,
   "metadata": {},
   "outputs": [
    {
     "name": "stdout",
     "output_type": "stream",
     "text": [
      "sum_odd: 25 sum_even 30\n"
     ]
    }
   ],
   "source": [
    "_specific(10)"
   ]
  },
  {
   "cell_type": "code",
   "execution_count": 35,
   "metadata": {},
   "outputs": [
    {
     "name": "stdout",
     "output_type": "stream",
     "text": [
      "시작값 입력:1\n",
      "끝값 입력:10\n",
      "증가값 입력:3\n",
      "1에서10까지3씩 증가한 값의 합: 22\n"
     ]
    }
   ],
   "source": [
    "i,sum_=0,0\n",
    "start,en,grow=0,0,0\n",
    "\n",
    "start=int(input(\"시작값 입력:\"))\n",
    "en=int(input(\"끝값 입력:\"))\n",
    "grow=int(input(\"증가값 입력:\"))\n",
    "\n",
    "for i  in range(start,en+1,grow):\n",
    "    sum_+=i\n",
    "    \n",
    "print('{}에서{}까지{}씩 증가한 값의 합: {}'.format(start,en,grow,sum_))"
   ]
  },
  {
   "cell_type": "code",
   "execution_count": 38,
   "metadata": {},
   "outputs": [
    {
     "name": "stdout",
     "output_type": "stream",
     "text": [
      "0\n",
      "1\n",
      "2\n",
      "3\n",
      "4\n",
      "5\n",
      "6\n",
      "7\n",
      "8\n",
      "9\n"
     ]
    }
   ],
   "source": []
  },
  {
   "cell_type": "markdown",
   "metadata": {},
   "source": [
    "---\n",
    "# Quiz"
   ]
  },
  {
   "cell_type": "code",
   "execution_count": 9,
   "metadata": {},
   "outputs": [],
   "source": [
    "def _1(first,second):\n",
    "    for i in range(first,second+1):\n",
    "        if i%7==0:\n",
    "            print(i)\n",
    "            \n",
    "def _2():\n",
    "    sum_=0\n",
    "    for i in range(1,101):\n",
    "        if i%3==0 and i%5==0:\n",
    "            sum_+=i\n",
    "    return sum_\n",
    "\n",
    "def _3(x,y):\n",
    "    sum_=0\n",
    "    k=min(x,y)\n",
    "    z=max(x,y)\n",
    "    for i in range(k,z+1):\n",
    "        sum_+=i\n",
    "    return sum_\n",
    "\n",
    "def _4():\n",
    "    sum_=10\n",
    "    for i in range(2,31):\n",
    "        sum_=sum_*2\n",
    "    return sum_\n",
    "            "
   ]
  },
  {
   "cell_type": "code",
   "execution_count": 8,
   "metadata": {},
   "outputs": [
    {
     "data": {
      "text/plain": [
       "55"
      ]
     },
     "execution_count": 8,
     "metadata": {},
     "output_type": "execute_result"
    }
   ],
   "source": [
    "_3(10,1)"
   ]
  },
  {
   "cell_type": "code",
   "execution_count": 10,
   "metadata": {},
   "outputs": [
    {
     "name": "stdout",
     "output_type": "stream",
     "text": [
      "1\n",
      "2\n",
      "3\n",
      "4\n",
      "5\n",
      "6\n",
      "7\n",
      "8\n",
      "9\n"
     ]
    }
   ],
   "source": [
    "for i in [1,2,3,4,5,6,7,8,9]:\n",
    "    print(i)"
   ]
  },
  {
   "cell_type": "code",
   "execution_count": 11,
   "metadata": {},
   "outputs": [
    {
     "name": "stdout",
     "output_type": "stream",
     "text": [
      "list [10, 'test', 123.132]\n",
      "\n",
      "10\n",
      "<class 'int'>\n",
      "test\n",
      "<class 'str'>\n",
      "123.132\n",
      "<class 'float'>\n"
     ]
    }
   ],
   "source": [
    "list=[10,'test',123.132]\n",
    "print('list',list)\n",
    "print()\n",
    "for i in list:\n",
    "    print(i)\n",
    "    print(type(i))"
   ]
  },
  {
   "cell_type": "code",
   "execution_count": 12,
   "metadata": {},
   "outputs": [
    {
     "name": "stdout",
     "output_type": "stream",
     "text": [
      "h\n",
      "e\n",
      "l\n",
      "l\n",
      "o\n",
      " \n",
      "p\n",
      "y\n",
      "t\n",
      "h\n",
      "o\n",
      "n\n"
     ]
    }
   ],
   "source": [
    "st='hello python'\n",
    "for i in st:\n",
    "    print(i)"
   ]
  },
  {
   "cell_type": "code",
   "execution_count": 14,
   "metadata": {},
   "outputs": [
    {
     "name": "stdout",
     "output_type": "stream",
     "text": [
      "결과\n",
      "총 개수24\n",
      "a 개수2\n",
      "s 개수3\n"
     ]
    }
   ],
   "source": [
    "st='It is a fun Python class'\n",
    "a_=0\n",
    "s_=0\n",
    "sum_=0\n",
    "for i in st:\n",
    "    sum_+=1\n",
    "    if i=='a':\n",
    "        a_+=1\n",
    "    elif i=='s':\n",
    "        s_+=1\n",
    "print('결과')\n",
    "print('총 개수{}'.format(sum_))\n",
    "print('a 개수{}'.format(a_))\n",
    "print('s 개수{}'.format(s_))\n",
    "        "
   ]
  },
  {
   "cell_type": "code",
   "execution_count": 16,
   "metadata": {},
   "outputs": [
    {
     "name": "stdout",
     "output_type": "stream",
     "text": [
      "{0}+{1}={2}.format(10,2,10+2)\n",
      "{2}+{1}={0}.format(10,2,10+2)\n",
      "{}+{}={}.format(10,2,10+2)\n",
      "100,000\n",
      "첫번째       ,왼쪽정렬,두번째0000000\n",
      "       첫번째,오른쪽정렬,9999999두번째\n",
      "   첫번째    ,가운데정렬,555두번째5555\n"
     ]
    }
   ],
   "source": [
    "print(\"{0}+{1}={2}.format(10,2,10+2)\")\n",
    "print(\"{2}+{1}={0}.format(10,2,10+2)\")\n",
    "print(\"{}+{}={}.format(10,2,10+2)\")\n",
    "\n",
    "print('{:,}'.format(100000))\n",
    "\n",
    "print('{:<10},왼쪽정렬,{:0<10}'.format('첫번째','두번째'))\n",
    "print('{:>10},오른쪽정렬,{:9>10}'.format('첫번째','두번째'))\n",
    "print('{:^10},가운데정렬,{:5^10}'.format('첫번째','두번째'))"
   ]
  },
  {
   "cell_type": "code",
   "execution_count": 18,
   "metadata": {},
   "outputs": [
    {
     "name": "stdout",
     "output_type": "stream",
     "text": [
      "0 0\n",
      "0 1\n",
      "0 2\n",
      "0 3\n",
      "0 4\n",
      "1 0\n",
      "1 1\n",
      "1 2\n",
      "1 3\n",
      "1 4\n",
      "2 0\n",
      "2 1\n",
      "2 2\n",
      "2 3\n",
      "2 4\n"
     ]
    }
   ],
   "source": [
    "for i in range(0,3,1):\n",
    "   for k in range(0,5,1):\n",
    "        print(i,k)"
   ]
  },
  {
   "cell_type": "code",
   "execution_count": 27,
   "metadata": {},
   "outputs": [
    {
     "name": "stdout",
     "output_type": "stream",
     "text": [
      "1 x 1 = 1\n",
      "1 x 2 = 2\n",
      "1 x 3 = 3\n",
      "1 x 4 = 4\n",
      "1 x 5 = 5\n",
      "1 x 6 = 6\n",
      "1 x 7 = 7\n",
      "1 x 8 = 8\n",
      "1 x 9 = 9\n",
      "2 x 1 = 2\n",
      "2 x 2 = 4\n",
      "2 x 3 = 6\n",
      "2 x 4 = 8\n",
      "2 x 5 = 10\n",
      "2 x 6 = 12\n",
      "2 x 7 = 14\n",
      "2 x 8 = 16\n",
      "2 x 9 = 18\n",
      "3 x 1 = 3\n",
      "3 x 2 = 6\n",
      "3 x 3 = 9\n",
      "3 x 4 = 12\n",
      "3 x 5 = 15\n",
      "3 x 6 = 18\n",
      "3 x 7 = 21\n",
      "3 x 8 = 24\n",
      "3 x 9 = 27\n",
      "4 x 1 = 4\n",
      "4 x 2 = 8\n",
      "4 x 3 = 12\n",
      "4 x 4 = 16\n",
      "4 x 5 = 20\n",
      "4 x 6 = 24\n",
      "4 x 7 = 28\n",
      "4 x 8 = 32\n",
      "4 x 9 = 36\n",
      "5 x 1 = 5\n",
      "5 x 2 = 10\n",
      "5 x 3 = 15\n",
      "5 x 4 = 20\n",
      "5 x 5 = 25\n",
      "5 x 6 = 30\n",
      "5 x 7 = 35\n",
      "5 x 8 = 40\n",
      "5 x 9 = 45\n",
      "6 x 1 = 6\n",
      "6 x 2 = 12\n",
      "6 x 3 = 18\n",
      "6 x 4 = 24\n",
      "6 x 5 = 30\n",
      "6 x 6 = 36\n",
      "6 x 7 = 42\n",
      "6 x 8 = 48\n",
      "6 x 9 = 54\n",
      "7 x 1 = 7\n",
      "7 x 2 = 14\n",
      "7 x 3 = 21\n",
      "7 x 4 = 28\n",
      "7 x 5 = 35\n",
      "7 x 6 = 42\n",
      "7 x 7 = 49\n",
      "7 x 8 = 56\n",
      "7 x 9 = 63\n",
      "8 x 1 = 8\n",
      "8 x 2 = 16\n",
      "8 x 3 = 24\n",
      "8 x 4 = 32\n",
      "8 x 5 = 40\n",
      "8 x 6 = 48\n",
      "8 x 7 = 56\n",
      "8 x 8 = 64\n",
      "8 x 9 = 72\n",
      "9 x 1 = 9\n",
      "9 x 2 = 18\n",
      "9 x 3 = 27\n",
      "9 x 4 = 36\n",
      "9 x 5 = 45\n",
      "9 x 6 = 54\n",
      "9 x 7 = 63\n",
      "9 x 8 = 72\n",
      "9 x 9 = 81\n"
     ]
    }
   ],
   "source": [
    "# 구구단\n",
    "list_=[[],[],[],[],[],[],[],[],[]]\n",
    "for i in range(1,10):\n",
    "    for j in range(1,10):\n",
    "        list_[i-1].append([i,\"x\",j,i*j])\n",
    "        print('{} x {} = {}'.format(i,j,i*j))"
   ]
  },
  {
   "cell_type": "code",
   "execution_count": 40,
   "metadata": {},
   "outputs": [],
   "source": [
    "import pandas as pd\n",
    "df=pd.DataFrame(list_,index=[1,2,3,4,5,6,7,8,9],columns=[1,2,3,4,5,6,7,8,9])"
   ]
  },
  {
   "cell_type": "code",
   "execution_count": 41,
   "metadata": {},
   "outputs": [
    {
     "data": {
      "text/html": [
       "<div>\n",
       "<style scoped>\n",
       "    .dataframe tbody tr th:only-of-type {\n",
       "        vertical-align: middle;\n",
       "    }\n",
       "\n",
       "    .dataframe tbody tr th {\n",
       "        vertical-align: top;\n",
       "    }\n",
       "\n",
       "    .dataframe thead th {\n",
       "        text-align: right;\n",
       "    }\n",
       "</style>\n",
       "<table border=\"1\" class=\"dataframe\">\n",
       "  <thead>\n",
       "    <tr style=\"text-align: right;\">\n",
       "      <th></th>\n",
       "      <th>1</th>\n",
       "      <th>2</th>\n",
       "      <th>3</th>\n",
       "      <th>4</th>\n",
       "      <th>5</th>\n",
       "      <th>6</th>\n",
       "      <th>7</th>\n",
       "      <th>8</th>\n",
       "      <th>9</th>\n",
       "    </tr>\n",
       "  </thead>\n",
       "  <tbody>\n",
       "    <tr>\n",
       "      <th>1</th>\n",
       "      <td>[1, x, 1, 1]</td>\n",
       "      <td>[2, x, 1, 2]</td>\n",
       "      <td>[3, x, 1, 3]</td>\n",
       "      <td>[4, x, 1, 4]</td>\n",
       "      <td>[5, x, 1, 5]</td>\n",
       "      <td>[6, x, 1, 6]</td>\n",
       "      <td>[7, x, 1, 7]</td>\n",
       "      <td>[8, x, 1, 8]</td>\n",
       "      <td>[9, x, 1, 9]</td>\n",
       "    </tr>\n",
       "    <tr>\n",
       "      <th>2</th>\n",
       "      <td>[1, x, 2, 2]</td>\n",
       "      <td>[2, x, 2, 4]</td>\n",
       "      <td>[3, x, 2, 6]</td>\n",
       "      <td>[4, x, 2, 8]</td>\n",
       "      <td>[5, x, 2, 10]</td>\n",
       "      <td>[6, x, 2, 12]</td>\n",
       "      <td>[7, x, 2, 14]</td>\n",
       "      <td>[8, x, 2, 16]</td>\n",
       "      <td>[9, x, 2, 18]</td>\n",
       "    </tr>\n",
       "    <tr>\n",
       "      <th>3</th>\n",
       "      <td>[1, x, 3, 3]</td>\n",
       "      <td>[2, x, 3, 6]</td>\n",
       "      <td>[3, x, 3, 9]</td>\n",
       "      <td>[4, x, 3, 12]</td>\n",
       "      <td>[5, x, 3, 15]</td>\n",
       "      <td>[6, x, 3, 18]</td>\n",
       "      <td>[7, x, 3, 21]</td>\n",
       "      <td>[8, x, 3, 24]</td>\n",
       "      <td>[9, x, 3, 27]</td>\n",
       "    </tr>\n",
       "    <tr>\n",
       "      <th>4</th>\n",
       "      <td>[1, x, 4, 4]</td>\n",
       "      <td>[2, x, 4, 8]</td>\n",
       "      <td>[3, x, 4, 12]</td>\n",
       "      <td>[4, x, 4, 16]</td>\n",
       "      <td>[5, x, 4, 20]</td>\n",
       "      <td>[6, x, 4, 24]</td>\n",
       "      <td>[7, x, 4, 28]</td>\n",
       "      <td>[8, x, 4, 32]</td>\n",
       "      <td>[9, x, 4, 36]</td>\n",
       "    </tr>\n",
       "    <tr>\n",
       "      <th>5</th>\n",
       "      <td>[1, x, 5, 5]</td>\n",
       "      <td>[2, x, 5, 10]</td>\n",
       "      <td>[3, x, 5, 15]</td>\n",
       "      <td>[4, x, 5, 20]</td>\n",
       "      <td>[5, x, 5, 25]</td>\n",
       "      <td>[6, x, 5, 30]</td>\n",
       "      <td>[7, x, 5, 35]</td>\n",
       "      <td>[8, x, 5, 40]</td>\n",
       "      <td>[9, x, 5, 45]</td>\n",
       "    </tr>\n",
       "    <tr>\n",
       "      <th>6</th>\n",
       "      <td>[1, x, 6, 6]</td>\n",
       "      <td>[2, x, 6, 12]</td>\n",
       "      <td>[3, x, 6, 18]</td>\n",
       "      <td>[4, x, 6, 24]</td>\n",
       "      <td>[5, x, 6, 30]</td>\n",
       "      <td>[6, x, 6, 36]</td>\n",
       "      <td>[7, x, 6, 42]</td>\n",
       "      <td>[8, x, 6, 48]</td>\n",
       "      <td>[9, x, 6, 54]</td>\n",
       "    </tr>\n",
       "    <tr>\n",
       "      <th>7</th>\n",
       "      <td>[1, x, 7, 7]</td>\n",
       "      <td>[2, x, 7, 14]</td>\n",
       "      <td>[3, x, 7, 21]</td>\n",
       "      <td>[4, x, 7, 28]</td>\n",
       "      <td>[5, x, 7, 35]</td>\n",
       "      <td>[6, x, 7, 42]</td>\n",
       "      <td>[7, x, 7, 49]</td>\n",
       "      <td>[8, x, 7, 56]</td>\n",
       "      <td>[9, x, 7, 63]</td>\n",
       "    </tr>\n",
       "    <tr>\n",
       "      <th>8</th>\n",
       "      <td>[1, x, 8, 8]</td>\n",
       "      <td>[2, x, 8, 16]</td>\n",
       "      <td>[3, x, 8, 24]</td>\n",
       "      <td>[4, x, 8, 32]</td>\n",
       "      <td>[5, x, 8, 40]</td>\n",
       "      <td>[6, x, 8, 48]</td>\n",
       "      <td>[7, x, 8, 56]</td>\n",
       "      <td>[8, x, 8, 64]</td>\n",
       "      <td>[9, x, 8, 72]</td>\n",
       "    </tr>\n",
       "    <tr>\n",
       "      <th>9</th>\n",
       "      <td>[1, x, 9, 9]</td>\n",
       "      <td>[2, x, 9, 18]</td>\n",
       "      <td>[3, x, 9, 27]</td>\n",
       "      <td>[4, x, 9, 36]</td>\n",
       "      <td>[5, x, 9, 45]</td>\n",
       "      <td>[6, x, 9, 54]</td>\n",
       "      <td>[7, x, 9, 63]</td>\n",
       "      <td>[8, x, 9, 72]</td>\n",
       "      <td>[9, x, 9, 81]</td>\n",
       "    </tr>\n",
       "  </tbody>\n",
       "</table>\n",
       "</div>"
      ],
      "text/plain": [
       "              1              2              3              4              5  \\\n",
       "1  [1, x, 1, 1]   [2, x, 1, 2]   [3, x, 1, 3]   [4, x, 1, 4]   [5, x, 1, 5]   \n",
       "2  [1, x, 2, 2]   [2, x, 2, 4]   [3, x, 2, 6]   [4, x, 2, 8]  [5, x, 2, 10]   \n",
       "3  [1, x, 3, 3]   [2, x, 3, 6]   [3, x, 3, 9]  [4, x, 3, 12]  [5, x, 3, 15]   \n",
       "4  [1, x, 4, 4]   [2, x, 4, 8]  [3, x, 4, 12]  [4, x, 4, 16]  [5, x, 4, 20]   \n",
       "5  [1, x, 5, 5]  [2, x, 5, 10]  [3, x, 5, 15]  [4, x, 5, 20]  [5, x, 5, 25]   \n",
       "6  [1, x, 6, 6]  [2, x, 6, 12]  [3, x, 6, 18]  [4, x, 6, 24]  [5, x, 6, 30]   \n",
       "7  [1, x, 7, 7]  [2, x, 7, 14]  [3, x, 7, 21]  [4, x, 7, 28]  [5, x, 7, 35]   \n",
       "8  [1, x, 8, 8]  [2, x, 8, 16]  [3, x, 8, 24]  [4, x, 8, 32]  [5, x, 8, 40]   \n",
       "9  [1, x, 9, 9]  [2, x, 9, 18]  [3, x, 9, 27]  [4, x, 9, 36]  [5, x, 9, 45]   \n",
       "\n",
       "               6              7              8              9  \n",
       "1   [6, x, 1, 6]   [7, x, 1, 7]   [8, x, 1, 8]   [9, x, 1, 9]  \n",
       "2  [6, x, 2, 12]  [7, x, 2, 14]  [8, x, 2, 16]  [9, x, 2, 18]  \n",
       "3  [6, x, 3, 18]  [7, x, 3, 21]  [8, x, 3, 24]  [9, x, 3, 27]  \n",
       "4  [6, x, 4, 24]  [7, x, 4, 28]  [8, x, 4, 32]  [9, x, 4, 36]  \n",
       "5  [6, x, 5, 30]  [7, x, 5, 35]  [8, x, 5, 40]  [9, x, 5, 45]  \n",
       "6  [6, x, 6, 36]  [7, x, 6, 42]  [8, x, 6, 48]  [9, x, 6, 54]  \n",
       "7  [6, x, 7, 42]  [7, x, 7, 49]  [8, x, 7, 56]  [9, x, 7, 63]  \n",
       "8  [6, x, 8, 48]  [7, x, 8, 56]  [8, x, 8, 64]  [9, x, 8, 72]  \n",
       "9  [6, x, 9, 54]  [7, x, 9, 63]  [8, x, 9, 72]  [9, x, 9, 81]  "
      ]
     },
     "execution_count": 41,
     "metadata": {},
     "output_type": "execute_result"
    }
   ],
   "source": [
    "df.T"
   ]
  },
  {
   "cell_type": "code",
   "execution_count": 45,
   "metadata": {},
   "outputs": [
    {
     "name": "stdout",
     "output_type": "stream",
     "text": [
      "0 0 0 0 0 \n",
      "\n",
      "0 1 2 3 4 \n",
      "\n",
      "0 2 4 6 8 \n",
      "\n",
      "0 3 6 9 12 \n",
      "\n",
      "0 4 8 12 16 \n",
      "\n"
     ]
    }
   ],
   "source": [
    "for i in range(5):\n",
    "    for j in range(5):\n",
    "        print(i*j,end=\" \")\n",
    "    print('\\n')"
   ]
  },
  {
   "cell_type": "code",
   "execution_count": 50,
   "metadata": {},
   "outputs": [
    {
     "name": "stdout",
     "output_type": "stream",
     "text": [
      "1\t2\t3\t4\t5\t\n",
      "\n",
      "6\t7\t8\t9\t10\t\n",
      "\n",
      "11\t12\t13\t14\t15\t\n",
      "\n",
      "16\t17\t18\t19\t20\t\n",
      "\n",
      "21\t22\t23\t24\t25\t\n",
      "\n"
     ]
    }
   ],
   "source": [
    "for i in range(5):\n",
    "    for j in range(1,6):\n",
    "        print(j+(i*5),end='\\t')\n",
    "    print('\\n')"
   ]
  },
  {
   "cell_type": "code",
   "execution_count": 51,
   "metadata": {},
   "outputs": [
    {
     "name": "stdout",
     "output_type": "stream",
     "text": [
      "0 종속 문장\n",
      "1 종속 문장\n",
      "2 종속 문장\n",
      "3 종속 문장\n",
      "4 종속 문장\n",
      "다음 문장\n"
     ]
    }
   ],
   "source": [
    "i=0\n",
    "while i<5:\n",
    "    print(i,'종속 문장')\n",
    "    i+=1\n",
    "    \n",
    "print('다음 문장')\n",
    "\n"
   ]
  },
  {
   "cell_type": "code",
   "execution_count": 52,
   "metadata": {},
   "outputs": [
    {
     "name": "stdout",
     "output_type": "stream",
     "text": [
      "0 종속 문장\n",
      "1 종속 문장\n",
      "2 종속 문장\n",
      "3 종속 문장\n",
      "4 종속 문장\n",
      "다음 문장\n"
     ]
    }
   ],
   "source": [
    "for i in range(5):\n",
    "    print(i,'종속 문장')\n",
    "print('다음 문장')"
   ]
  },
  {
   "cell_type": "code",
   "execution_count": 56,
   "metadata": {},
   "outputs": [
    {
     "name": "stdout",
     "output_type": "stream",
     "text": [
      "30\n",
      "25\n"
     ]
    }
   ],
   "source": [
    "i=1\n",
    "odd,even=0,0\n",
    "while i<=10:\n",
    "    if i%2==0:\n",
    "        even+=i\n",
    "    else :\n",
    "        odd+=i\n",
    "    i+=1\n",
    "    \n",
    "print(even)\n",
    "print(odd)"
   ]
  },
  {
   "cell_type": "code",
   "execution_count": 57,
   "metadata": {},
   "outputs": [
    {
     "name": "stdout",
     "output_type": "stream",
     "text": [
      "30\n",
      "25\n"
     ]
    }
   ],
   "source": [
    "odd,even=0,0\n",
    "for i in range(1,11):\n",
    "    if i%2==0:\n",
    "        even+=i\n",
    "    else :\n",
    "        odd+=i\n",
    "print(even)\n",
    "print(odd)"
   ]
  },
  {
   "cell_type": "code",
   "execution_count": 58,
   "metadata": {},
   "outputs": [
    {
     "name": "stdout",
     "output_type": "stream",
     "text": [
      "0\n",
      "1\n",
      "2\n",
      "3\n",
      "4\n",
      "5\n",
      "next\n"
     ]
    }
   ],
   "source": [
    "i=0\n",
    "while i<5:\n",
    "    print(i)\n",
    "    i+=1\n",
    "else :\n",
    "    print(i)\n",
    "print('next')"
   ]
  },
  {
   "cell_type": "code",
   "execution_count": 1,
   "metadata": {},
   "outputs": [
    {
     "name": "stdout",
     "output_type": "stream",
     "text": [
      "1\n",
      "2\n",
      "3\n",
      "4\n",
      "5\n",
      "6\n",
      "7\n",
      "8\n",
      "9\n",
      "10\n"
     ]
    }
   ],
   "source": [
    "i=1\n",
    "flag=True\n",
    "while flag:\n",
    "    print(i)\n",
    "    if i ==10:\n",
    "        flag=False\n",
    "    i+=1"
   ]
  },
  {
   "cell_type": "code",
   "execution_count": null,
   "metadata": {},
   "outputs": [
    {
     "name": "stdout",
     "output_type": "stream",
     "text": [
      "0\n",
      "1\n",
      "2\n"
     ]
    }
   ],
   "source": [
    "i=0\n",
    "while i<=5:\n",
    "    if i==3:\n",
    "        continue\n",
    "    print(i)\n",
    "    i+=1"
   ]
  },
  {
   "cell_type": "code",
   "execution_count": 1,
   "metadata": {},
   "outputs": [
    {
     "name": "stdout",
     "output_type": "stream",
     "text": [
      "0\n",
      "1\n",
      "3\n",
      "4\n"
     ]
    }
   ],
   "source": [
    "for i in range(5):\n",
    "    if i ==2:\n",
    "        continue\n",
    "    print(i)"
   ]
  },
  {
   "cell_type": "code",
   "execution_count": 1,
   "metadata": {},
   "outputs": [
    {
     "name": "stdout",
     "output_type": "stream",
     "text": [
      "1~10사이의 숫자 입력:1\n",
      "1 1\n"
     ]
    }
   ],
   "source": [
    "num,result,i=0,0,1\n",
    "while True:\n",
    "    num=int(input('1~10사이의 숫자 입력:'))\n",
    "    if num<1 or num>10:\n",
    "        print('잘 못 입력 다시')\n",
    "        continue\n",
    "    break\n",
    "else:\n",
    "    print('next')\n",
    "while i<=num:\n",
    "    result+=i\n",
    "    i+=1\n",
    "else:\n",
    "    print(num,result)"
   ]
  },
  {
   "cell_type": "markdown",
   "metadata": {},
   "source": [
    "---\n",
    "# Quiz"
   ]
  },
  {
   "cell_type": "code",
   "execution_count": 13,
   "metadata": {},
   "outputs": [
    {
     "name": "stdout",
     "output_type": "stream",
     "text": [
      "0 0\n",
      "0 1\n",
      "0 2\n",
      "1 0\n",
      "1 1\n",
      "1 2\n",
      "2 0\n",
      "2 1\n",
      "2 2\n",
      "3 0\n",
      "3 1\n",
      "3 2\n"
     ]
    }
   ],
   "source": [
    "i=0\n",
    "while i<4:\n",
    "    k=0\n",
    "    while k<6:\n",
    "        if k==3:\n",
    "            break\n",
    "        print(i,k)\n",
    "        k+=1\n",
    "    i+=1"
   ]
  },
  {
   "cell_type": "code",
   "execution_count": 6,
   "metadata": {},
   "outputs": [
    {
     "name": "stdout",
     "output_type": "stream",
     "text": [
      "512\n",
      "80\n"
     ]
    }
   ],
   "source": [
    "mouse_number=2\n",
    "rice_number=100\n",
    "day=1\n",
    "rice_amount=100*1000\n",
    "while day>0:\n",
    "    rice_amount=rice_amount-(20*mouse_number)\n",
    "    if day%10==0:\n",
    "        mouse_number=mouse_number*2\n",
    "    if rice_amount<0:\n",
    "        break\n",
    "    day+=1\n",
    "print(mouse_number)\n",
    "print(day)"
   ]
  },
  {
   "cell_type": "code",
   "execution_count": 4,
   "metadata": {},
   "outputs": [
    {
     "name": "stdout",
     "output_type": "stream",
     "text": [
      "요금을 투입하세요:200000\n",
      "========== 커피 자판기 ==========\n",
      "\n",
      "1. 커피<200>\t2. 코코아<250>\t3. 반환\t4. 종료\n",
      "메뉴를 선택하세요\n",
      "반환\n",
      "돈을 반환합니다. 잔돈을 챙겨가세요\n"
     ]
    }
   ],
   "source": [
    "while True:\n",
    "    money=int(input('요금을 투입하세요:'))\n",
    "    if money<0:\n",
    "        print('금액을 정확히 입력하세요')\n",
    "        continue\n",
    "    break\n",
    "        \n",
    "print('========== 커피 자판기 ==========\\n')\n",
    "print('1. 커피<200>\\t2. 코코아<250>\\t3. 반환\\t4. 종료')\n",
    "while True:    \n",
    "    menu=input('메뉴를 선택하세요\\n')\n",
    "    if menu not in ['커피','코코아','반환','종료']:\n",
    "        print('error')\n",
    "        continue\n",
    "    break\n",
    "if menu=='커피':\n",
    "    print('맛있게 드십시오. 잔돈은 {} 입니다'.format(money-200))\n",
    "elif menu=='코코아':\n",
    "    print('맛있게 드십시오. 잔돈은 {} 입니다'.format(money-250))\n",
    "elif menu=='반환':\n",
    "    print('돈을 반환합니다. 잔돈을 챙겨가세요')\n",
    "elif menu=='종료':\n",
    "    print('종료합니다.')"
   ]
  },
  {
   "cell_type": "code",
   "execution_count": null,
   "metadata": {},
   "outputs": [],
   "source": []
  }
 ],
 "metadata": {
  "kernelspec": {
   "display_name": "tf-gpu",
   "language": "python",
   "name": "tf2.0-gpu"
  },
  "language_info": {
   "codemirror_mode": {
    "name": "ipython",
    "version": 3
   },
   "file_extension": ".py",
   "mimetype": "text/x-python",
   "name": "python",
   "nbconvert_exporter": "python",
   "pygments_lexer": "ipython3",
   "version": "3.7.2"
  }
 },
 "nbformat": 4,
 "nbformat_minor": 4
}
