{
 "cells": [
  {
   "cell_type": "code",
   "execution_count": 1,
   "metadata": {},
   "outputs": [
    {
     "name": "stdout",
     "output_type": "stream",
     "text": [
      "1\n",
      "2\n",
      "3\n",
      "4\n",
      "5\n",
      "6\n",
      "7\n",
      "8\n",
      "9\n",
      "10\n"
     ]
    }
   ],
   "source": [
    "for i in range(1,11,1):\n",
    "    print(i)"
   ]
  },
  {
   "cell_type": "code",
   "execution_count": 3,
   "metadata": {},
   "outputs": [
    {
     "name": "stdout",
     "output_type": "stream",
     "text": [
      "1\n",
      "2\n",
      "3\n",
      "4\n",
      "5\n",
      "6\n",
      "7\n",
      "8\n",
      "9\n",
      "10\n"
     ]
    }
   ],
   "source": [
    "for i in range(1,11):\n",
    "    print(i)"
   ]
  },
  {
   "cell_type": "code",
   "execution_count": 8,
   "metadata": {},
   "outputs": [
    {
     "name": "stdout",
     "output_type": "stream",
     "text": [
      "0\n",
      "1\n",
      "2\n"
     ]
    }
   ],
   "source": [
    "for i in range(0,3,1):\n",
    "    print(i)\n",
    "    "
   ]
  },
  {
   "cell_type": "code",
   "execution_count": 9,
   "metadata": {},
   "outputs": [
    {
     "name": "stdout",
     "output_type": "stream",
     "text": [
      "2\n",
      "4\n",
      "6\n",
      "8\n",
      "10\n"
     ]
    }
   ],
   "source": [
    "for i in range(1,11):\n",
    "    if i%2==0:\n",
    "        print(i)"
   ]
  },
  {
   "cell_type": "code",
   "execution_count": 11,
   "metadata": {},
   "outputs": [
    {
     "name": "stdout",
     "output_type": "stream",
     "text": [
      "10\n",
      "9\n",
      "8\n",
      "7\n",
      "6\n",
      "5\n",
      "4\n",
      "3\n",
      "2\n",
      "1\n",
      "0\n"
     ]
    }
   ],
   "source": [
    "for i in range(10,-1,-1):\n",
    "    print(i)"
   ]
  },
  {
   "cell_type": "code",
   "execution_count": 13,
   "metadata": {},
   "outputs": [
    {
     "data": {
      "text/plain": [
       "55"
      ]
     },
     "execution_count": 13,
     "metadata": {},
     "output_type": "execute_result"
    }
   ],
   "source": [
    "sum_=0\n",
    "for i in range(11):\n",
    "    sum_+=i\n",
    "sum_"
   ]
  },
  {
   "cell_type": "markdown",
   "metadata": {},
   "source": [
    "- print(end=\" \") 뜻은 엔터값 대신에 공백을 넣는다."
   ]
  },
  {
   "cell_type": "code",
   "execution_count": 24,
   "metadata": {},
   "outputs": [
    {
     "name": "stdout",
     "output_type": "stream",
     "text": [
      "1\t2\t3\t4\t5\t\n",
      "\n",
      "6\t7\t8\t9\t10\t\n",
      "\n",
      "11\t12\t13\t14\t15\t\n",
      "\n",
      "16\t17\t18\t19\t20\t\n",
      "\n",
      "21\t22\t23\t24\t25\t\n",
      "\n",
      "26\t27\t28\t29\t30\t\n",
      "\n"
     ]
    }
   ],
   "source": [
    "for i in range(1,31):\n",
    "    print(i,end=\"\\t\")\n",
    "    if i%5==0:\n",
    "        print(\"\\n\")"
   ]
  },
  {
   "cell_type": "code",
   "execution_count": 30,
   "metadata": {},
   "outputs": [],
   "source": [
    "def _1(data):\n",
    "    sum_=0\n",
    "    for i in range(1,data+1):\n",
    "        sum_+=i\n",
    "    return sum_\n",
    "\n",
    "def _specific(data):\n",
    "    sum_odd=0\n",
    "    sum_even=0\n",
    "    for i in range(1,data+1):\n",
    "        if i%2==1:\n",
    "            sum_odd+=i\n",
    "        elif i%2==0:\n",
    "            sum_even+=i\n",
    "    return print(\"sum_odd:\",sum_odd,\"sum_even\",sum_even)"
   ]
  },
  {
   "cell_type": "code",
   "execution_count": 31,
   "metadata": {},
   "outputs": [
    {
     "name": "stdout",
     "output_type": "stream",
     "text": [
      "sum_odd: 25 sum_even 30\n"
     ]
    }
   ],
   "source": [
    "_specific(10)"
   ]
  },
  {
   "cell_type": "code",
   "execution_count": 35,
   "metadata": {},
   "outputs": [
    {
     "name": "stdout",
     "output_type": "stream",
     "text": [
      "시작값 입력:1\n",
      "끝값 입력:10\n",
      "증가값 입력:3\n",
      "1에서10까지3씩 증가한 값의 합: 22\n"
     ]
    }
   ],
   "source": [
    "i,sum_=0,0\n",
    "start,en,grow=0,0,0\n",
    "\n",
    "start=int(input(\"시작값 입력:\"))\n",
    "en=int(input(\"끝값 입력:\"))\n",
    "grow=int(input(\"증가값 입력:\"))\n",
    "\n",
    "for i  in range(start,en+1,grow):\n",
    "    sum_+=i\n",
    "    \n",
    "print('{}에서{}까지{}씩 증가한 값의 합: {}'.format(start,en,grow,sum_))"
   ]
  },
  {
   "cell_type": "code",
   "execution_count": 38,
   "metadata": {},
   "outputs": [
    {
     "name": "stdout",
     "output_type": "stream",
     "text": [
      "0\n",
      "1\n",
      "2\n",
      "3\n",
      "4\n",
      "5\n",
      "6\n",
      "7\n",
      "8\n",
      "9\n"
     ]
    }
   ],
   "source": []
  },
  {
   "cell_type": "markdown",
   "metadata": {},
   "source": [
    "---\n",
    "# Quiz"
   ]
  },
  {
   "cell_type": "code",
   "execution_count": 67,
   "metadata": {},
   "outputs": [],
   "source": [
    "def _1(first,second):\n",
    "    for i in range(first,second+1):\n",
    "        if i%7==0:\n",
    "            print(i)\n",
    "            \n",
    "def _2():\n",
    "    sum_=0\n",
    "    for i in range(1,101):\n",
    "        if i%3==0 and i%5==0:\n",
    "            sum_+=i\n",
    "    return sum_\n",
    "\n",
    "def _3(x,y):\n",
    "    sum_=0\n",
    "    for i in range(x,y+1):\n",
    "        sum_+=i\n",
    "    return sum_\n",
    "\n",
    "def _4():\n",
    "    sum_=10\n",
    "    for i in range(1,31):\n",
    "        sum_=sum_*2\n",
    "    return sum_\n",
    "            "
   ]
  }
 ],
 "metadata": {
  "kernelspec": {
   "display_name": "tf-gpu",
   "language": "python",
   "name": "tf2.0-gpu"
  },
  "language_info": {
   "codemirror_mode": {
    "name": "ipython",
    "version": 3
   },
   "file_extension": ".py",
   "mimetype": "text/x-python",
   "name": "python",
   "nbconvert_exporter": "python",
   "pygments_lexer": "ipython3",
   "version": "3.7.2"
  }
 },
 "nbformat": 4,
 "nbformat_minor": 4
}
