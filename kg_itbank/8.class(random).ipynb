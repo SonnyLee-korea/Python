{
 "cells": [
  {
   "cell_type": "code",
   "execution_count": 5,
   "metadata": {},
   "outputs": [
    {
     "name": "stdout",
     "output_type": "stream",
     "text": [
      "0 1\n",
      "1 1\n",
      "2 3\n",
      "3 1\n",
      "4 2\n"
     ]
    }
   ],
   "source": [
    "import random\n",
    "\n",
    "i=0\n",
    "for i in range(5):\n",
    "    print(i,int(random.random()*5))"
   ]
  },
  {
   "cell_type": "code",
   "execution_count": 6,
   "metadata": {},
   "outputs": [
    {
     "name": "stdout",
     "output_type": "stream",
     "text": [
      "0 2\n",
      "1 4\n",
      "2 8\n",
      "3 7\n",
      "4 3\n"
     ]
    }
   ],
   "source": [
    "for i in range(5):\n",
    "    print(i,random.randrange(1,10))"
   ]
  },
  {
   "cell_type": "code",
   "execution_count": 7,
   "metadata": {},
   "outputs": [
    {
     "data": {
      "text/plain": [
       "2"
      ]
     },
     "execution_count": 7,
     "metadata": {},
     "output_type": "execute_result"
    }
   ],
   "source": [
    "random.randint(1,5)"
   ]
  },
  {
   "cell_type": "code",
   "execution_count": 50,
   "metadata": {},
   "outputs": [
    {
     "data": {
      "text/plain": [
       "int"
      ]
     },
     "execution_count": 50,
     "metadata": {},
     "output_type": "execute_result"
    }
   ],
   "source": [
    "type(random.randint(1,10))"
   ]
  },
  {
   "cell_type": "code",
   "execution_count": 12,
   "metadata": {},
   "outputs": [],
   "source": [
    "def _1():\n",
    "    import random\n",
    "    \n",
    "    for j in range(1):\n",
    "        while True:\n",
    "            mine=input('가위 바위 보:')\n",
    "            if mine not in ['가위','바위','보']:\n",
    "                continue\n",
    "            break\n",
    "            \n",
    "    i=random.randint(1,3)\n",
    "    if i ==1:\n",
    "        yours='가위'\n",
    "    elif i ==2:\n",
    "        yours='바위'\n",
    "    elif i ==3:\n",
    "        yours='보'\n",
    "        \n",
    "    if mine== yours:\n",
    "        print('상대방:{} vs 나:{} \"무승부\"'.format(yours,mine))\n",
    "    if mine=='가위' and  yours=='바위':\n",
    "        print('상대방:{} vs 나:{} \"패\"'.format(yours,mine))\n",
    "    if mine=='가위' and  yours=='보':\n",
    "        print('상대방:{} vs 나:{} \"승\"'.format(yours,mine))\n",
    "    if mine=='보' and  yours=='가위':\n",
    "        print('상대방:{} vs 나:{} \"패\"'.format(yours,mine))\n",
    "    if mine=='보' and  yours=='바위':\n",
    "        print('상대방:{} vs 나:{} \"승\"'.format(yours,mine))\n",
    "    if mine=='바위' and  yours=='가위':\n",
    "        print('상대방:{} vs 나:{} \"승\"'.format(yours,mine))\n",
    "    if mine=='바위' and  yours=='보':\n",
    "        print('상대방:{} vs 나:{} \"패\"'.format(yours,mine))\n",
    "        \n",
    "def _2():\n",
    "    import random\n",
    "    basket=[]\n",
    "    for i in range(7):\n",
    "        while True:\n",
    "            ball=random.randint(1,50)\n",
    "            if ball in basket:\n",
    "                continue\n",
    "            break\n",
    "        basket.append(ball)\n",
    "    return basket\n",
    "\n",
    "def _3():\n",
    "    import random\n",
    "    salary=int(input('자신의 초봉을 입력하시오:(천만원 단위)'))\n",
    "    increasing_1=random.randint(3,5)\n",
    "    increasing_2=random.random()\n",
    "    increasing=(increasing_1+increasing_2)*0.01\n",
    "    for i in range(10):\n",
    "        salary+=(salary*increasing)\n",
    "    return print(int(salary),'만원')\n",
    "\n",
    "def _4():\n",
    "    import random\n",
    "    salary=int(input('자신의 초봉을 입력하시오:(천만원 단위)'))\n",
    "    increasing_1=random.randint(10,20)\n",
    "    increasing_2=random.random()\n",
    "    increasing=(increasing_1+increasing_2)*0.01\n",
    "    for i in range(10):\n",
    "        salary+=(salary*increasing)\n",
    "    return print(int(salary),'만원')\n",
    "    "
   ]
  },
  {
   "cell_type": "code",
   "execution_count": 13,
   "metadata": {},
   "outputs": [
    {
     "name": "stdout",
     "output_type": "stream",
     "text": [
      "가위 바위 보:가위\n",
      "상대방:가위 vs 나:가위 \"무승부\"\n"
     ]
    }
   ],
   "source": [
    "_1()"
   ]
  },
  {
   "cell_type": "code",
   "execution_count": null,
   "metadata": {},
   "outputs": [],
   "source": []
  }
 ],
 "metadata": {
  "kernelspec": {
   "display_name": "tf-gpu",
   "language": "python",
   "name": "tf2.0-gpu"
  },
  "language_info": {
   "codemirror_mode": {
    "name": "ipython",
    "version": 3
   },
   "file_extension": ".py",
   "mimetype": "text/x-python",
   "name": "python",
   "nbconvert_exporter": "python",
   "pygments_lexer": "ipython3",
   "version": "3.7.2"
  }
 },
 "nbformat": 4,
 "nbformat_minor": 4
}
