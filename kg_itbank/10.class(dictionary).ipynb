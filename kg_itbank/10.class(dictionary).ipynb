{
 "cells": [
  {
   "cell_type": "code",
   "execution_count": 2,
   "metadata": {},
   "outputs": [
    {
     "name": "stdout",
     "output_type": "stream",
     "text": [
      "{'학번': 1234, '이름': '홍길동', '학과': 'it학과'}\n",
      "{'품명': '갤럭시', '가격': 100, '크기': 10}\n"
     ]
    }
   ],
   "source": [
    "student={'학번':1234,'이름':'홍길동','학과':'it학과'}\n",
    "print(student)\n",
    "\n",
    "mobile={'품명':'갤럭시','가격':100,\"크기\":10}\n",
    "print(mobile)"
   ]
  },
  {
   "cell_type": "code",
   "execution_count": 11,
   "metadata": {},
   "outputs": [
    {
     "data": {
      "text/plain": [
       "{'파이썬': 'www.python.org', '네이버': 'www.naver.com'}"
      ]
     },
     "execution_count": 11,
     "metadata": {},
     "output_type": "execute_result"
    }
   ],
   "source": [
    "impo={}\n",
    "impo['파이썬']='www.python.org'\n",
    "impo['네이버']='www.naver.com'\n",
    "impo"
   ]
  },
  {
   "cell_type": "code",
   "execution_count": 15,
   "metadata": {},
   "outputs": [
    {
     "data": {
      "text/plain": [
       "dict_items"
      ]
     },
     "execution_count": 15,
     "metadata": {},
     "output_type": "execute_result"
    }
   ],
   "source": [
    "impo.items()"
   ]
  },
  {
   "cell_type": "code",
   "execution_count": 17,
   "metadata": {},
   "outputs": [
    {
     "name": "stdout",
     "output_type": "stream",
     "text": [
      "키값 입력:파이썬\n",
      "값 입력100\n",
      "100\n"
     ]
    }
   ],
   "source": [
    "impo={}\n",
    "name=input('키값 입력:')\n",
    "val=input('값 입력')\n",
    "impo[name]=val\n",
    "\n",
    "print(impo[name])"
   ]
  },
  {
   "cell_type": "code",
   "execution_count": 20,
   "metadata": {},
   "outputs": [
    {
     "name": "stdout",
     "output_type": "stream",
     "text": [
      "namepython\n",
      "val100\n",
      "nameaa\n",
      "val22\n",
      "namedd\n",
      "val33\n",
      "{'python': '100', 'aa': '22', 'dd': '33'}\n"
     ]
    }
   ],
   "source": [
    "overwatch={}\n",
    "for i in range(3):\n",
    "    name=input('name')\n",
    "    val=input('val')\n",
    "    overwatch[name]=val\n",
    "print(overwatch)"
   ]
  },
  {
   "cell_type": "code",
   "execution_count": 21,
   "metadata": {},
   "outputs": [
    {
     "name": "stdout",
     "output_type": "stream",
     "text": [
      "namea\n",
      "val1\n",
      "names\n",
      "val2\n",
      "named\n",
      "val3\n",
      "namef\n",
      "val4\n",
      "nameg\n",
      "val5\n",
      "OrderedDict([('a', '1'), ('s', '2'), ('d', '3'), ('f', '4'), ('g', '5')])\n"
     ]
    }
   ],
   "source": [
    "import collections\n",
    "Overwatch=collections.OrderedDict()\n",
    "for i in range(5):\n",
    "    name=input('name')\n",
    "    val=input('val')\n",
    "    Overwatch[name]=val\n",
    "print(Overwatch)"
   ]
  },
  {
   "cell_type": "code",
   "execution_count": 22,
   "metadata": {},
   "outputs": [
    {
     "name": "stdout",
     "output_type": "stream",
     "text": [
      "dict_keys([1, 2, 3, 4])\n",
      "dict_values(['일', '이', '삼', '사'])\n"
     ]
    }
   ],
   "source": [
    "num={1:'일',2:'이',3:'삼',4:'사'}\n",
    "\n",
    "print(num.keys())\n",
    "print(num.values())"
   ]
  },
  {
   "cell_type": "code",
   "execution_count": 26,
   "metadata": {},
   "outputs": [
    {
     "name": "stdout",
     "output_type": "stream",
     "text": [
      "dict_keys([1, 2, 3, 4])\n",
      "[1, 2, 3, 4]\n",
      "[1, 2, 3, 4]\n",
      "dict_values(['일', '이', '삼', '사'])\n",
      "['일', '이', '삼', '사']\n"
     ]
    }
   ],
   "source": [
    "print(num.keys())\n",
    "print(list(num))\n",
    "print(list(num.keys()))\n",
    "print(num.values())\n",
    "print(list(num.values()))"
   ]
  },
  {
   "cell_type": "code",
   "execution_count": 27,
   "metadata": {},
   "outputs": [
    {
     "name": "stdout",
     "output_type": "stream",
     "text": [
      "가수a\n",
      "인원수3\n",
      "대표곡asd\n",
      "이름 : a\n",
      "구성원 : 3\n",
      "대표곡 : asd\n"
     ]
    }
   ],
   "source": [
    "singer={}\n",
    "singer['이름']=input('가수')\n",
    "singer['구성원']=input('인원수')\n",
    "singer['대표곡']=input('대표곡')\n",
    "\n",
    "for i in singer.keys():\n",
    "    print('%s : %s'%(i,singer[i]))"
   ]
  },
  {
   "cell_type": "code",
   "execution_count": null,
   "metadata": {},
   "outputs": [
    {
     "name": "stdout",
     "output_type": "stream",
     "text": [
      "1. 메뉴 등록\n",
      "2. 메뉴별 가격 보기\n",
      "3. 가격 수정\n",
      "4. 종료\n",
      ">>>3\n",
      "수정할 목록 입력실수\n"
     ]
    }
   ],
   "source": [
    "menu={}\n",
    "bl=True\n",
    "num=0\n",
    "while bl:\n",
    "    print('1. 메뉴 등록')\n",
    "    print('2. 메뉴별 가격 보기')\n",
    "    print('3. 가격 수정')\n",
    "    print('4. 종료')\n",
    "    num=int(input('>>>'))\n",
    "    if num==1:\n",
    "        name=input('메뉴 입력:')\n",
    "        menu[name]=input('가격 입력:')\n",
    "    elif num==2:\n",
    "        for i in menu.keys():\n",
    "            print(i,\":\",menu[i])\n",
    "    elif num==3:\n",
    "        for i in range(1):\n",
    "            while True:\n",
    "                name=input('수정할 목록 입력')\n",
    "                if name not in menu.keys():\n",
    "                    continue\n",
    "                break\n",
    "        menu[name]=input('수정 가격:')\n",
    "    elif num==4:\n",
    "        print('프로그램 종료 합니다')\n",
    "        bl=False\n",
    "        "
   ]
  },
  {
   "cell_type": "code",
   "execution_count": 10,
   "metadata": {
    "scrolled": true
   },
   "outputs": [
    {
     "name": "stdout",
     "output_type": "stream",
     "text": [
      "{1: '일', 2: '이', 3: '삼', 4: '사', 5: '오'}\n",
      "삼\n",
      "None\n",
      "없음\n",
      "찾고자 하는 키 입력:12\n",
      "값이 없습니다\n"
     ]
    }
   ],
   "source": [
    "num={1:'일',2:'이',3:'삼',4:'사',5:'오'}\n",
    "\n",
    "print(num)\n",
    "print(num.get(3))\n",
    "print(num.get(9))\n",
    "print(num.get(0,'없음'))\n",
    "\n",
    "su=int(input('찾고자 하는 키 입력:'))\n",
    "if num.get(su)==None:\n",
    "    print('값이 없습니다')\n",
    "else:\n",
    "    print(num.get(su))"
   ]
  },
  {
   "cell_type": "code",
   "execution_count": 19,
   "metadata": {},
   "outputs": [],
   "source": [
    "def navigation():\n",
    "    print('1.등록')\n",
    "    print('2.목적지 수정')\n",
    "    print('3.검색')\n",
    "    print('종료')\n",
    "    bool_=True\n",
    "    repository={}\n",
    "    while bool_:\n",
    "        print('\\n=================================')\n",
    "        i=int(input('번호를 눌러주세요:'))\n",
    "        if i ==1:\n",
    "            for j in range(1):\n",
    "                while True:\n",
    "                    what=input('목적지:')\n",
    "                    adr=input('주소:')\n",
    "                    if what in repository.keys():\n",
    "                        print('이미 등록 되어 있습니다.')\n",
    "                        continue\n",
    "                    break\n",
    "            repository[what]=adr\n",
    "        if i ==2:\n",
    "            for j in range(1):\n",
    "                while True:\n",
    "                    what=input('목적지:')\n",
    "                    if repository.get(what)==None:\n",
    "                        print('목적지가 없습니다.')\n",
    "                        continue\n",
    "                    else:\n",
    "                        repository[what]=input('새로운 주소를 입력하시오:')\n",
    "                        print('수정 완료')\n",
    "                    break\n",
    "        if i ==3:\n",
    "            what=input('검색할 목적지를 입력하시오:')\n",
    "            for j in range(1):\n",
    "                while True:\n",
    "                    if repository.get(what)==None:\n",
    "                        print('목적지가 없습니다.')\n",
    "                        continue\n",
    "                    else :\n",
    "                        print(what,':',repository[what])\n",
    "                    break\n",
    "        if i ==4:\n",
    "            print('종료합니다.')\n",
    "            bool_=False"
   ]
  },
  {
   "cell_type": "code",
   "execution_count": 20,
   "metadata": {},
   "outputs": [
    {
     "name": "stdout",
     "output_type": "stream",
     "text": [
      "1.등록\n",
      "2.목적지 수정\n",
      "3.검색\n",
      "종료\n",
      "\n",
      "=================================\n",
      "번호를 눌러주세요:1\n",
      "목적지:학원\n",
      "주소:종로\n",
      "\n",
      "=================================\n",
      "번호를 눌러주세요:2\n",
      "목적지:학원\n",
      "새로운 주소를 입력하시오:강남\n",
      "수정 완료\n",
      "\n",
      "=================================\n",
      "번호를 눌러주세요:3\n",
      "검색할 목적지를 입력하시오:학원\n",
      "학원 : 강남\n",
      "\n",
      "=================================\n",
      "번호를 눌러주세요:4\n",
      "종료합니다.\n"
     ]
    }
   ],
   "source": [
    "navigation()"
   ]
  },
  {
   "cell_type": "code",
   "execution_count": 2,
   "metadata": {},
   "outputs": [
    {
     "name": "stdout",
     "output_type": "stream",
     "text": [
      "1234\n",
      "홍길동\n",
      "it학과\n",
      "dict_items([('학번', 1234), ('이름', '홍길동'), ('학과', 'it학과')])\n",
      "{'학번': 1234, '이름': '홍길동', '학과': 'it학과'}\n"
     ]
    }
   ],
   "source": [
    "student={'학번':1234,'이름':'홍길동','학과':'it학과'}\n",
    "\n",
    "print(student['학번'])\n",
    "print(student['이름'])\n",
    "print(student['학과'])\n",
    "\n",
    "print(student.items())\n",
    "print(student)"
   ]
  },
  {
   "cell_type": "code",
   "execution_count": 3,
   "metadata": {},
   "outputs": [
    {
     "name": "stdout",
     "output_type": "stream",
     "text": [
      "학번 1234\n",
      "이름 홍길동\n",
      "학과 it학과\n"
     ]
    }
   ],
   "source": [
    "for key,value in student.items():\n",
    "    print(key,value)"
   ]
  },
  {
   "cell_type": "code",
   "execution_count": 16,
   "metadata": {
    "scrolled": true
   },
   "outputs": [
    {
     "name": "stdout",
     "output_type": "stream",
     "text": [
      "{1: '일', 2: '이', 3: '삼', 4: '사', 5: '오'}\n",
      "구~우\n",
      "{1: '일', 2: '이', 3: '삼', 4: '사', 5: '오', 9: '구~우'}\n",
      "구~우\n"
     ]
    }
   ],
   "source": [
    "num={1:'일',2:'이',3:'삼',4:'사',5:'오'}\n",
    "print(num)\n",
    "\n",
    "print(num.setdefault(9,'구~우'))\n",
    "print(num)\n",
    "print(num.get(9))"
   ]
  },
  {
   "cell_type": "code",
   "execution_count": 18,
   "metadata": {},
   "outputs": [
    {
     "name": "stdout",
     "output_type": "stream",
     "text": [
      "{1: '일', 2: '이', 3: '삼', 4: '사', 5: '오', 9: '구~우'}\n",
      "{1: '일', 2: '이', 3: '삼', 4: '사', 5: '오', 9: '구~우', 6: '육', 7: '칠', 8: '팔'}\n"
     ]
    }
   ],
   "source": [
    "aaa={6:'육',7:'칠',8:'팔'}\n",
    "\n",
    "print(num)\n",
    "num.update(aaa)\n",
    "print(num)"
   ]
  },
  {
   "cell_type": "code",
   "execution_count": 38,
   "metadata": {},
   "outputs": [
    {
     "name": "stdout",
     "output_type": "stream",
     "text": [
      "등록키a\n",
      "등록키s\n",
      "등록키d\n",
      "{'a': None, 's': None, 'd': None}\n",
      "{'a': [1, 2, 3], 's': [1, 2, 3], 'd': [1, 2, 3]}\n"
     ]
    }
   ],
   "source": [
    "dic={}\n",
    "ls=[]\n",
    "\n",
    "ls.append(input('등록키'))\n",
    "ls.append(input('등록키'))\n",
    "ls.append(input('등록키'))\n",
    "\n",
    "dic=dic.fromkeys(ls)\n",
    "print(dic)\n",
    "\n",
    "dic=dic.fromkeys(ls,[1,2,3])\n",
    "print(dic)\n"
   ]
  },
  {
   "cell_type": "code",
   "execution_count": 45,
   "metadata": {},
   "outputs": [
    {
     "data": {
      "text/plain": [
       "[1, 2, 3]"
      ]
     },
     "execution_count": 45,
     "metadata": {},
     "output_type": "execute_result"
    }
   ],
   "source": [
    "dic.pop('a')"
   ]
  },
  {
   "cell_type": "code",
   "execution_count": 56,
   "metadata": {},
   "outputs": [
    {
     "name": "stdout",
     "output_type": "stream",
     "text": [
      "1. 인적사항 등록\n",
      "2. 검색\n",
      "3. 종료\n",
      ">>>1\n",
      "이름입력:김개똥\n",
      "점수 입력1\n",
      "1. 인적사항 등록\n",
      "2. 검색\n",
      "3. 종료\n",
      ">>>1\n",
      "이름입력:홍길도\n",
      "점수 입력2\n",
      "1. 인적사항 등록\n",
      "2. 검색\n",
      "3. 종료\n",
      ">>>2\n",
      "찾고자 하는 학생이름입력:김개똥\n",
      "김개똥 님 점수 1\n",
      "1. 인적사항 등록\n",
      "2. 검색\n",
      "3. 종료\n",
      ">>>2\n",
      "찾고자 하는 학생이름입력:홍길도\n",
      "찾고자하는 학생이 없습니다\n",
      "1. 인적사항 등록\n",
      "2. 검색\n",
      "3. 종료\n",
      ">>>4\n",
      "1. 인적사항 등록\n",
      "2. 검색\n",
      "3. 종료\n",
      ">>>3\n",
      "프로그램 종료합니다\n"
     ]
    }
   ],
   "source": [
    "info={}\n",
    "pe=[]\n",
    "bl=True\n",
    "num=0\n",
    "\n",
    "while bl:\n",
    "    print('1. 인적사항 등록')\n",
    "    print('2. 검색')\n",
    "    print('3. 종료')\n",
    "    \n",
    "    num=int(input('>>>'))\n",
    "    if num==1:\n",
    "        pe.append(input('이름입력:'))\n",
    "        pe.append(input('점수 입력'))\n",
    "        info[pe[0]]=pe[1]\n",
    "        pe=[]\n",
    "    \n",
    "        \n",
    "    elif num==2:\n",
    "        name=input('찾고자 하는 학생이름입력:')\n",
    "        if info.get(name)==None:\n",
    "            print('찾고자하는 학생이 없습니다')\n",
    "        else:\n",
    "            print(name,'님 점수',info.get(name))\n",
    "    elif num==3:\n",
    "        print('프로그램 종료합니다')\n",
    "        bl=False"
   ]
  },
  {
   "cell_type": "code",
   "execution_count": 1,
   "metadata": {},
   "outputs": [
    {
     "name": "stdout",
     "output_type": "stream",
     "text": [
      "1. 일정표 등록\n",
      "2. 검색\n",
      "3. 종료\n",
      ">>>1\n",
      "일(15일) 입력:18일\n",
      "시간대별 할 일 입력\n",
      "시간: 할일 (입력)11시 밥먹기\n",
      "시간: 할일 (입력)12시 씻기\n",
      "1. 일정표 등록\n",
      "2. 검색\n",
      "3. 종료\n",
      ">>>2\n",
      "확인할 일자 입력:18일\n",
      "18일 할일: ['11시 밥먹기', '12시 씻기']\n",
      "1. 일정표 등록\n",
      "2. 검색\n",
      "3. 종료\n",
      ">>>3\n",
      "프로그램 종료합니다\n"
     ]
    }
   ],
   "source": [
    "info={}\n",
    "date1=[]\n",
    "date2=[]\n",
    "bl=True\n",
    "num=0\n",
    "\n",
    "while bl:\n",
    "    print('1. 일정표 등록')\n",
    "    print('2. 검색')\n",
    "    print('3. 종료')\n",
    "    num=int(input('>>>'))\n",
    "    if num==1:\n",
    "        date1.append(input('일(15일) 입력:'))\n",
    "        print('시간대별 할 일 입력')\n",
    "        date2.append(input('시간: 할일 (입력)'))\n",
    "        date2.append(input('시간: 할일 (입력)'))\n",
    "        info[date1[0]]=date2\n",
    "        date1=[]\n",
    "        date2=[]\n",
    "        \n",
    "    elif num==2:\n",
    "        day=input('확인할 일자 입력:')\n",
    "        if info.get(day)==None:\n",
    "            print('찾고자 하는 날이 없습니다')\n",
    "        else:\n",
    "            print(day,'할일:',info.get(day))\n",
    "    elif num==3:\n",
    "        print('프로그램 종료합니다')\n",
    "        bl=False\n",
    "   "
   ]
  },
  {
   "cell_type": "code",
   "execution_count": null,
   "metadata": {},
   "outputs": [],
   "source": [
    "def _1():\n",
    "    print('1. 인적사항 등록')\n",
    "    print('2. 검색')\n",
    "    print('3. 수정')\n",
    "    print('4. 삭제')\n",
    "    print('5. 전체학생 보기')\n",
    "    print('6. 종료')\n",
    "    \n",
    "    # 학번 이름 주민 등급(ABCDEF) \n",
    "    \n",
    "    dic={}\n",
    "    st_dic={}\n",
    "    bool_=True\n",
    "    while bool_:\n",
    "        cho=int(input('원하는 기능의 번호만 입력해주세요'))\n",
    "        if cho==1:\n",
    "            st_num=int(input('학번을 입력해주세요'))\n",
    "            st_name=input('이름을 입력해주세요')\n",
    "            st_id=input('******-******* 형식으로 주민번호를 입력해주세요')\n",
    "            st_grade=input('ABCDEF 중 입력하시오')\n",
    "            total_list1=[st_name,st_id,st_grade]\n",
    "            total_list2=['이름','주민','등급']\n",
    "            for id_,i in enumerate(total_list2):\n",
    "                st_dic[i]=total_list1[id_]\n",
    "            dic[st_num]=st_dic\n",
    "            st_dic={}\n",
    "            \n",
    "        elif cho==2:\n",
    "            search_num=int(input('학번으로 검색하기'))\n",
    "            if dic.get(search_num)==None:\n",
    "                print('해당하는 학번은 없습니다')\n",
    "            else:\n",
    "                print(dic[search_num])\n",
    "            \n",
    "        elif cho==3:\n",
    "            search_num=int(input('학번으로 검색하기'))\n",
    "            wanted_cate=input('수정하고 싶은 목록을 입력하시오(이름,주민,등급)')\n",
    "            changed_part=input('변경사항을 입력하시오')\n",
    "            if dic.get(search_num)==None:\n",
    "                print('해당하는 학번은 없습니다')\n",
    "            else:\n",
    "                dic[search_num][wanted_cate]=changed_part\n",
    "                print('변경이 완료되었습니다')\n",
    "            \n",
    "        elif cho==4:\n",
    "            search_num=int(input('삭제하길 원하는 학생의 학번을 입력하시오'))\n",
    "            dic.pop(search_num)\n",
    "            print('삭제가 완료되었습니다')\n",
    "            \n",
    "        elif cho==5:\n",
    "            for i,k in dic.items():\n",
    "                print(i,k,'\\n')\n",
    "            \n",
    "        elif cho==6:\n",
    "            print('종료합니다')\n",
    "            bool_=False"
   ]
  },
  {
   "cell_type": "code",
   "execution_count": null,
   "metadata": {},
   "outputs": [],
   "source": [
    "_1()"
   ]
  },
  {
   "cell_type": "code",
   "execution_count": null,
   "metadata": {},
   "outputs": [],
   "source": []
  },
  {
   "cell_type": "code",
   "execution_count": null,
   "metadata": {},
   "outputs": [],
   "source": []
  }
 ],
 "metadata": {
  "kernelspec": {
   "display_name": "tf-gpu",
   "language": "python",
   "name": "tf2.0-gpu"
  },
  "language_info": {
   "codemirror_mode": {
    "name": "ipython",
    "version": 3
   },
   "file_extension": ".py",
   "mimetype": "text/x-python",
   "name": "python",
   "nbconvert_exporter": "python",
   "pygments_lexer": "ipython3",
   "version": "3.7.2"
  }
 },
 "nbformat": 4,
 "nbformat_minor": 4
}
