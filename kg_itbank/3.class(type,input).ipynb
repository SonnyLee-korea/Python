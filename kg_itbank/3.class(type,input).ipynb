{
 "cells": [
  {
   "cell_type": "markdown",
   "metadata": {},
   "source": [
    "# Type\n",
    "- int : 정수형\n",
    "- float : 실수형\n",
    "- str : 문자형\n",
    "- bool : 불형 ->참 또는 거짓"
   ]
  },
  {
   "cell_type": "markdown",
   "metadata": {},
   "source": [
    "###### type 함수르 통해 알 수 있는 것\n",
    "- 나중 데이터 전처리 시 numerial한 값과 categorical한 값을 구분할 수 있다"
   ]
  },
  {
   "cell_type": "code",
   "execution_count": 1,
   "metadata": {},
   "outputs": [
    {
     "name": "stdout",
     "output_type": "stream",
     "text": [
      "type: <class 'int'>\n",
      "type:<class 'float'>\n",
      "type:<class 'str'>\n",
      "type:<class 'str'>\n"
     ]
    }
   ],
   "source": [
    "num=100\n",
    "print('type: %s'%type(num))\n",
    "fit=321.321\n",
    "print('type:%s'%type(fit))\n",
    "ch='A'\n",
    "print('type:%s'%type(ch))\n",
    "st='test'\n",
    "print('type:%s'%type(st))"
   ]
  },
  {
   "cell_type": "code",
   "execution_count": 2,
   "metadata": {},
   "outputs": [
    {
     "name": "stdout",
     "output_type": "stream",
     "text": [
      "type:<class 'int'>\tid: 140713114996768\n",
      "type:<class 'float'>\tid: 2323413405792\n",
      "type:<class 'str'>\tid: 2323372706816\n",
      "type:<class 'str'>\tid: 2323374956760\n"
     ]
    }
   ],
   "source": [
    "num=100\n",
    "print('type:%s\\tid: %s'%(type(num),id(num)))\n",
    "num=321.321\n",
    "print('type:%s\\tid: %s'%(type(num),id(num)))\n",
    "num='A'\n",
    "print('type:%s\\tid: %s'%(type(num),id(num)))\n",
    "num='test'\n",
    "print('type:%s\\tid: %s'%(type(num),id(num)))\n"
   ]
  },
  {
   "cell_type": "code",
   "execution_count": 4,
   "metadata": {},
   "outputs": [
    {
     "name": "stdout",
     "output_type": "stream",
     "text": [
      "140713114996768\n",
      "140713114996768\n"
     ]
    }
   ],
   "source": [
    "a=100\n",
    "b=100\n",
    "print(id(a))\n",
    "print(id(b))"
   ]
  },
  {
   "cell_type": "code",
   "execution_count": 8,
   "metadata": {},
   "outputs": [
    {
     "name": "stdout",
     "output_type": "stream",
     "text": [
      "101.11\n",
      "PythonTest\n",
      "100100\n"
     ]
    }
   ],
   "source": [
    "st1='Python'\n",
    "st2='Test'\n",
    "su=100\n",
    "fit=1.11\n",
    "num='100'\n",
    "\n",
    "print(fit+su)\n",
    "print(st1+st2)\n",
    "print(str(su)+num)"
   ]
  },
  {
   "cell_type": "code",
   "execution_count": 9,
   "metadata": {},
   "outputs": [
    {
     "name": "stdout",
     "output_type": "stream",
     "text": [
      "type(su): <class 'int'>\n",
      "tpye(str(su)) <class 'str'>\n",
      "type(float(su)) <class 'float'>\n"
     ]
    }
   ],
   "source": [
    "su=100\n",
    "print('type(su):',type(su))\n",
    "print('tpye(str(su))',type(str(su)))\n",
    "print('type(float(su))',type(float(su)))"
   ]
  },
  {
   "cell_type": "markdown",
   "metadata": {},
   "source": [
    "---\n",
    "# Quiz"
   ]
  },
  {
   "cell_type": "code",
   "execution_count": 11,
   "metadata": {},
   "outputs": [
    {
     "name": "stdout",
     "output_type": "stream",
     "text": [
      "200\n",
      "101.111\n",
      "100100\n"
     ]
    }
   ],
   "source": [
    "su=100\n",
    "num='100'\n",
    "fit='1.111'\n",
    "print(su+int(num))\n",
    "print(int(num)+float(fit))\n",
    "print(str(su)+str(num))"
   ]
  },
  {
   "cell_type": "markdown",
   "metadata": {},
   "source": [
    "---\n",
    "# Input\n",
    "- input으로 값을 받으면 , 그 값은 문자형(str)이다"
   ]
  },
  {
   "cell_type": "code",
   "execution_count": 12,
   "metadata": {
    "scrolled": true
   },
   "outputs": [
    {
     "name": "stdout",
     "output_type": "stream",
     "text": [
      "숫자 입력\n",
      "1\n",
      "입력 받은 값 1\n"
     ]
    }
   ],
   "source": [
    "print('숫자 입력')\n",
    "num1=input()\n",
    "print('입력 받은 값',num1)"
   ]
  },
  {
   "cell_type": "code",
   "execution_count": 4,
   "metadata": {},
   "outputs": [
    {
     "name": "stdout",
     "output_type": "stream",
     "text": [
      "'이름 입력'\n",
      "홍길동\n",
      "'나이 입력'\n",
      "26\n",
      "홍길동 님의 나이는 26살 입니다\n"
     ]
    }
   ],
   "source": [
    "print(\"'이름 입력'\")\n",
    "name=input()\n",
    "print(\"'나이 입력'\")\n",
    "age=input()\n",
    "print('홍길동 님의 나이는 %d살 입니다'%int(age))"
   ]
  },
  {
   "cell_type": "code",
   "execution_count": 8,
   "metadata": {},
   "outputs": [
    {
     "name": "stdout",
     "output_type": "stream",
     "text": [
      "두 수의 합을 구해 줍니다.\n",
      "두 수 입력\n",
      "1\n",
      "2\n",
      "두 수의 합 1 + 2 = 3\n",
      "num1 type: <class 'str'>\n",
      "num2 type: <class 'str'>\n",
      "num3 type: <class 'int'>\n"
     ]
    }
   ],
   "source": [
    "print('두 수의 합을 구해 줍니다.')\n",
    "print('두 수 입력')\n",
    "\n",
    "num1=input()\n",
    "num2=input()\n",
    "num3=int(num1)+int(num2)\n",
    "print('두 수의 합',num1,'+',num2,'=',num3)\n",
    "\n",
    "print('num1 type:',type(num1))\n",
    "print('num2 type:',type(num2))\n",
    "print('num3 type:',type(num3))"
   ]
  },
  {
   "cell_type": "code",
   "execution_count": 9,
   "metadata": {},
   "outputs": [
    {
     "name": "stdout",
     "output_type": "stream",
     "text": [
      "1\n",
      "2\n",
      "1 + 2 = 3\n"
     ]
    }
   ],
   "source": [
    "num1=int(input())\n",
    "num2=int(input())\n",
    "\n",
    "result=num1+num2\n",
    "print(num1,'+',num2,'=',result)"
   ]
  },
  {
   "cell_type": "code",
   "execution_count": 10,
   "metadata": {},
   "outputs": [
    {
     "name": "stdout",
     "output_type": "stream",
     "text": [
      "이름을 입력하세요:홍길동\n",
      "나이를 입력하세요:26\n",
      "주소를 입력하세요:종로\n",
      "이름: 홍길동 \n",
      "나이: 26 \n",
      "주소: 종로\n"
     ]
    }
   ],
   "source": [
    "name=input('이름을 입력하세요:')\n",
    "age=input('나이를 입력하세요:')\n",
    "addr=input('주소를 입력하세요:')\n",
    "print('이름:',name,'\\n나이:',age,'\\n주소:',addr)"
   ]
  },
  {
   "cell_type": "code",
   "execution_count": 14,
   "metadata": {},
   "outputs": [
    {
     "name": "stdout",
     "output_type": "stream",
     "text": [
      "올해의 년도를 4자리로 입력하세요:2020\n",
      "당신이 내어난 년도를 4자리로 입력하세요:1995\n",
      "당신의 나이는 26\n"
     ]
    }
   ],
   "source": [
    "this_year=int(input('올해의 년도를 4자리로 입력하세요:'))\n",
    "born_year=int(input('당신이 내어난 년도를 4자리로 입력하세요:'))\n",
    "print('당신의 나이는 %d'%(this_year-born_year+1))"
   ]
  },
  {
   "cell_type": "code",
   "execution_count": 16,
   "metadata": {},
   "outputs": [
    {
     "name": "stdout",
     "output_type": "stream",
     "text": [
      "첫 번째 물건의 무게를 입력하시오 : 64.27\n",
      "두 번째 물건의 무게를 입력하시오 : 75.25\n",
      "현재 엘리베이터에 허용무게는 460.48\n"
     ]
    }
   ],
   "source": [
    "first_lug=float(input('첫 번째 물건의 무게를 입력하시오 : '))\n",
    "second_lug=float(input('두 번째 물건의 무게를 입력하시오 : '))\n",
    "\n",
    "print('현재 엘리베이터에 허용무게는 %.2f'%(600-first_lug-second_lug))"
   ]
  },
  {
   "cell_type": "code",
   "execution_count": 20,
   "metadata": {},
   "outputs": [
    {
     "name": "stdout",
     "output_type": "stream",
     "text": [
      "키를 입력하세요:174.9\n",
      "현재 체중을 입력하세요:73\n",
      "표준체중은 67.41 이고 비만도는 108.29 입니다. \n"
     ]
    }
   ],
   "source": [
    "height=float(input('키를 입력하세요:'))\n",
    "weight=float(input('현재 체중을 입력하세요:'))\n",
    "standard_weight=(height-100)*0.9\n",
    "criteria_fat=(weight/standard_weight)*100\n",
    "print('표준체중은 %.2f 이고 비만도는 %.2f 입니다. '%(standard_weight,criteria_fat))"
   ]
  },
  {
   "cell_type": "code",
   "execution_count": 26,
   "metadata": {},
   "outputs": [
    {
     "name": "stdout",
     "output_type": "stream",
     "text": [
      "이름:김개똥\n",
      "국어점수:1\n",
      "영어점수:2\n",
      "수학점수:2\n",
      "================= 학생 정보 =================\n",
      "이름\t국어\t영어\t수학\t합계\t평균\n",
      "김개똥 \t 1 \t 2 \t 2 \t 5 \t 1.67\n"
     ]
    }
   ],
   "source": [
    "student_name=input('이름:')\n",
    "Korean=int(input('국어점수:'))\n",
    "English=int(input('영어점수:'))\n",
    "Math=int(input('수학점수:'))\n",
    "sum_=Korean+English+Math\n",
    "mean_=sum_/3\n",
    "print('================= 학생 정보 =================\\n'\n",
    "     '이름\\t국어\\t영어\\t수학\\t합계\\t평균')\n",
    "print(student_name,'\\t',Korean,'\\t',English,'\\t',Math,'\\t',sum_,'\\t',round(mean_,2))"
   ]
  }
 ],
 "metadata": {
  "kernelspec": {
   "display_name": "tf-gpu",
   "language": "python",
   "name": "tf2.0-gpu"
  }
 },
 "nbformat": 4,
 "nbformat_minor": 4
}
