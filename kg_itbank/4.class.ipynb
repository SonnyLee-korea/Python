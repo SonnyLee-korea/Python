{
 "cells": [
  {
   "cell_type": "markdown",
   "metadata": {},
   "source": [
    "# 산술연산자"
   ]
  },
  {
   "cell_type": "code",
   "execution_count": 1,
   "metadata": {},
   "outputs": [
    {
     "name": "stdout",
     "output_type": "stream",
     "text": [
      "9 // 2 = 4\n",
      "9 % 2 = 1\n",
      "9 ** 2 = 81\n"
     ]
    }
   ],
   "source": [
    "num1=9;num2=2\n",
    "\n",
    "print(num1,'//',num2,'=',num1//num2)\n",
    "print(num1,'%',num2,'=',num1%num2)\n",
    "print(num1,'**',num2,'=',num1**num2)"
   ]
  },
  {
   "cell_type": "markdown",
   "metadata": {},
   "source": [
    "---\n",
    "# 관계연산자"
   ]
  },
  {
   "cell_type": "code",
   "execution_count": 2,
   "metadata": {},
   "outputs": [
    {
     "name": "stdout",
     "output_type": "stream",
     "text": [
      "su1>=su2: True\n",
      "su1<=su2: False\n",
      "su1==su2: False\n",
      "su1!=su2: True\n"
     ]
    }
   ],
   "source": [
    "su1=3.1\n",
    "su2=3\n",
    "print('su1>=su2:',(su1>=su2))\n",
    "print('su1<=su2:',(su1<=su2))\n",
    "print('su1==su2:',(su1==su2))\n",
    "print('su1!=su2:',(su1!=su2))"
   ]
  },
  {
   "cell_type": "code",
   "execution_count": 4,
   "metadata": {},
   "outputs": [
    {
     "name": "stdout",
     "output_type": "stream",
     "text": [
      "su1+1= 6 6\n",
      "su1-1= 5 5\n",
      "su1*su2= 25 25\n",
      "su1//su2= 5 5\n",
      "su1%su2= 0 0\n"
     ]
    }
   ],
   "source": [
    "su1=su2=5\n",
    "su1+=1\n",
    "print('su1+1=',su1,6) \n",
    "su1-=1\n",
    "print('su1-1=',su1,5)\n",
    "su1*=su2\n",
    "print('su1*su2=',su1,25)\n",
    "su1//=su2\n",
    "print('su1//su2=',su1,5)\n",
    "su1%=su2\n",
    "print('su1%su2=',su1,0)"
   ]
  },
  {
   "cell_type": "code",
   "execution_count": 5,
   "metadata": {},
   "outputs": [
    {
     "name": "stdout",
     "output_type": "stream",
     "text": [
      "30.75 30.75\n",
      "30 30\n",
      "3 3\n"
     ]
    }
   ],
   "source": [
    "su1=5\n",
    "su2=3\n",
    "su1**=su2\n",
    "su1-=2\n",
    "print(su1/4,123/4)\n",
    "print(su1//4,123//4)\n",
    "print(su1%4,123%4)"
   ]
  },
  {
   "cell_type": "markdown",
   "metadata": {},
   "source": [
    "---\n",
    "# 논리연산자"
   ]
  },
  {
   "cell_type": "code",
   "execution_count": 7,
   "metadata": {},
   "outputs": [
    {
     "name": "stdout",
     "output_type": "stream",
     "text": [
      "False False\n",
      "True True\n",
      "True True\n",
      "True True\n",
      "True True True True\n",
      "False False False False\n"
     ]
    }
   ],
   "source": [
    "print(False or False,False)\n",
    "print(True or True,True)\n",
    "print(False or True,True)\n",
    "print(True or True,True)\n",
    "\n",
    "print(not(0 or 0),not(False or False),True,True)\n",
    "print(not(1 or 1),not(True or True),False,False)"
   ]
  },
  {
   "cell_type": "code",
   "execution_count": 8,
   "metadata": {},
   "outputs": [
    {
     "name": "stdout",
     "output_type": "stream",
     "text": [
      "False False\n",
      "False False\n",
      "False False\n",
      "True True\n",
      "True True True True\n",
      "False False False False\n"
     ]
    }
   ],
   "source": [
    "print(False and False,False)\n",
    "print(True and False,False)\n",
    "print(False and True,False)\n",
    "print(True and True,True)\n",
    "\n",
    "print(not 0,not False,True,True)\n",
    "print(not 1,not True,False,False)"
   ]
  }
 ],
 "metadata": {
  "kernelspec": {
   "display_name": "tf-gpu",
   "language": "python",
   "name": "tf2.0-gpu"
  },
  "language_info": {
   "codemirror_mode": {
    "name": "ipython",
    "version": 3
   },
   "file_extension": ".py",
   "mimetype": "text/x-python",
   "name": "python",
   "nbconvert_exporter": "python",
   "pygments_lexer": "ipython3",
   "version": "3.7.2"
  }
 },
 "nbformat": 4,
 "nbformat_minor": 4
}
