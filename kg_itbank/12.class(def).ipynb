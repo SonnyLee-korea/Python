{
 "cells": [
  {
   "cell_type": "code",
   "execution_count": 6,
   "metadata": {},
   "outputs": [],
   "source": [
    "def x():\n",
    "    result,temp=0,0\n",
    "    result=int(input('수 입력:'))\n",
    "    while True:\n",
    "        temp=int(result%10)\n",
    "        result=int(result/10)\n",
    "        print(temp,end='')\n",
    "        if not result:\n",
    "            break\n",
    "    print('종료')"
   ]
  },
  {
   "cell_type": "code",
   "execution_count": null,
   "metadata": {},
   "outputs": [],
   "source": [
    "print('프로그램 시작')\n",
    "print('프로그램 종료')"
   ]
  },
  {
   "cell_type": "code",
   "execution_count": 12,
   "metadata": {},
   "outputs": [],
   "source": [
    "from reverse1 import x\n"
   ]
  },
  {
   "cell_type": "code",
   "execution_count": 14,
   "metadata": {},
   "outputs": [
    {
     "name": "stdout",
     "output_type": "stream",
     "text": [
      "dasd:1\n",
      "1ddddd\n"
     ]
    }
   ],
   "source": [
    "x()"
   ]
  },
  {
   "cell_type": "code",
   "execution_count": 19,
   "metadata": {},
   "outputs": [
    {
     "name": "stdout",
     "output_type": "stream",
     "text": [
      "음료 선택 \n",
      "1.콜라\n",
      "2.핫6\n",
      "3.포카리\n",
      "입력:4\n",
      "만들어 드세요\n"
     ]
    }
   ],
   "source": [
    "def sel_machine():\n",
    "    sel=0\n",
    "    sel=int(input('음료 선택 \\n1.콜라\\n2.핫6\\n3.포카리\\n입력:'))\n",
    "    if sel==1:\n",
    "        print('콜라')\n",
    "    elif sel==2:\n",
    "        print('핫식스')\n",
    "    elif sel==3:\n",
    "        print('포카리')\n",
    "    else:print('만들어 드세요')\n",
    "    \n",
    "    if sel>=1 and sel<=3:\n",
    "        print('맛있게 드세요')\n",
    "sel_machine()"
   ]
  },
  {
   "cell_type": "code",
   "execution_count": 20,
   "metadata": {},
   "outputs": [
    {
     "data": {
      "text/plain": [
       "array([[0.51575304, 0.08630789, 0.18742856, 0.74348964, 0.77907574],\n",
       "       [0.60174651, 0.09088495, 0.64333362, 0.54076177, 0.68582997]])"
      ]
     },
     "execution_count": 20,
     "metadata": {},
     "output_type": "execute_result"
    }
   ],
   "source": [
    "import numpy as np\n",
    "np.random.random((2,5))"
   ]
  },
  {
   "cell_type": "code",
   "execution_count": 21,
   "metadata": {},
   "outputs": [
    {
     "data": {
      "text/plain": [
       "4"
      ]
     },
     "execution_count": 21,
     "metadata": {},
     "output_type": "execute_result"
    }
   ],
   "source": [
    "len('sdsd')"
   ]
  },
  {
   "cell_type": "code",
   "execution_count": 23,
   "metadata": {},
   "outputs": [
    {
     "data": {
      "text/plain": [
       "array([0.  , 0.25, 0.5 , 0.75, 1.  , 1.25, 1.5 , 1.75, 2.  ])"
      ]
     },
     "execution_count": 23,
     "metadata": {},
     "output_type": "execute_result"
    }
   ],
   "source": [
    "np.linspace(0,2,9)"
   ]
  },
  {
   "cell_type": "code",
   "execution_count": 24,
   "metadata": {},
   "outputs": [
    {
     "data": {
      "text/plain": [
       "array([[7, 7],\n",
       "       [7, 7]])"
      ]
     },
     "execution_count": 24,
     "metadata": {},
     "output_type": "execute_result"
    }
   ],
   "source": [
    "np.full((2,2),7)"
   ]
  },
  {
   "cell_type": "code",
   "execution_count": 25,
   "metadata": {},
   "outputs": [
    {
     "data": {
      "text/plain": [
       "array([[1., 0.],\n",
       "       [0., 1.]])"
      ]
     },
     "execution_count": 25,
     "metadata": {},
     "output_type": "execute_result"
    }
   ],
   "source": [
    "np.eye(2)"
   ]
  },
  {
   "cell_type": "code",
   "execution_count": 26,
   "metadata": {},
   "outputs": [
    {
     "data": {
      "text/plain": [
       "array([[0., 0., 0.],\n",
       "       [0., 0., 0.]])"
      ]
     },
     "execution_count": 26,
     "metadata": {},
     "output_type": "execute_result"
    }
   ],
   "source": [
    "np.empty([2,3])"
   ]
  },
  {
   "cell_type": "code",
   "execution_count": 28,
   "metadata": {},
   "outputs": [],
   "source": [
    "a=np.zeros((2,3))"
   ]
  },
  {
   "cell_type": "code",
   "execution_count": 37,
   "metadata": {},
   "outputs": [
    {
     "data": {
      "text/plain": [
       "array([[0, 0, 0],\n",
       "       [0, 0, 0]], dtype=int64)"
      ]
     },
     "execution_count": 37,
     "metadata": {},
     "output_type": "execute_result"
    }
   ],
   "source": [
    "a.astype(np.int64)"
   ]
  },
  {
   "cell_type": "code",
   "execution_count": 38,
   "metadata": {},
   "outputs": [],
   "source": [
    "a=np.full((2,3),3)"
   ]
  },
  {
   "cell_type": "code",
   "execution_count": 42,
   "metadata": {},
   "outputs": [
    {
     "data": {
      "text/plain": [
       "array([6, 6, 6])"
      ]
     },
     "execution_count": 42,
     "metadata": {},
     "output_type": "execute_result"
    }
   ],
   "source": [
    "a.sum(axis=0)"
   ]
  },
  {
   "cell_type": "code",
   "execution_count": 44,
   "metadata": {},
   "outputs": [
    {
     "data": {
      "text/plain": [
       "array([[3, 3],\n",
       "       [3, 3],\n",
       "       [3, 3]])"
      ]
     },
     "execution_count": 44,
     "metadata": {},
     "output_type": "execute_result"
    }
   ],
   "source": [
    "a.reshape(3,2)"
   ]
  },
  {
   "cell_type": "code",
   "execution_count": 45,
   "metadata": {},
   "outputs": [],
   "source": [
    "a.resize(2,3)"
   ]
  },
  {
   "cell_type": "code",
   "execution_count": 47,
   "metadata": {},
   "outputs": [
    {
     "data": {
      "text/plain": [
       "array([[3, 3],\n",
       "       [3, 3],\n",
       "       [3, 3]])"
      ]
     },
     "execution_count": 47,
     "metadata": {},
     "output_type": "execute_result"
    }
   ],
   "source": [
    "a.reshape(3,2)"
   ]
  },
  {
   "cell_type": "code",
   "execution_count": 49,
   "metadata": {},
   "outputs": [],
   "source": [
    "b=np.full((2,3),4)"
   ]
  },
  {
   "cell_type": "code",
   "execution_count": 53,
   "metadata": {},
   "outputs": [
    {
     "data": {
      "text/plain": [
       "array([[3, 3, 3],\n",
       "       [3, 3, 3],\n",
       "       [4, 4, 4],\n",
       "       [4, 4, 4]])"
      ]
     },
     "execution_count": 53,
     "metadata": {},
     "output_type": "execute_result"
    }
   ],
   "source": [
    "np.concatenate((a,b),axis=0)"
   ]
  },
  {
   "cell_type": "code",
   "execution_count": 60,
   "metadata": {},
   "outputs": [
    {
     "data": {
      "text/plain": [
       "array([0.38118027, 0.50683923, 0.28371544])"
      ]
     },
     "execution_count": 60,
     "metadata": {},
     "output_type": "execute_result"
    }
   ],
   "source": [
    "np.random.random(3)"
   ]
  },
  {
   "cell_type": "code",
   "execution_count": 61,
   "metadata": {},
   "outputs": [
    {
     "name": "stdout",
     "output_type": "stream",
     "text": [
      "2와 3의 평균\n",
      "값은 2.5입니다\n"
     ]
    }
   ],
   "source": [
    "def showAvg(a,b,c):\n",
    "    print('{}와 {}의 평균'.format(a,b))\n",
    "    print('값은 {}입니다'.format(round(c,1)))\n",
    "\n",
    "def avg(j,k):\n",
    "    total=j+k\n",
    "    f=total/2\n",
    "    return f\n",
    "\n",
    "i=2\n",
    "j=3\n",
    "f=avg(i,j)\n",
    "showAvg(i,j,f)"
   ]
  },
  {
   "cell_type": "code",
   "execution_count": 62,
   "metadata": {},
   "outputs": [
    {
     "name": "stdout",
     "output_type": "stream",
     "text": [
      "func2:a=10,b=100\n",
      "func1 : a=5,b=10\n"
     ]
    }
   ],
   "source": [
    "def func2(a,b):\n",
    "    a+=5\n",
    "    b*=10\n",
    "    print('func2:a={},b={}'.format(a,b))\n",
    "def func1():\n",
    "    a=5\n",
    "    b=10\n",
    "    func2(a,b)\n",
    "    print('func1 : a={},b={}'.format(a,b))\n",
    "func1()"
   ]
  },
  {
   "cell_type": "code",
   "execution_count": 66,
   "metadata": {},
   "outputs": [
    {
     "name": "stdout",
     "output_type": "stream",
     "text": [
      "None\n"
     ]
    }
   ],
   "source": [
    "def aa(a):\n",
    "    if a==1:\n",
    "        return\n",
    "        print('1입력')\n",
    "    print('다음 문장 실행')\n",
    "\n",
    "a=aa(1)\n",
    "print(a)\n",
    "\n"
   ]
  },
  {
   "cell_type": "code",
   "execution_count": 70,
   "metadata": {},
   "outputs": [],
   "source": [
    "def move():\n",
    "    pass\n",
    "def attack():\n",
    "    pass\n",
    "def defense():\n",
    "    pass\n",
    "\n",
    "move()\n",
    "attack()\n",
    "defense()"
   ]
  },
  {
   "cell_type": "code",
   "execution_count": 72,
   "metadata": {},
   "outputs": [
    {
     "name": "stdout",
     "output_type": "stream",
     "text": [
      "1이 아니에요\n"
     ]
    }
   ],
   "source": [
    "def a(a):\n",
    "    if a==1:\n",
    "        pass\n",
    "    else:\n",
    "        print('1이 아니에요')\n",
    "a(2)\n",
    "\n"
   ]
  },
  {
   "cell_type": "code",
   "execution_count": null,
   "metadata": {},
   "outputs": [],
   "source": [
    "def _1(value):\n",
    "    if value%2==0:\n",
    "        print('짝수입니다')\n",
    "    else:\n",
    "        print('홀수입니다')\n",
    "    return value\n",
    "\n",
    "def _2(value):\n",
    "    if value%3==0:\n",
    "        print('3의 배수입니다')\n",
    "    else:\n",
    "        print('3의 배수가 아닙니다')\n",
    "    return value\n",
    "\n",
    "def _3(value):\n",
    "    while True:\n",
    "    b=int(value%10)\n",
    "    value=int(value//10)\n",
    "    return b\n",
    "\n",
    "def sel_machine(sel):\n",
    "    if sel==1:\n",
    "        print('콜라')\n",
    "    elif sel==2:\n",
    "        print('핫식스')\n",
    "    elif sel==3:\n",
    "        print('포카리')\n",
    "    else:print('만들어 드세요')\n",
    "    \n",
    "    if sel>=1 and sel<=3:\n",
    "        print('맛있게 드세요')\n",
    "sel=int(input('음료 선택 \\n1.콜라\\n2.핫6\\n3.포카리\\n입력:'))\n",
    "    \n",
    "    "
   ]
  },
  {
   "cell_type": "code",
   "execution_count": 73,
   "metadata": {},
   "outputs": [
    {
     "name": "stdout",
     "output_type": "stream",
     "text": [
      "100\n",
      "200\n"
     ]
    }
   ],
   "source": [
    "def func1():\n",
    "    a=100\n",
    "    print(a)\n",
    "def func2():\n",
    "    a=200\n",
    "    print(a)\n",
    "    \n",
    "func1()\n",
    "func2()"
   ]
  },
  {
   "cell_type": "code",
   "execution_count": 74,
   "metadata": {},
   "outputs": [
    {
     "name": "stdout",
     "output_type": "stream",
     "text": [
      "200\n",
      "200\n"
     ]
    }
   ],
   "source": [
    "def func1():\n",
    "    \n",
    "    print(a)\n",
    "def func2():\n",
    "\n",
    "    print(a)\n",
    "    \n",
    "a=200\n",
    "func1()\n",
    "func2()"
   ]
  },
  {
   "cell_type": "code",
   "execution_count": 75,
   "metadata": {},
   "outputs": [
    {
     "name": "stdout",
     "output_type": "stream",
     "text": [
      "123\n",
      "200\n"
     ]
    }
   ],
   "source": [
    "def func1():\n",
    "    a=123\n",
    "    print(a)\n",
    "def func2():\n",
    "    print(a)\n",
    "    \n",
    "a=200\n",
    "func1()\n",
    "func2()"
   ]
  },
  {
   "cell_type": "code",
   "execution_count": 77,
   "metadata": {},
   "outputs": [
    {
     "name": "stdout",
     "output_type": "stream",
     "text": [
      "200\n",
      "1222\n",
      "1222\n"
     ]
    }
   ],
   "source": [
    "def func1():\n",
    "    global a\n",
    "    a=1222\n",
    "    print(a)\n",
    "def func2():\n",
    "    print(a)\n",
    "\n",
    "a=200\n",
    "func2()\n",
    "func1()\n",
    "func2()"
   ]
  },
  {
   "cell_type": "code",
   "execution_count": 92,
   "metadata": {},
   "outputs": [
    {
     "name": "stdout",
     "output_type": "stream",
     "text": [
      "55\n"
     ]
    }
   ],
   "source": [
    "num=10\n",
    "sum_=0\n",
    "\n",
    "def display():\n",
    "    sumFunc()\n",
    "    print(sum_)\n",
    "def sumFunc():\n",
    "    global sum_\n",
    "    for i in range(num+1):\n",
    "        sum_+=i\n",
    "display()\n"
   ]
  },
  {
   "cell_type": "code",
   "execution_count": 94,
   "metadata": {},
   "outputs": [
    {
     "name": "stdout",
     "output_type": "stream",
     "text": [
      "130\n",
      "60\n"
     ]
    }
   ],
   "source": [
    "def sum_func(x1,x2,x3=100):\n",
    "    result=0\n",
    "    result=x1+x2+x3\n",
    "    return result\n",
    "def display():\n",
    "    Sum=0\n",
    "    a,b,c=10,20,30\n",
    "    Sum=sum_func(a,b)\n",
    "    print(Sum)\n",
    "    Sum=sum_func(a,b,c)\n",
    "    print(Sum)\n",
    "display()"
   ]
  },
  {
   "cell_type": "code",
   "execution_count": 98,
   "metadata": {},
   "outputs": [
    {
     "name": "stdout",
     "output_type": "stream",
     "text": [
      "1.기본급\n",
      "2.일한 날짜 입력\n",
      "2\n",
      "일한 날짜 입력(몇일):12\n",
      "당신의 급여:816000원 입니다\n"
     ]
    }
   ],
   "source": [
    "def alpha(day=30,time=8,won=8500):\n",
    "    result=day*time*8500\n",
    "    return result\n",
    "def display():\n",
    "    num=int(input('1.기본급\\n2.일한 날짜 입력\\n'))\n",
    "    if num==1:\n",
    "        result=alpha()\n",
    "    elif num==2:\n",
    "        day=int(input('일한 날짜 입력(몇일):'))\n",
    "        result=alpha(day)\n",
    "    print('당신의 급여:{}원 입니다'.format(result))\n",
    "display()"
   ]
  },
  {
   "cell_type": "code",
   "execution_count": 100,
   "metadata": {},
   "outputs": [
    {
     "name": "stdout",
     "output_type": "stream",
     "text": [
      "type: <class 'tuple'>\n",
      "(10, 20)\n",
      "10\n",
      "20\n",
      "30\n",
      "type: <class 'tuple'>\n",
      "(10, 20, 30, 40)\n",
      "10\n",
      "20\n",
      "30\n",
      "40\n",
      "100\n"
     ]
    }
   ],
   "source": [
    "def sum_func(*par):\n",
    "    result=0\n",
    "    print('type:',type(par))\n",
    "    print(par)\n",
    "    for num in par:\n",
    "        result=result+num\n",
    "        print(num)\n",
    "    return result\n",
    "sum_=0\n",
    "sum_=sum_func(10,20)\n",
    "print(sum_)\n",
    "sum_=sum_func(10,20,30,40)\n",
    "print(sum_)"
   ]
  },
  {
   "cell_type": "code",
   "execution_count": 103,
   "metadata": {},
   "outputs": [
    {
     "name": "stdout",
     "output_type": "stream",
     "text": [
      "<class 'dict'>\n",
      "a 123\n",
      "b 8\n",
      "c 123555\n"
     ]
    }
   ],
   "source": [
    "def dic_func(**par):\n",
    "    print(type(par))\n",
    "    for k in par.keys():\n",
    "        print(k,par[k])\n",
    "dic_func(a=123,b=8,c=123555)"
   ]
  },
  {
   "cell_type": "code",
   "execution_count": 104,
   "metadata": {},
   "outputs": [
    {
     "name": "stdout",
     "output_type": "stream",
     "text": [
      "20 40 60\n",
      "(20, 40, 60) <class 'tuple'>\n"
     ]
    }
   ],
   "source": [
    "def change(a,b,c):\n",
    "    return a+10,b+20,c+30\n",
    "a,b,c=change(10,20,30)\n",
    "d=change(10,20,30)\n",
    "print(a,b,c)\n",
    "print(d,type(d))"
   ]
  },
  {
   "cell_type": "code",
   "execution_count": 105,
   "metadata": {},
   "outputs": [
    {
     "name": "stdout",
     "output_type": "stream",
     "text": [
      "10 20\n",
      "20 10\n"
     ]
    }
   ],
   "source": [
    "def swap(x,y):\n",
    "    return y,x\n",
    "a=10\n",
    "b=20\n",
    "print(a,b)\n",
    "a,b=swap(a,b)\n",
    "print(a,b)"
   ]
  },
  {
   "cell_type": "code",
   "execution_count": 109,
   "metadata": {
    "scrolled": true
   },
   "outputs": [
    {
     "name": "stdout",
     "output_type": "stream",
     "text": [
      "[20, 10]\n"
     ]
    }
   ],
   "source": [
    "swap=lambda a,b:[b,a]\n",
    "a=swap(10,20)\n",
    "print(a)"
   ]
  },
  {
   "cell_type": "code",
   "execution_count": 110,
   "metadata": {},
   "outputs": [
    {
     "name": "stdout",
     "output_type": "stream",
     "text": [
      "100\n",
      "15\n",
      "인자값 없는 람다\n"
     ]
    }
   ],
   "source": [
    "lam=lambda a : a*10\n",
    "hap=lambda a,b: a+b\n",
    "nodata=lambda : print('인자값 없는 람다')\n",
    "print(lam(10))\n",
    "print(hap(5,10))\n",
    "nodata()"
   ]
  },
  {
   "cell_type": "code",
   "execution_count": 114,
   "metadata": {},
   "outputs": [],
   "source": [
    "add_=lambda a,b : a+b\n",
    "sub_=lambda a,b : a-b\n",
    "mul_=lambda a,b : a*b\n",
    "div_=lambda a,b : a/b\n",
    "\n",
    "def _2(std_fee=500):\n",
    "    print('1. 환승안함')\n",
    "    print('2. 환승 함')\n",
    "    print('3. 장거리')\n",
    "    \n",
    "     \n",
    "    cho=int(input('번호를 선택하시오:'))\n",
    "    if cho==1:\n",
    "        print('요금은 {} 입니다'.format(std_fee))\n",
    "    \n",
    "    elif cho==2:\n",
    "        des=input('목적지를 입력하시오:')\n",
    "        count_trans=int(input('환승 수를 입력하시오:'))\n",
    "        amount=std_fee\n",
    "        for i in range(count_trans):\n",
    "            amount*=2\n",
    "        if amount>10000:\n",
    "            print('{}까지 요금: 10000원입니다'.format(des))\n",
    "        else:\n",
    "            print('{}까지 요금: {}원 입니다'.format(des,amount))\n",
    "        \n",
    "    \n",
    "    elif cho==3:\n",
    "        print('장거리 요금: 10000원입니다')"
   ]
  },
  {
   "cell_type": "code",
   "execution_count": 118,
   "metadata": {},
   "outputs": [
    {
     "name": "stdout",
     "output_type": "stream",
     "text": [
      "1. 환승안함\n",
      "2. 환승 함\n",
      "3. 장거리\n",
      "번호를 선택하시오:3\n",
      "장거리 요금: 10000원입니다\n"
     ]
    }
   ],
   "source": [
    "_2()"
   ]
  }
 ],
 "metadata": {
  "kernelspec": {
   "display_name": "tf-gpu",
   "language": "python",
   "name": "tf2.0-gpu"
  },
  "language_info": {
   "codemirror_mode": {
    "name": "ipython",
    "version": 3
   },
   "file_extension": ".py",
   "mimetype": "text/x-python",
   "name": "python",
   "nbconvert_exporter": "python",
   "pygments_lexer": "ipython3",
   "version": "3.7.2"
  }
 },
 "nbformat": 4,
 "nbformat_minor": 4
}
