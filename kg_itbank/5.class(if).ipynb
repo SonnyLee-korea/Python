{
 "cells": [
  {
   "cell_type": "code",
   "execution_count": 3,
   "metadata": {},
   "outputs": [
    {
     "name": "stdout",
     "output_type": "stream",
     "text": [
      "1.easy game\n",
      "2.hard game\n",
      "3.exit\n",
      "선택:3\n",
      "game exit\n"
     ]
    }
   ],
   "source": [
    "print('1.easy game')\n",
    "print('2.hard game')\n",
    "print('3.exit')\n",
    "\n",
    "num1=int(input('선택:'))\n",
    "if num1==1:\n",
    "    print('easy game start')\n",
    "elif num1==2:\n",
    "    print('hard game start')\n",
    "else :\n",
    "    print('game exit')"
   ]
  },
  {
   "cell_type": "code",
   "execution_count": 5,
   "metadata": {},
   "outputs": [],
   "source": [
    "num1=10\n",
    "num2=5\n",
    "\n",
    "if num1<num2:\n",
    "    print('num1 이 num2보다 크다')"
   ]
  },
  {
   "cell_type": "code",
   "execution_count": 7,
   "metadata": {},
   "outputs": [
    {
     "name": "stdout",
     "output_type": "stream",
     "text": [
      "수 입력:1\n",
      "나는 다음 문장\n"
     ]
    }
   ],
   "source": [
    "num1=int(input('수 입력:'))\n",
    "if num1%2==0:\n",
    "    print('num1:',num1,'짝수다')\n",
    "print('나는 다음 문장')"
   ]
  },
  {
   "cell_type": "code",
   "execution_count": 15,
   "metadata": {},
   "outputs": [
    {
     "name": "stdout",
     "output_type": "stream",
     "text": [
      "수 입력:1\n",
      "나는 다음 문장\n"
     ]
    }
   ],
   "source": [
    "num1=int(input('수 입력:'))\n",
    "if num1%2==0:\n",
    "    print('num1:',num1,'짝수다')\n",
    "    print('num1:',num1,\"2의 배수이다\")\n",
    "print('나는 다음 문장')"
   ]
  },
  {
   "cell_type": "code",
   "execution_count": 31,
   "metadata": {},
   "outputs": [
    {
     "name": "stdout",
     "output_type": "stream",
     "text": [
      "현재 날짜를 입력하시오:32\n",
      "error\n"
     ]
    }
   ],
   "source": [
    "day=int(input('현재 날짜를 입력하시오:'))\n",
    "if day>31 or day<1:\n",
    "    print('error')\n",
    "elif day%7==1:\n",
    "    print('월요일')\n",
    "elif day%7==2:\n",
    "    print('화요일')\n",
    "elif day%7==3:\n",
    "    print('수요일')\n",
    "elif day%7==4:\n",
    "    print('목요일')\n",
    "elif day%7==5:\n",
    "    print('금요일')\n",
    "elif day%7==6:\n",
    "    print('토요일')\n",
    "elif day%7==0:\n",
    "    print('일요일')"
   ]
  },
  {
   "cell_type": "code",
   "execution_count": 65,
   "metadata": {},
   "outputs": [],
   "source": [
    "def times_3(data):\n",
    "    if data%3==0:\n",
    "        print(data)\n",
    "        \n",
    "def specific_value(data):\n",
    "    if data<0:\n",
    "        data=-data\n",
    "        print(data)\n",
    "    else:\n",
    "        print(data)\n",
    "        \n",
    "def classify_number(data):\n",
    "    if data%2==0:\n",
    "        print(data,'는 짝수입니다.')\n",
    "    else :\n",
    "        print(data,'는 홀수입니다.')\n",
    "\n",
    "def more_2_value(x,y):\n",
    "    if x-y>0:\n",
    "        print(x)\n",
    "    else :\n",
    "        print(y)\n",
    "        \n",
    "def more_3_value(x,y,z):\n",
    "    print(max(x,y,z))\n",
    "    \n",
    "def value_2_even(x,y):\n",
    "    if max(x,y)%2==0:\n",
    "        print(max(x,y))\n",
    "        \n",
    "def value_2_sum(x,y):\n",
    "    if (x+y)%2==0:\n",
    "        if (x+y)%3==0:\n",
    "            print(x+y)"
   ]
  },
  {
   "cell_type": "code",
   "execution_count": 3,
   "metadata": {},
   "outputs": [
    {
     "name": "stdout",
     "output_type": "stream",
     "text": [
      "수 입력:1\n",
      "1입력\n"
     ]
    }
   ],
   "source": [
    "num=int(input('수 입력:'))\n",
    "if num==1:\n",
    "    print('1입력')\n",
    "else :\n",
    "    print('1이 아닌 값 입력')"
   ]
  },
  {
   "cell_type": "code",
   "execution_count": 5,
   "metadata": {},
   "outputs": [
    {
     "name": "stdout",
     "output_type": "stream",
     "text": [
      "찾을 숫자 입력:7\n",
      "찾고자 하는 숫자가 없습니다.\n"
     ]
    }
   ],
   "source": [
    "arr=[1,2,3,4,5]\n",
    "na=int(input('찾을 숫자 입력:'))\n",
    "if na in arr:\n",
    "    print('arr:',arr,'찾는 숫자가 존재합니다:',na)\n",
    "else :\n",
    "    print('찾고자 하는 숫자가 없습니다.')"
   ]
  },
  {
   "cell_type": "code",
   "execution_count": 9,
   "metadata": {},
   "outputs": [
    {
     "name": "stdout",
     "output_type": "stream",
     "text": [
      "찾고자 하는 문자열 입력:e\n",
      "찾는 문자열 존재\n"
     ]
    }
   ],
   "source": [
    "st='Hello Python Fun'\n",
    "na=input('찾고자 하는 문자열 입력:')\n",
    "if na in st:\n",
    "    print('찾는 문자열 존재')\n",
    "else:\n",
    "    print('찾는 문자열 존재하지 않는다')"
   ]
  },
  {
   "cell_type": "code",
   "execution_count": 10,
   "metadata": {},
   "outputs": [
    {
     "name": "stdout",
     "output_type": "stream",
     "text": [
      "저장할 ID 입력:ㅁ\n",
      "인증프로그램입니다\n",
      "ID 와 PW를 입력하세요\n",
      "ID 입력ㅁ\n",
      "인증 통과\n"
     ]
    }
   ],
   "source": [
    "old_id=input('저장할 ID 입력:')\n",
    "print('인증프로그램입니다')\n",
    "print('ID 와 PW를 입력하세요')\n",
    "new_id=input('ID 입력')\n",
    "if old_id==new_id:\n",
    "    print('인증 통과')\n",
    "else :\n",
    "    print('인증 실패')"
   ]
  },
  {
   "cell_type": "code",
   "execution_count": 13,
   "metadata": {},
   "outputs": [
    {
     "name": "stdout",
     "output_type": "stream",
     "text": [
      "수 입력:-1\n",
      "num은 음수입니다\n",
      "다음문장 실행\n"
     ]
    }
   ],
   "source": [
    "num=int(input('수 입력:'))\n",
    "if num>0:\n",
    "    if num%2==0:\n",
    "        print('num은 양의 짝수 입니다')\n",
    "    else :\n",
    "        print('num은 양의 홀수 입니다')\n",
    "else :\n",
    "    print('num은 음수입니다')\n",
    "print('다음문장 실행')"
   ]
  },
  {
   "cell_type": "markdown",
   "metadata": {},
   "source": [
    "---\n",
    "# Quiz"
   ]
  },
  {
   "cell_type": "code",
   "execution_count": 2,
   "metadata": {},
   "outputs": [],
   "source": [
    "#1giga=1024mega\n",
    "#1mega=1024kbyte\n",
    "#1kyte=1024byte\n",
    "def convert_data(data,type_):\n",
    "    if type_=='byte':\n",
    "        print(data*(1024**3),'byte')\n",
    "    elif type_=='kbyte':\n",
    "        print(data*(1024**2),'kbyte')\n",
    "    elif type_=='mbyte':\n",
    "        print(data*1024,'mbyte')\n",
    "    else :\n",
    "        print('없는 단위 입니다.')\n",
    "    \n",
    "def verification_program(ID,PW):\n",
    "    origin_id='hod'\n",
    "    origin_pw='123'\n",
    "    if ID!=origin_id:\n",
    "        print('등록되지 않은 아이디 입니다')\n",
    "    elif PW!=origin_pw:\n",
    "        print('비밀번호가 틀렸습니다')\n",
    "    else :\n",
    "        print('인증 통과')"
   ]
  },
  {
   "cell_type": "code",
   "execution_count": 4,
   "metadata": {},
   "outputs": [
    {
     "name": "stdout",
     "output_type": "stream",
     "text": [
      "기가바이트를 입력하시오:2\n",
      "원하는 단위 크기를 선택하시오[byte,kbyte,mbyte]:mbyte\n",
      "2048 mbyte\n"
     ]
    }
   ],
   "source": [
    "data=int(input('기가바이트를 입력하시오:'))\n",
    "type_=input('원하는 단위 크기를 선택하시오[byte,kbyte,mbyte]:')\n",
    "convert_data(data,type_)"
   ]
  },
  {
   "cell_type": "code",
   "execution_count": 6,
   "metadata": {},
   "outputs": [
    {
     "name": "stdout",
     "output_type": "stream",
     "text": [
      "아이디를 입력하시오:aw\n",
      "패스워드를 입력하시오:ww\n",
      "등록되지 않은 아이디 입니다\n"
     ]
    }
   ],
   "source": [
    "ID=input('아이디를 입력하시오:')\n",
    "PW=input('패스워드를 입력하시오:')\n",
    "verification_program(ID,PW)"
   ]
  },
  {
   "cell_type": "markdown",
   "metadata": {},
   "source": [
    "---"
   ]
  },
  {
   "cell_type": "code",
   "execution_count": 14,
   "metadata": {},
   "outputs": [
    {
     "name": "stdout",
     "output_type": "stream",
     "text": [
      "수 입력:1\n",
      "0보다 큰 수 입력\n"
     ]
    }
   ],
   "source": [
    "num=int(input('수 입력:'))\n",
    "if num>100:\n",
    "    print('100보다 큰 수 입력')\n",
    "elif num>50:\n",
    "    print('50보다 큰 수 입력')\n",
    "elif num>0:\n",
    "    print('0보다 큰 수 입력')\n",
    "else :\n",
    "    print('그 외의 값 입력')"
   ]
  },
  {
   "cell_type": "code",
   "execution_count": 60,
   "metadata": {},
   "outputs": [],
   "source": [
    "def calculation_grade(name_,id_,data):\n",
    "    mean_=sum(data)/len(data)\n",
    "    if mean_>=90:\n",
    "        print('{}학번을 가진 {}학생은 성적이{} 입니다'.format(id_,name_,'A'))\n",
    "    elif mean_>=80:\n",
    "        print('{}학번을 가진 {}학생은 성적이{} 입니다'.format(id_,name_,'B'))\n",
    "    elif mean_>=70:\n",
    "        print('{}학번을 가진 {}학생은 성적이{} 입니다'.format(id_,name_,'C'))\n",
    "    elif mean_>=60:\n",
    "        print('{}학번을 가진 {}학생은 성적이{} 입니다'.format(id_,name_,'D'))\n",
    "    elif mean_<60:\n",
    "        print('{}학번을 가진 {}학생은 성적이{} 입니다'.format(id_,name_,'D'))\n",
    "    else :\n",
    "        print('잘못된 결과')\n",
    "    \n",
    "def coffee(count_):\n",
    "    if count_>10:\n",
    "        print('커피 가격은 {}입니다'.format((2000*10)+1500*(count_-10)))\n",
    "    elif count_<=10:\n",
    "        print('커피 가격은 {}입니다'.format(2000*count_))\n",
    "    elif count_<0:\n",
    "        print('잘못된 결과')\n",
    "        \n",
    "def integer_trans(value):\n",
    "    if value==0:\n",
    "        print('0은 3의 배수도 4의 배수도 아닙니다')\n",
    "    elif value%3==0 and value%4==0:\n",
    "        print('3의 배수이면서, 4의 배수입니다')\n",
    "    elif value%3==0:\n",
    "        print('3의 배수입니다')\n",
    "    elif value%4==0:\n",
    "        print('4의 배수입니다')\n",
    "    elif value%3!=0 and value%4!=0:\n",
    "        print('3의 배수도, 4의 배수도 아닙니다')\n",
    "        \n",
    "        \n",
    "def airplane_fee(time_):\n",
    "    if time_<0:\n",
    "        print('잘못된 결과')\n",
    "    elif time_>=0 and time_< 30:\n",
    "        print('비행기 요금은 {}입니다'.format(30000))\n",
    "    else:\n",
    "        q=time_-30\n",
    "        w=q-(q%10)\n",
    "        e=w//10\n",
    "        print('비행기 요금은 {}입니다'.format(30000+(5000*(e+1))))\n",
    "    "
   ]
  },
  {
   "cell_type": "code",
   "execution_count": 61,
   "metadata": {},
   "outputs": [
    {
     "name": "stdout",
     "output_type": "stream",
     "text": [
      "비행기 요금은 45000입니다\n"
     ]
    }
   ],
   "source": [
    "airplane_fee(51)"
   ]
  },
  {
   "cell_type": "code",
   "execution_count": null,
   "metadata": {},
   "outputs": [],
   "source": []
  }
 ],
 "metadata": {
  "kernelspec": {
   "display_name": "tf-gpu",
   "language": "python",
   "name": "tf2.0-gpu"
  }
 },
 "nbformat": 4,
 "nbformat_minor": 4
}
