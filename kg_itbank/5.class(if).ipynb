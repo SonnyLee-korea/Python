{
 "cells": [
  {
   "cell_type": "code",
   "execution_count": 3,
   "metadata": {},
   "outputs": [
    {
     "name": "stdout",
     "output_type": "stream",
     "text": [
      "1.easy game\n",
      "2.hard game\n",
      "3.exit\n",
      "선택:3\n",
      "game exit\n"
     ]
    }
   ],
   "source": [
    "print('1.easy game')\n",
    "print('2.hard game')\n",
    "print('3.exit')\n",
    "\n",
    "num1=int(input('선택:'))\n",
    "if num1==1:\n",
    "    print('easy game start')\n",
    "elif num1==2:\n",
    "    print('hard game start')\n",
    "else :\n",
    "    print('game exit')"
   ]
  },
  {
   "cell_type": "code",
   "execution_count": 5,
   "metadata": {},
   "outputs": [],
   "source": [
    "num1=10\n",
    "num2=5\n",
    "\n",
    "if num1<num2:\n",
    "    print('num1 이 num2보다 크다')"
   ]
  },
  {
   "cell_type": "code",
   "execution_count": 7,
   "metadata": {},
   "outputs": [
    {
     "name": "stdout",
     "output_type": "stream",
     "text": [
      "수 입력:1\n",
      "나는 다음 문장\n"
     ]
    }
   ],
   "source": [
    "num1=int(input('수 입력:'))\n",
    "if num1%2==0:\n",
    "    print('num1:',num1,'짝수다')\n",
    "print('나는 다음 문장')"
   ]
  },
  {
   "cell_type": "code",
   "execution_count": 15,
   "metadata": {},
   "outputs": [
    {
     "name": "stdout",
     "output_type": "stream",
     "text": [
      "수 입력:1\n",
      "나는 다음 문장\n"
     ]
    }
   ],
   "source": [
    "num1=int(input('수 입력:'))\n",
    "if num1%2==0:\n",
    "    print('num1:',num1,'짝수다')\n",
    "    print('num1:',num1,\"2의 배수이다\")\n",
    "print('나는 다음 문장')"
   ]
  },
  {
   "cell_type": "code",
   "execution_count": 31,
   "metadata": {},
   "outputs": [
    {
     "name": "stdout",
     "output_type": "stream",
     "text": [
      "현재 날짜를 입력하시오:32\n",
      "error\n"
     ]
    }
   ],
   "source": [
    "day=int(input('현재 날짜를 입력하시오:'))\n",
    "if day>31 or day<1:\n",
    "    print('error')\n",
    "elif day%7==1:\n",
    "    print('월요일')\n",
    "elif day%7==2:\n",
    "    print('화요일')\n",
    "elif day%7==3:\n",
    "    print('수요일')\n",
    "elif day%7==4:\n",
    "    print('목요일')\n",
    "elif day%7==5:\n",
    "    print('금요일')\n",
    "elif day%7==6:\n",
    "    print('토요일')\n",
    "elif day%7==0:\n",
    "    print('일요일')"
   ]
  },
  {
   "cell_type": "code",
   "execution_count": 65,
   "metadata": {},
   "outputs": [],
   "source": [
    "def times_3(data):\n",
    "    if data%3==0:\n",
    "        print(data)\n",
    "        \n",
    "def specific_value(data):\n",
    "    if data<0:\n",
    "        data=-data\n",
    "        print(data)\n",
    "    else:\n",
    "        print(data)\n",
    "        \n",
    "def classify_number(data):\n",
    "    if data%2==0:\n",
    "        print(data,'는 짝수입니다.')\n",
    "    else :\n",
    "        print(data,'는 홀수입니다.')\n",
    "\n",
    "def more_2_value(x,y):\n",
    "    if x-y>0:\n",
    "        print(x)\n",
    "    else :\n",
    "        print(y)\n",
    "        \n",
    "def more_3_value(x,y,z):\n",
    "    print(max(x,y,z))\n",
    "    \n",
    "def value_2_even(x,y):\n",
    "    if max(x,y)%2==0:\n",
    "        print(max(x,y))\n",
    "        \n",
    "def value_2_sum(x,y):\n",
    "    if (x+y)%2==0:\n",
    "        if (x+y)%3==0:\n",
    "            print(x+y)"
   ]
  }
 ],
 "metadata": {
  "kernelspec": {
   "display_name": "tf-gpu",
   "language": "python",
   "name": "tf2.0-gpu"
  },
  "language_info": {
   "codemirror_mode": {
    "name": "ipython",
    "version": 3
   },
   "file_extension": ".py",
   "mimetype": "text/x-python",
   "name": "python",
   "nbconvert_exporter": "python",
   "pygments_lexer": "ipython3",
   "version": "3.7.2"
  }
 },
 "nbformat": 4,
 "nbformat_minor": 4
}
