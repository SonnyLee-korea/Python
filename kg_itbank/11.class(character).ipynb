{
 "cells": [
  {
   "cell_type": "code",
   "execution_count": 2,
   "metadata": {},
   "outputs": [
    {
     "name": "stdout",
     "output_type": "stream",
     "text": [
      "h\n",
      "a\n",
      "v\n",
      "e\n",
      " \n",
      "a\n",
      " \n",
      "n\n",
      "i\n",
      "c\n",
      "e\n",
      " \n",
      "d\n",
      "a\n",
      "y\n"
     ]
    }
   ],
   "source": [
    "str_='have a nice day'\n",
    "for i in str_:\n",
    "    print(i)"
   ]
  },
  {
   "cell_type": "code",
   "execution_count": 3,
   "metadata": {},
   "outputs": [
    {
     "name": "stdout",
     "output_type": "stream",
     "text": [
      "nice\n",
      "have a nice day\n"
     ]
    }
   ],
   "source": [
    "arr=str_[7:11]\n",
    "print(arr)\n",
    "print(str_)"
   ]
  },
  {
   "cell_type": "code",
   "execution_count": 4,
   "metadata": {},
   "outputs": [
    {
     "name": "stdout",
     "output_type": "stream",
     "text": [
      "have anice day\n",
      "have anice dayhave anice dayhave anice day\n"
     ]
    }
   ],
   "source": [
    "Str='have a'\n",
    "Str+='nice day'\n",
    "print(Str)\n",
    "print(Str*3)"
   ]
  },
  {
   "cell_type": "code",
   "execution_count": 10,
   "metadata": {},
   "outputs": [
    {
     "data": {
      "text/plain": [
       "'Have Anice Day'"
      ]
     },
     "execution_count": 10,
     "metadata": {},
     "output_type": "execute_result"
    }
   ],
   "source": [
    "Str.upper()\n",
    "Str.lower()\n",
    "Str.swapcase()\n",
    "Str.title()"
   ]
  },
  {
   "cell_type": "code",
   "execution_count": 12,
   "metadata": {},
   "outputs": [
    {
     "data": {
      "text/plain": [
       "'Never-Ever 110Glve Up'"
      ]
     },
     "execution_count": 12,
     "metadata": {},
     "output_type": "execute_result"
    }
   ],
   "source": [
    "ch='NevEr-eVer 110glVe up'\n",
    "\n",
    "ch.title()\n",
    "    "
   ]
  },
  {
   "cell_type": "code",
   "execution_count": 13,
   "metadata": {},
   "outputs": [
    {
     "name": "stdout",
     "output_type": "stream",
     "text": [
      "3\n"
     ]
    }
   ],
   "source": [
    "st='Have a nice day'\n",
    "print(st.count('a'))\n"
   ]
  },
  {
   "cell_type": "code",
   "execution_count": 18,
   "metadata": {},
   "outputs": [
    {
     "data": {
      "text/plain": [
       "2"
      ]
     },
     "execution_count": 18,
     "metadata": {},
     "output_type": "execute_result"
    }
   ],
   "source": [
    "st='It is a fun Python class'\n",
    "st.count('a')"
   ]
  },
  {
   "cell_type": "code",
   "execution_count": 25,
   "metadata": {},
   "outputs": [
    {
     "data": {
      "text/plain": [
       "19"
      ]
     },
     "execution_count": 25,
     "metadata": {},
     "output_type": "execute_result"
    }
   ],
   "source": [
    "st.find('class')\n",
    "#st.index('class')"
   ]
  },
  {
   "cell_type": "code",
   "execution_count": 27,
   "metadata": {},
   "outputs": [
    {
     "name": "stdout",
     "output_type": "stream",
     "text": [
      "1\n",
      "5\n",
      "13\n",
      "-1\n"
     ]
    }
   ],
   "source": [
    "st='have a nice day'\n",
    "\n",
    "print(st.find('a'))\n",
    "print(st.find('a',2))\n",
    "print(st.find('a',6))\n",
    "print(st.find('a',14))\n"
   ]
  },
  {
   "cell_type": "code",
   "execution_count": 32,
   "metadata": {},
   "outputs": [
    {
     "name": "stdout",
     "output_type": "stream",
     "text": [
      "[1, 5, 13, 17, 21, 29, 33, 37, 45]\n"
     ]
    }
   ],
   "source": [
    "st='Have a nice day Have a nice day Have a nice day'\n",
    "bins=[]\n",
    "k=st.find('a')\n",
    "for id_,i in enumerate(st):\n",
    "    if i =='a':\n",
    "        bins.append(id_)\n",
    "        \n",
    "print(bins)"
   ]
  },
  {
   "cell_type": "code",
   "execution_count": 28,
   "metadata": {},
   "outputs": [
    {
     "data": {
      "text/plain": [
       "1"
      ]
     },
     "execution_count": 28,
     "metadata": {},
     "output_type": "execute_result"
    }
   ],
   "source": [
    "st='Have a nice day Have a nice day Have a nice day'\n",
    "st.find('a',0)"
   ]
  },
  {
   "cell_type": "code",
   "execution_count": 43,
   "metadata": {},
   "outputs": [
    {
     "name": "stdout",
     "output_type": "stream",
     "text": [
      "===== \t파이썬\t =====\n",
      "파이썬\n"
     ]
    }
   ],
   "source": [
    "st='\\t파이썬\\t'\n",
    "print('=====',st,'=====')\n",
    "print(st.strip())"
   ]
  },
  {
   "cell_type": "code",
   "execution_count": 40,
   "metadata": {},
   "outputs": [
    {
     "name": "stdout",
     "output_type": "stream",
     "text": [
      "True\n"
     ]
    }
   ],
   "source": [
    "print(st.strip()=='파이썬')"
   ]
  },
  {
   "cell_type": "code",
   "execution_count": 45,
   "metadata": {},
   "outputs": [
    {
     "name": "stdout",
     "output_type": "stream",
     "text": [
      "이썬\n"
     ]
    }
   ],
   "source": [
    "print(st.strip().strip('파'))"
   ]
  },
  {
   "cell_type": "code",
   "execution_count": 46,
   "metadata": {},
   "outputs": [
    {
     "name": "stdout",
     "output_type": "stream",
     "text": [
      "2015/04/02\n",
      "2015.04.02\n",
      "2017/04/02\n"
     ]
    }
   ],
   "source": [
    "st='2015/04/02'\n",
    "\n",
    "print(st)\n",
    "print(st.replace('/','.'))\n",
    "print(st.replace(st[0:4],'2017'))"
   ]
  },
  {
   "cell_type": "code",
   "execution_count": 47,
   "metadata": {},
   "outputs": [
    {
     "name": "stdout",
     "output_type": "stream",
     "text": [
      "\n",
      "오늘 하루도 즐겁게\n",
      "오늘 하루도 행복하게\n",
      "오늘 하루도 최선을\n"
     ]
    }
   ],
   "source": [
    "st=\"\"\"\n",
    "오늘 하루도 즐겁게\n",
    "오늘 하루도 행복하게\n",
    "오늘 하루도 최선을\"\"\"\n",
    "print(st)"
   ]
  },
  {
   "cell_type": "code",
   "execution_count": 56,
   "metadata": {},
   "outputs": [
    {
     "name": "stdout",
     "output_type": "stream",
     "text": [
      "\n",
      "김개똥 :1999년 03월 24일\n",
      "홍길동구리 :1999년 04월 02일\n",
      "선우선녀 :1999년 05월 14일\n",
      "\n"
     ]
    }
   ],
   "source": [
    "st='''\n",
    "김개똥 -2017년 03월 24일\n",
    "홍길동구리 -2015년 04월 02일\n",
    "선우선녀 -2018년 05월 14일\n",
    "'''\n",
    "st=st.replace('-',':').replace('2017','1999').replace('2018','1999').replace('2015','1999')\n",
    "print(st)"
   ]
  },
  {
   "cell_type": "code",
   "execution_count": 58,
   "metadata": {},
   "outputs": [
    {
     "name": "stdout",
     "output_type": "stream",
     "text": [
      "Never ever give up\n",
      "['Never', 'ever', 'give', 'up']\n"
     ]
    }
   ],
   "source": [
    "st='Never ever give up'\n",
    "\n",
    "print(st)\n",
    "print(st.split())"
   ]
  },
  {
   "cell_type": "code",
   "execution_count": 59,
   "metadata": {},
   "outputs": [
    {
     "name": "stdout",
     "output_type": "stream",
     "text": [
      "하나:둘:셋\n",
      "['하나', '둘', '셋']\n",
      "['일', '이', '삼']\n"
     ]
    }
   ],
   "source": [
    "st='하나:둘:셋'\n",
    "print(st)\n",
    "print(st.split(':'))\n",
    "\n",
    "st='일,이,삼'\n",
    "print(st.split(','))"
   ]
  },
  {
   "cell_type": "code",
   "execution_count": 62,
   "metadata": {},
   "outputs": [
    {
     "name": "stdout",
     "output_type": "stream",
     "text": [
      "st: Never ever give up\n",
      "st.splitline(): ['Never ever give up']\n",
      "['Never ever give up', 'Never ever give up']\n"
     ]
    },
    {
     "data": {
      "text/plain": [
       "['하나', '둘셋']"
      ]
     },
     "execution_count": 62,
     "metadata": {},
     "output_type": "execute_result"
    }
   ],
   "source": [
    "st='Never ever give up'\n",
    "print('st:',st)\n",
    "print('st.splitline():',st.splitlines())\n",
    "st='''Never ever give up\n",
    "Never ever give up'''\n",
    "\n",
    "print(st.splitlines())\n",
    "st='하나\\n둘셋'\n",
    "st.splitlines()"
   ]
  },
  {
   "cell_type": "code",
   "execution_count": 67,
   "metadata": {},
   "outputs": [
    {
     "name": "stdout",
     "output_type": "stream",
     "text": [
      "1ss2ss3\n",
      "%123a\n"
     ]
    }
   ],
   "source": [
    "Str='123'\n",
    "print('ss'.join(Str))\n",
    "print(Str.join(\"%a\"))"
   ]
  },
  {
   "cell_type": "code",
   "execution_count": 73,
   "metadata": {},
   "outputs": [
    {
     "name": "stdout",
     "output_type": "stream",
     "text": [
      "python\n",
      "  python  \n",
      "--python--\n",
      "python    \n",
      "    python\n",
      "0000python\n"
     ]
    }
   ],
   "source": [
    "Str='python'\n",
    "print(Str)\n",
    "print(Str.center(10))\n",
    "print(Str.center(10,'-'))\n",
    "print(Str.ljust(10))\n",
    "print(Str.rjust(10))\n",
    "print(Str.zfill(10))"
   ]
  },
  {
   "cell_type": "code",
   "execution_count": 101,
   "metadata": {},
   "outputs": [
    {
     "name": "stdout",
     "output_type": "stream",
     "text": [
      "item\tdate\t$(price)\n",
      "\n",
      "shoes\t03/02\t$59000\t\n",
      "\n",
      "coffee\t03/03\t$2500\t\n",
      "\n",
      "food\t03/04\t$7000\t\n",
      "\n",
      "dress\t03/13\t$130000\t\n",
      "\n"
     ]
    }
   ],
   "source": [
    "accountBook='shoes 03/02 59000, coffee 03/03 2500, food 03/04 7000, dress 03/13 130000'\n",
    "list_=accountBook.split(',')\n",
    "list_=[i.strip() for i in list_]\n",
    "list__=[]\n",
    "for i in list_:\n",
    "    list__.append(i.split(' '))\n",
    "list__\n",
    "print('item\\tdate\\t$(price)\\n')\n",
    "for k in list__:\n",
    "    for id_,j in enumerate(k):\n",
    "        if id_==2:\n",
    "            j='$'+j\n",
    "        print(j,end='\\t')\n",
    "    print('\\n')"
   ]
  },
  {
   "cell_type": "code",
   "execution_count": 9,
   "metadata": {},
   "outputs": [
    {
     "name": "stdout",
     "output_type": "stream",
     "text": [
      "False\n",
      "True\n",
      "False\n",
      "True\n",
      "False\n",
      "True\n",
      "True\n",
      "False\n",
      "False\n"
     ]
    }
   ],
   "source": [
    "Str='python te12st 1234'\n",
    "print(Str.isdigit())\n",
    "print(Str[9:11].isdigit())\n",
    "print(Str.isalpha())\n",
    "print(Str[:6].isalpha())\n",
    "print(Str.isalnum())\n",
    "print(Str[7:13].isalnum())\n",
    "print(Str.islower())\n",
    "print(Str.isupper())\n",
    "print(Str.isspace())"
   ]
  },
  {
   "cell_type": "code",
   "execution_count": 40,
   "metadata": {},
   "outputs": [
    {
     "name": "stdout",
     "output_type": "stream",
     "text": [
      "['jo', '9abc08-3022023']\n",
      "['cho', '900402-*******']\n",
      "['test', '1234567-1234567']\n",
      "['lee', '980908-3a2b0c3']\n",
      "['kim', '900514-*******']\n"
     ]
    }
   ],
   "source": [
    "info=\"\"\"\n",
    "jo 9abc08-3022023\n",
    "cho 900402-1011232\n",
    "test 1234567-1234567\n",
    "lee 980908-3a2b0c3\n",
    "kim 900514-2022023\"\"\"\n",
    "\n",
    "a=[]\n",
    "b=[]\n",
    "for i in info.strip().split('\\n'):\n",
    "    a.append(i.split(' ')[0])\n",
    "    b.append(i.split(' ')[1])\n",
    "\n",
    "for id_,k in enumerate(b):\n",
    "    if k.split('-')[0].isdigit()==True:\n",
    "        if k.split('-')[1].isdigit()==True:\n",
    "            if len(k.split('-')[0])==6:\n",
    "                x=k.split('-')[0]\n",
    "                y=k.split('-')[1]='*******'\n",
    "                b[id_]=x+\"-\"+y\n",
    "                \n",
    "\n",
    "for i in zip(a,b):\n",
    "    print(list(i))"
   ]
  }
 ],
 "metadata": {
  "kernelspec": {
   "display_name": "tf-gpu",
   "language": "python",
   "name": "tf2.0-gpu"
  },
  "language_info": {
   "codemirror_mode": {
    "name": "ipython",
    "version": 3
   },
   "file_extension": ".py",
   "mimetype": "text/x-python",
   "name": "python",
   "nbconvert_exporter": "python",
   "pygments_lexer": "ipython3",
   "version": "3.7.2"
  }
 },
 "nbformat": 4,
 "nbformat_minor": 4
}
