{
 "cells": [
  {
   "cell_type": "code",
   "execution_count": 4,
   "metadata": {},
   "outputs": [
    {
     "name": "stdout",
     "output_type": "stream",
     "text": [
      "tp1: (10, 20, 30)\n",
      "<class 'tuple'>\n",
      "<class 'int'>\n"
     ]
    }
   ],
   "source": [
    "tp1=10,20,30\n",
    "print('tp1:',tp1)\n",
    "print(type(tp1))\n",
    "print(type(tp1[0]))\n",
    "\n",
    "#tp1[0]=100"
   ]
  },
  {
   "cell_type": "code",
   "execution_count": 6,
   "metadata": {},
   "outputs": [
    {
     "name": "stdout",
     "output_type": "stream",
     "text": [
      "<class 'int'>\n",
      "<class 'tuple'>\n",
      "<class 'tuple'>\n"
     ]
    }
   ],
   "source": [
    "tpint=(10)\n",
    "print(type(tpint))\n",
    "\n",
    "tpT1=(10,)\n",
    "print(type(tpT1))\n",
    "\n",
    "tpT2=10,\n",
    "print(type(tpT2))"
   ]
  },
  {
   "cell_type": "code",
   "execution_count": 7,
   "metadata": {},
   "outputs": [
    {
     "name": "stdout",
     "output_type": "stream",
     "text": [
      "100\n",
      "(20, 30)\n",
      "(20, 30, 40)\n",
      "(10, 20, 30)\n"
     ]
    }
   ],
   "source": [
    "tt1=(10,20,30,40)\n",
    "tt2=tt1[0]+tt1[1]+tt1[2]+tt1[3]\n",
    "print(tt2)\n",
    "\n",
    "\n",
    "print(tt1[1:3])\n",
    "print(tt1[1:])\n",
    "print(tt1[:3])"
   ]
  },
  {
   "cell_type": "code",
   "execution_count": 8,
   "metadata": {},
   "outputs": [
    {
     "name": "stdout",
     "output_type": "stream",
     "text": [
      "(1, 2, 3)\n",
      "(4, 5, 6)\n",
      "(1, 2, 3, 4, 5, 6)\n"
     ]
    }
   ],
   "source": [
    "a=1,2,3\n",
    "b=4,5,6\n",
    "c=a+b\n",
    "\n",
    "print(a)\n",
    "print(b)\n",
    "print(c)"
   ]
  },
  {
   "cell_type": "code",
   "execution_count": 9,
   "metadata": {},
   "outputs": [
    {
     "data": {
      "text/plain": [
       "array([4, 6, 8])"
      ]
     },
     "execution_count": 9,
     "metadata": {},
     "output_type": "execute_result"
    }
   ],
   "source": [
    "import numpy as np\n",
    "a1=np.array([1,2,3])\n",
    "a2=np.array([3,4,5])\n",
    "a1+a2"
   ]
  },
  {
   "cell_type": "code",
   "execution_count": 12,
   "metadata": {},
   "outputs": [
    {
     "name": "stdout",
     "output_type": "stream",
     "text": [
      "pack\n",
      "1 2 ['패킹', 4, 6, 7, 8]\n"
     ]
    }
   ],
   "source": [
    "pack=1,2,'패킹',4,6,7,8\n",
    "print('pack')\n",
    "\n",
    "a,b,*c=pack\n",
    "print(a,b,c)\n",
    "c.insert(1,2)"
   ]
  },
  {
   "cell_type": "code",
   "execution_count": 19,
   "metadata": {},
   "outputs": [
    {
     "name": "stdout",
     "output_type": "stream",
     "text": [
      "1\n",
      "2\n"
     ]
    }
   ],
   "source": [
    "tp=100,200,'함수',100,'개수'\n",
    "print(tp.index(200))\n",
    "print(tp.count(100))"
   ]
  },
  {
   "cell_type": "code",
   "execution_count": 3,
   "metadata": {},
   "outputs": [],
   "source": [
    "def _1():\n",
    "    tuple_='가','나','다','라','마'\n",
    "    list_=[]\n",
    "    for i in tuple_:\n",
    "        print(i)\n",
    "        list_.append(i)\n",
    "    return list_\n",
    "\n",
    "def _2():\n",
    "    tuple_='회사정보','제품명','가격정보','출시일'\n",
    "    list_=[]\n",
    "    for i in range(4):\n",
    "        list_.append(input(\"{}:\".format(tuple_[i])))\n",
    "    return print(tuple_[0],'\\t:',list_[0],\"\\n\",\n",
    "                tuple_[1],'\\t:',list_[1],\"\\n\",\n",
    "                tuple_[2],'\\t:',list_[2],\"\\n\",\n",
    "                tuple_[3],'\\t:',list_[3],\"\\n\",)\n",
    "\n",
    "def _3():\n",
    "    tuple_='회사정보','제품명','가격정보','출시일'\n",
    "    list_=[]\n",
    "    for i in range(4):\n",
    "        list_.append(input(\"{}:\".format(tuple_[i])))\n",
    "    list_.remove('100원')\n",
    "    list_.insert(2,'110원')\n",
    "    return print(tuple_[0],'\\t',':',list_[0],\"\\n\",\n",
    "                tuple_[1],'\\t',':',list_[1],\"\\n\",\n",
    "                tuple_[2],'\\t',':',list_[2],\"\\n\",\n",
    "                tuple_[3],'\\t',':',list_[3],\"\\n\",)"
   ]
  },
  {
   "cell_type": "code",
   "execution_count": 33,
   "metadata": {},
   "outputs": [
    {
     "name": "stdout",
     "output_type": "stream",
     "text": [
      "가\n",
      "나\n",
      "다\n",
      "라\n",
      "마\n"
     ]
    },
    {
     "data": {
      "text/plain": [
       "['가', '나', '다', '라', '마']"
      ]
     },
     "execution_count": 33,
     "metadata": {},
     "output_type": "execute_result"
    }
   ],
   "source": [
    "_1()"
   ]
  },
  {
   "cell_type": "code",
   "execution_count": 34,
   "metadata": {},
   "outputs": [
    {
     "name": "stdout",
     "output_type": "stream",
     "text": [
      "회사정보:\n",
      "제품명:\n",
      "가격정보:\n",
      "출시일:\n",
      "회사정보 \t:  \n",
      " 제품명 \t:  \n",
      " 가격정보 \t:  \n",
      " 출시일 \t:  \n",
      "\n"
     ]
    }
   ],
   "source": [
    "_2()"
   ]
  },
  {
   "cell_type": "code",
   "execution_count": 4,
   "metadata": {},
   "outputs": [
    {
     "name": "stdout",
     "output_type": "stream",
     "text": [
      "회사정보:삼성전자\n",
      "제품명:갤럭시\n",
      "가격정보:100원\n",
      "출시일:미정\n",
      "회사정보 \t : 삼성전자 \n",
      " 제품명 \t : 갤럭시 \n",
      " 가격정보 \t : 110원 \n",
      " 출시일 \t : 미정 \n",
      "\n"
     ]
    }
   ],
   "source": [
    "_3()"
   ]
  }
 ],
 "metadata": {
  "kernelspec": {
   "display_name": "tf-gpu",
   "language": "python",
   "name": "tf2.0-gpu"
  },
  "language_info": {
   "codemirror_mode": {
    "name": "ipython",
    "version": 3
   },
   "file_extension": ".py",
   "mimetype": "text/x-python",
   "name": "python",
   "nbconvert_exporter": "python",
   "pygments_lexer": "ipython3",
   "version": "3.7.2"
  }
 },
 "nbformat": 4,
 "nbformat_minor": 4
}
