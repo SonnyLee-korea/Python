{
 "cells": [
  {
   "cell_type": "code",
   "execution_count": 1,
   "metadata": {},
   "outputs": [
    {
     "name": "stdout",
     "output_type": "stream",
     "text": [
      "[500, 200, 300, 400]\n",
      "500\n",
      "200\n",
      "300\n",
      "400\n"
     ]
    }
   ],
   "source": [
    "ls=[500,200,300,400]\n",
    "\n",
    "print(ls)\n",
    "for i in range(len(ls)):\n",
    "    print(ls[i])"
   ]
  },
  {
   "cell_type": "code",
   "execution_count": 3,
   "metadata": {},
   "outputs": [
    {
     "name": "stdout",
     "output_type": "stream",
     "text": [
      "숫자입력1\n",
      "숫자입력2\n",
      "숫자입력3\n",
      "숫자입력4\n",
      "1\n",
      "2\n",
      "3\n",
      "4\n",
      "10\n"
     ]
    }
   ],
   "source": [
    "ls=[0,0,0,0]\n",
    "ls[0]=int(input('숫자입력'))\n",
    "ls[1]=int(input('숫자입력'))\n",
    "ls[2]=int(input('숫자입력'))\n",
    "ls[3]=int(input('숫자입력'))\n",
    "\n",
    "sum_=ls[0]+ls[1]+ls[2]+ls[3]\n",
    "\n",
    "for i in range(len(ls)):\n",
    "    print(ls[i])\n",
    "    \n",
    "print(sum_)"
   ]
  },
  {
   "cell_type": "code",
   "execution_count": 4,
   "metadata": {},
   "outputs": [
    {
     "name": "stdout",
     "output_type": "stream",
     "text": [
      "0째 숫자 입력:2\n",
      "1째 숫자 입력:5\n",
      "2째 숫자 입력:6\n",
      "3째 숫자 입력:78\n",
      "0 2\n",
      "1 5\n",
      "2 6\n",
      "3 78\n",
      "91\n"
     ]
    }
   ],
   "source": [
    "ls=[0,0,0,0]\n",
    "sum_=0\n",
    "for i in range(len(ls)):\n",
    "    ls[i]=int(input(str(i)+'째 숫자 입력:'))\n",
    "    sum_+=ls[i]\n",
    "    \n",
    "for i in range(len(ls)):\n",
    "    print(i,ls[i])\n",
    "print(sum_)"
   ]
  },
  {
   "cell_type": "code",
   "execution_count": 10,
   "metadata": {},
   "outputs": [
    {
     "name": "stdout",
     "output_type": "stream",
     "text": [
      "0번째 입력23\n",
      "1번째 입력5\n",
      "2번째 입력6\n",
      "3번째 입력21\n",
      "0 23\n",
      "1 5\n",
      "2 6\n",
      "3 21\n"
     ]
    }
   ],
   "source": [
    "ls=[0,0,0,0]\n",
    "sum_=0\n",
    "i=0\n",
    "while i <len(ls):\n",
    "    ls[i]=int(input(str(i)+'번째 입력'))\n",
    "    sum_+=ls[i]\n",
    "    i+=1\n",
    "    \n",
    "else:\n",
    "    i=0\n",
    "while i<len(ls):\n",
    "    print(i,ls[i])\n",
    "    i+=1"
   ]
  },
  {
   "cell_type": "code",
   "execution_count": 11,
   "metadata": {},
   "outputs": [
    {
     "data": {
      "text/plain": [
       "[5, 6]"
      ]
     },
     "execution_count": 11,
     "metadata": {},
     "output_type": "execute_result"
    }
   ],
   "source": [
    "ls[1:3]"
   ]
  },
  {
   "cell_type": "code",
   "execution_count": 14,
   "metadata": {},
   "outputs": [
    {
     "name": "stdout",
     "output_type": "stream",
     "text": [
      "[10, 20, 20000, 40] 1466604061000\n",
      "[10, 20, 20000, 40] 1466604061000\n"
     ]
    }
   ],
   "source": [
    "ls=[10,20,30,40]\n",
    "arr=ls\n",
    "arr[2]=20000\n",
    "print(ls,id(ls))\n",
    "print(arr,id(arr))"
   ]
  },
  {
   "cell_type": "code",
   "execution_count": 15,
   "metadata": {},
   "outputs": [
    {
     "name": "stdout",
     "output_type": "stream",
     "text": [
      "[10, 20, 30, 40] 1466605019912\n",
      "[10, 20, 20000, 40] 1466604988424\n"
     ]
    }
   ],
   "source": [
    "ls=[10,20,30,40]\n",
    "arr=ls[:]\n",
    "arr[2]=20000\n",
    "print(ls,id(ls))\n",
    "print(arr,id(arr))"
   ]
  },
  {
   "cell_type": "code",
   "execution_count": 16,
   "metadata": {},
   "outputs": [
    {
     "name": "stdout",
     "output_type": "stream",
     "text": [
      "[10, 20, 30, 40] 1466604085512\n",
      "[10, 20, 'deepcopy', 40] 1466603448392\n"
     ]
    }
   ],
   "source": [
    "import copy\n",
    "ls=[10,20,30,40]\n",
    "arr=copy.deepcopy(ls)\n",
    "arr[2]='deepcopy'\n",
    "print(ls,id(ls))\n",
    "print(arr,id(arr))"
   ]
  },
  {
   "cell_type": "code",
   "execution_count": 26,
   "metadata": {},
   "outputs": [
    {
     "data": {
      "text/plain": [
       "'C:\\\\Users\\\\82105\\\\python_jupyter'"
      ]
     },
     "execution_count": 26,
     "metadata": {},
     "output_type": "execute_result"
    }
   ],
   "source": [
    "os.getcwd()"
   ]
  },
  {
   "cell_type": "code",
   "execution_count": 28,
   "metadata": {},
   "outputs": [
    {
     "name": "stdout",
     "output_type": "stream",
     "text": [
      "hello\n"
     ]
    }
   ],
   "source": [
    "import hello"
   ]
  },
  {
   "cell_type": "code",
   "execution_count": 31,
   "metadata": {},
   "outputs": [
    {
     "name": "stdout",
     "output_type": "stream",
     "text": [
      "[10, 20, 30]\n",
      "[40, 50, 60]\n",
      "[10, 20, 30, 40, 50, 60]\n",
      "[10, 20, 30, 10, 20, 30, 10, 20, 30]\n"
     ]
    },
    {
     "data": {
      "text/plain": [
       "[10, 20, 30, 40, 50, 60]"
      ]
     },
     "execution_count": 31,
     "metadata": {},
     "output_type": "execute_result"
    }
   ],
   "source": [
    "ls=[10,20,30]\n",
    "arr=[40,50,60]\n",
    "\n",
    "print(ls)\n",
    "print(arr)\n",
    "str_=ls+arr\n",
    "print(str_)\n",
    "\n",
    "string=ls*3\n",
    "print(string)\n"
   ]
  },
  {
   "cell_type": "code",
   "execution_count": 32,
   "metadata": {},
   "outputs": [],
   "source": [
    "sum_=[]\n",
    "for i,j in zip(ls,arr):\n",
    "    sum_.append(i+j)\n",
    "    "
   ]
  },
  {
   "cell_type": "code",
   "execution_count": 35,
   "metadata": {},
   "outputs": [],
   "source": [
    "sum__=[]\n",
    "for i in range(len(ls)):\n",
    "    sum__.append(ls[i]+arr[i])"
   ]
  },
  {
   "cell_type": "code",
   "execution_count": 36,
   "metadata": {},
   "outputs": [
    {
     "data": {
      "text/plain": [
       "[50, 70, 90]"
      ]
     },
     "execution_count": 36,
     "metadata": {},
     "output_type": "execute_result"
    }
   ],
   "source": [
    "sum__"
   ]
  },
  {
   "cell_type": "code",
   "execution_count": 33,
   "metadata": {
    "scrolled": true
   },
   "outputs": [
    {
     "data": {
      "text/plain": [
       "[50, 70, 90]"
      ]
     },
     "execution_count": 33,
     "metadata": {},
     "output_type": "execute_result"
    }
   ],
   "source": [
    "sum_"
   ]
  },
  {
   "cell_type": "code",
   "execution_count": null,
   "metadata": {},
   "outputs": [],
   "source": [
    "1,1,2,3"
   ]
  },
  {
   "cell_type": "code",
   "execution_count": 20,
   "metadata": {},
   "outputs": [],
   "source": [
    "ls=[80,4,13,7,6]"
   ]
  },
  {
   "cell_type": "code",
   "execution_count": 21,
   "metadata": {},
   "outputs": [],
   "source": [
    "for i in range(5):\n",
    "    for j in range(5):\n",
    "        if ls[i]<ls[j]:\n",
    "            i_=ls[i]\n",
    "            j_=ls[j]\n",
    "            ls[i]=j_\n",
    "            ls[j]=i_"
   ]
  },
  {
   "cell_type": "code",
   "execution_count": 22,
   "metadata": {},
   "outputs": [
    {
     "data": {
      "text/plain": [
       "[4, 6, 7, 13, 80]"
      ]
     },
     "execution_count": 22,
     "metadata": {},
     "output_type": "execute_result"
    }
   ],
   "source": [
    "ls"
   ]
  },
  {
   "cell_type": "code",
   "execution_count": 23,
   "metadata": {},
   "outputs": [
    {
     "name": "stdout",
     "output_type": "stream",
     "text": [
      "[4, 6, 7, 13, 80]\n"
     ]
    }
   ],
   "source": [
    "for i in range(4):\n",
    "    for j in range(i+1,5):\n",
    "        if ls[i]>ls[j]:\n",
    "            ls[i],ls[j]=ls[j],ls[i]\n",
    "print(ls)"
   ]
  },
  {
   "cell_type": "markdown",
   "metadata": {},
   "source": [
    "# 기능 공부하기"
   ]
  },
  {
   "cell_type": "code",
   "execution_count": 33,
   "metadata": {},
   "outputs": [
    {
     "name": "stdout",
     "output_type": "stream",
     "text": [
      "1000\n",
      "1000\n",
      "1000\n",
      "1000\n",
      "1000\n",
      "1000\n",
      "1000\n",
      "7\n",
      "[1000, 1000, 1000, 1000, 1000, 1000, 1000]\n"
     ]
    }
   ],
   "source": [
    "ls.append(1000)\n",
    "for i in range(len(ls)):\n",
    "    print('{}'.format(ls[i]))\n",
    "print(len(ls))\n",
    "print(ls)"
   ]
  },
  {
   "cell_type": "code",
   "execution_count": 36,
   "metadata": {},
   "outputs": [
    {
     "name": "stdout",
     "output_type": "stream",
     "text": [
      "몇개의 공간 만들겠습니가?:5\n",
      "1번째 숫자:45\n",
      "2번째 숫자:7\n",
      "3번째 숫자:3\n",
      "4번째 숫자:4\n",
      "5번째 숫자:2\n",
      "0, 45\n",
      "1, 7\n",
      "2, 3\n",
      "3, 4\n",
      "4, 2\n",
      "61\n"
     ]
    }
   ],
   "source": [
    "num=int(input('몇개의 공간 만들겠습니가?:'))\n",
    "ls=[]\n",
    "sum_=0\n",
    "for i in range(num):\n",
    "    ls.append(int(input(str(i+1)+'번째 숫자:')))\n",
    "    sum_+=ls[i]\n",
    "\n",
    "for i in range(0,len(ls)):\n",
    "    print('{}, {}'.format(i,ls[i]))\n",
    "print(sum_)"
   ]
  },
  {
   "cell_type": "code",
   "execution_count": 40,
   "metadata": {},
   "outputs": [
    {
     "name": "stdout",
     "output_type": "stream",
     "text": [
      "현재 리스트: [30, 20, 10]\n",
      "현재 리스트: [30, 20, 10, 40]\n",
      "pop 40\n",
      "현재 리스트: [30, 20, 10]\n",
      "sort\n",
      "현재 리스트: [10, 20, 30]\n",
      "reverse\n",
      "현재 리스트: [30, 20, 10]\n",
      "del\n",
      "현재 리스트: [30, 20]\n"
     ]
    }
   ],
   "source": [
    "list_=[30,20,10]\n",
    "print('현재 리스트:',list_)\n",
    "list_.append(40)\n",
    "print('현재 리스트:',list_)\n",
    "\n",
    "print('pop', list_.pop())\n",
    "print('현재 리스트:',list_)\n",
    "\n",
    "list_.sort()\n",
    "print('sort')\n",
    "print('현재 리스트:',list_)\n",
    "\n",
    "print('reverse')\n",
    "list_.reverse()\n",
    "print('현재 리스트:',list_)\n",
    "print('del')\n",
    "del(list_[2])\n",
    "print('현재 리스트:',list_)"
   ]
  },
  {
   "cell_type": "code",
   "execution_count": 43,
   "metadata": {},
   "outputs": [
    {
     "name": "stdout",
     "output_type": "stream",
     "text": [
      "현재 리스트: [30, 20, 10]\n",
      "현재 리스트: [30, 20, 200, 10]\n",
      "현재 리스트: [30, 20, 10]\n",
      "현재 리스트: [30, 20, 10, 555, 666, 555]\n",
      "2\n"
     ]
    }
   ],
   "source": [
    "list_=[30,20,10]\n",
    "print('현재 리스트:',list_)\n",
    "\n",
    "list_.insert(2,200)\n",
    "print('현재 리스트:',list_)\n",
    "\n",
    "list_.remove(200)\n",
    "print('현재 리스트:',list_)\n",
    "\n",
    "list_.extend([555,666,555])\n",
    "print('현재 리스트:',list_)\n",
    "print(list_.count(555))"
   ]
  },
  {
   "cell_type": "code",
   "execution_count": 46,
   "metadata": {},
   "outputs": [
    {
     "data": {
      "text/plain": [
       "3"
      ]
     },
     "execution_count": 46,
     "metadata": {},
     "output_type": "execute_result"
    }
   ],
   "source": [
    "list_.index(555)"
   ]
  },
  {
   "cell_type": "code",
   "execution_count": 1,
   "metadata": {},
   "outputs": [],
   "source": [
    "def _1():\n",
    "    import copy\n",
    "    list_=['김개똥','2002년입사','잘못된 사항','등급B']\n",
    "    while True:\n",
    "        try:\n",
    "            del_value=input('지울값을 적어주세요:')\n",
    "            if del_value in list_:\n",
    "                break\n",
    "        except ValueError:\n",
    "            print('oops there is not exact wor')\n",
    "            \n",
    "    add_value1=input('추가할 이름을 입력해주세요, 없으면 엔터를 눌러주세요.')\n",
    "    if add_value1=='':\n",
    "        print('다음')\n",
    "    add_value2=input('추가할 이름을 입력해주세요, 없으면 엔터를 눌러주세요.')\n",
    "    if add_value2=='':\n",
    "        print('다음')\n",
    "    add_value3=input('추가할 이름을 입력해주세요, 없으면 엔터를 눌러주세요.')\n",
    "    if add_value3=='':\n",
    "        print('다음')\n",
    "        \n",
    "    list__=copy.deepcopy(list_)\n",
    "    total_add_value=[add_value1,add_value2,add_value3]\n",
    "    for i in total_add_value:\n",
    "        change_name=i\n",
    "        list__[0]=change_name\n",
    "        list_.extend(list__)\n",
    "    return list_\n",
    "        \n",
    "        "
   ]
  },
  {
   "cell_type": "code",
   "execution_count": 2,
   "metadata": {},
   "outputs": [
    {
     "name": "stdout",
     "output_type": "stream",
     "text": [
      "지울값을 적어주세요:ㅁㄴㅇ\n",
      "지울값을 적어주세요:ㅁㄴㅇ\n",
      "지울값을 적어주세요:ㅁㄴㅇ\n",
      "지울값을 적어주세요:ㅁㄴㅇ\n",
      "지울값을 적어주세요:ㅁㄴㅇ\n",
      "지울값을 적어주세요:ㅈ\n",
      "지울값을 적어주세요:잘못된 사항\n",
      "추가할 이름을 입력해주세요, 없으면 엔터를 눌러주세요.ㅇ\n",
      "추가할 이름을 입력해주세요, 없으면 엔터를 눌러주세요.ㅇ\n",
      "추가할 이름을 입력해주세요, 없으면 엔터를 눌러주세요.ㅇ\n"
     ]
    },
    {
     "data": {
      "text/plain": [
       "['김개똥',\n",
       " '2002년입사',\n",
       " '잘못된 사항',\n",
       " '등급B',\n",
       " 'ㅇ',\n",
       " '2002년입사',\n",
       " '잘못된 사항',\n",
       " '등급B',\n",
       " 'ㅇ',\n",
       " '2002년입사',\n",
       " '잘못된 사항',\n",
       " '등급B',\n",
       " 'ㅇ',\n",
       " '2002년입사',\n",
       " '잘못된 사항',\n",
       " '등급B']"
      ]
     },
     "execution_count": 2,
     "metadata": {},
     "output_type": "execute_result"
    }
   ],
   "source": [
    "_1()"
   ]
  },
  {
   "cell_type": "code",
   "execution_count": 18,
   "metadata": {
    "scrolled": false
   },
   "outputs": [
    {
     "name": "stdout",
     "output_type": "stream",
     "text": [
      "1\n",
      "2\n",
      "3\n",
      "4\n",
      "5\n",
      "6\n"
     ]
    }
   ],
   "source": [
    "aa=[[1,2,3,4],\n",
    "   [5,6,7,8],\n",
    "   [9,10,11,12]]\n",
    "\n",
    "print(aa[0][0])\n",
    "print(aa[0][1])\n",
    "print(aa[0][2])\n",
    "print(aa[0][3])\n",
    "print(aa[1][0])\n",
    "print(aa[1][1])\n"
   ]
  },
  {
   "cell_type": "code",
   "execution_count": 14,
   "metadata": {},
   "outputs": [],
   "source": [
    "import numpy as np\n",
    "aa=np.array(aa)"
   ]
  },
  {
   "cell_type": "code",
   "execution_count": 22,
   "metadata": {
    "scrolled": true
   },
   "outputs": [
    {
     "name": "stdout",
     "output_type": "stream",
     "text": [
      "1\t2\t3\t4\t\n",
      "\n",
      "5\t6\t7\t8\t\n",
      "\n",
      "9\t10\t11\t12\t\n",
      "\n"
     ]
    }
   ],
   "source": [
    "\n",
    "for i in range(3):\n",
    "    for j in range(4):\n",
    "        print(aa[i][j],end='\\t')\n",
    "    print('\\n')\n",
    "\n",
    "\n",
    "#####################################################\n",
    "\n",
    "        \n",
    "        \n",
    "for i in range(aa.shape[0]):\n",
    "    for j in range(aa.shape[1]):\n",
    "        print(aa[i][j],end='\\t')\n",
    "    print('\\n')"
   ]
  },
  {
   "cell_type": "code",
   "execution_count": 38,
   "metadata": {},
   "outputs": [
    {
     "name": "stdout",
     "output_type": "stream",
     "text": [
      "[[1, 20000, 3, 4], [5, 6, 7, 8], [9, 10, 11, 12]]\n",
      "[1, 20000, 3, 4]\n"
     ]
    }
   ],
   "source": [
    "import copy\n",
    "aa=[[1,2,3,4],\n",
    "   [5,6,7,8],\n",
    "   [9,10,11,12]]\n",
    "\n",
    "a=aa[0]\n",
    "a[1]=20000\n",
    "\n",
    "print(aa)\n",
    "print(a)\n",
    "\n",
    "a=copy.deepcopy(aa[0])\n"
   ]
  },
  {
   "cell_type": "code",
   "execution_count": 41,
   "metadata": {},
   "outputs": [],
   "source": [
    "a[1]=4000"
   ]
  },
  {
   "cell_type": "code",
   "execution_count": 43,
   "metadata": {},
   "outputs": [
    {
     "data": {
      "text/plain": [
       "[1, 4000, 3, 4]"
      ]
     },
     "execution_count": 43,
     "metadata": {},
     "output_type": "execute_result"
    }
   ],
   "source": [
    "a"
   ]
  },
  {
   "cell_type": "code",
   "execution_count": 52,
   "metadata": {},
   "outputs": [
    {
     "name": "stdout",
     "output_type": "stream",
     "text": [
      "1\t2\t3\t4\t\n",
      "\n",
      "5\t6\t7\t8\t\n",
      "\n",
      "9\t10\t11\t12\t\n",
      "\n"
     ]
    }
   ],
   "source": [
    "value=1\n",
    "ls_1=[]\n",
    "ls_2=[]\n",
    "for i in range(3):\n",
    "    for k in range(4):\n",
    "        ls_1.append((k+1)+(4*i))\n",
    "    ls_2.append(ls_1)\n",
    "    ls_1=[]\n",
    "for z in range(len(ls_2)):\n",
    "    for a in range(len(ls_2[z])):\n",
    "        print(ls_2[z][a],end='\\t')\n",
    "    print('\\n')\n"
   ]
  },
  {
   "cell_type": "code",
   "execution_count": 56,
   "metadata": {},
   "outputs": [
    {
     "name": "stdout",
     "output_type": "stream",
     "text": [
      "수정정: [['100'], ['200'], ['300']]\n",
      "[[100], [200], [300]]\n",
      "수정 후: [['10000'], ['20000'], ['30000']]\n"
     ]
    }
   ],
   "source": [
    "be=[['100'],['200'],['300']]\n",
    "\n",
    "print('수정정:',be)\n",
    "\n",
    "for i in range(len(be)):\n",
    "    be[i]=list(map(int,be[i]))\n",
    "print(be)\n",
    "\n",
    "for i in range(len(be)):\n",
    "    be[i][0]=str(be[i][0]*100)\n",
    "print('수정 후:',be)"
   ]
  },
  {
   "cell_type": "code",
   "execution_count": 98,
   "metadata": {},
   "outputs": [],
   "source": [
    "ls=[\n",
    "    [['이름'],['나이'],['주소'],['지울값'],['연봉']],\n",
    "    [['홍길동'],['20살'],['산골자기'],['지우세요'],['50000']],\n",
    "    [['김개똥'],['30살'],['지구촌'],['지우세요'],['4500']]]"
   ]
  },
  {
   "cell_type": "code",
   "execution_count": 81,
   "metadata": {},
   "outputs": [
    {
     "name": "stdout",
     "output_type": "stream",
     "text": [
      "['이름']['나이']['주소']['지울값']['연봉']\n",
      "\n",
      "['홍길동']['20살']['산골자기']['지우세요']['50000']\n",
      "\n",
      "['김개똥']['30살']['지구촌']['지우세요']['4500']\n",
      "\n"
     ]
    }
   ],
   "source": [
    "for i in range(len(ls)):\n",
    "    for j in ls[i]:\n",
    "        print(j,end='')\n",
    "    print('\\n')\n",
    "    "
   ]
  },
  {
   "cell_type": "code",
   "execution_count": null,
   "metadata": {},
   "outputs": [],
   "source": []
  }
 ],
 "metadata": {
  "kernelspec": {
   "display_name": "tf-gpu",
   "language": "python",
   "name": "tf2.0-gpu"
  },
  "language_info": {
   "codemirror_mode": {
    "name": "ipython",
    "version": 3
   },
   "file_extension": ".py",
   "mimetype": "text/x-python",
   "name": "python",
   "nbconvert_exporter": "python",
   "pygments_lexer": "ipython3",
   "version": "3.7.2"
  }
 },
 "nbformat": 4,
 "nbformat_minor": 4
}
