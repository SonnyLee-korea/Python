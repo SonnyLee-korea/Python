{
 "cells": [
  {
   "cell_type": "code",
   "execution_count": 1,
   "metadata": {},
   "outputs": [
    {
     "name": "stdout",
     "output_type": "stream",
     "text": [
      "1111\n"
     ]
    }
   ],
   "source": [
    "print(1111)"
   ]
  },
  {
   "cell_type": "code",
   "execution_count": 2,
   "metadata": {},
   "outputs": [
    {
     "name": "stdout",
     "output_type": "stream",
     "text": [
      "안녕하세요\n"
     ]
    }
   ],
   "source": [
    "print('안녕하세요')"
   ]
  },
  {
   "cell_type": "markdown",
   "metadata": {},
   "source": [
    "---\n",
    "# 문장을 한줄로 표현하고 싶을 때  (;)"
   ]
  },
  {
   "cell_type": "code",
   "execution_count": 3,
   "metadata": {},
   "outputs": [
    {
     "name": "stdout",
     "output_type": "stream",
     "text": [
      "안녕\n",
      "test\n"
     ]
    }
   ],
   "source": [
    "print('안녕');print('test')"
   ]
  },
  {
   "cell_type": "markdown",
   "metadata": {},
   "source": [
    "---\n",
    "#  주석을 사용하고 싶을 때  한줄주석(#) "
   ]
  },
  {
   "cell_type": "code",
   "execution_count": 5,
   "metadata": {},
   "outputs": [],
   "source": [
    "# 안녕하세요\n",
    "# print('안녕')"
   ]
  },
  {
   "cell_type": "markdown",
   "metadata": {},
   "source": [
    "---\n",
    "# 주석을 사용하고 싶을 때 문단주석(''' ''')"
   ]
  },
  {
   "cell_type": "code",
   "execution_count": 32,
   "metadata": {},
   "outputs": [
    {
     "data": {
      "text/plain": [
       "'print(111)\\n안녕하세요\\n'"
      ]
     },
     "execution_count": 32,
     "metadata": {},
     "output_type": "execute_result"
    }
   ],
   "source": [
    "\"\"\"print(111)\n",
    "안녕하세요\n",
    "\"\"\""
   ]
  },
  {
   "cell_type": "markdown",
   "metadata": {},
   "source": [
    "---\n",
    "# Escape문자\n",
    "- \\n new line(새로운 줄로 이동)\n",
    "- \\t tab(탭 크기만큼 이동)\n",
    "- \\\\\" (\"출력함)\n",
    "- \\\\' ('출력함)"
   ]
  },
  {
   "cell_type": "code",
   "execution_count": 19,
   "metadata": {
    "scrolled": true
   },
   "outputs": [
    {
     "name": "stdout",
     "output_type": "stream",
     "text": [
      "Hello Python\n",
      "Hello \n",
      "Python\n",
      "재밌는\n",
      "Python\n"
     ]
    }
   ],
   "source": [
    "print('Hello Python');\n",
    "print('Hello \\nPython');\n",
    "print('재밌는');print('Python')"
   ]
  },
  {
   "cell_type": "code",
   "execution_count": 23,
   "metadata": {},
   "outputs": [
    {
     "name": "stdout",
     "output_type": "stream",
     "text": [
      "'\n"
     ]
    }
   ],
   "source": [
    "print(\"\\'\")"
   ]
  },
  {
   "cell_type": "code",
   "execution_count": 26,
   "metadata": {},
   "outputs": [
    {
     "name": "stdout",
     "output_type": "stream",
     "text": [
      "안\n",
      "녕\n",
      "하\n",
      "세\n",
      "요\n"
     ]
    }
   ],
   "source": [
    "print('안\\n녕\\n하\\n세\\n요')"
   ]
  },
  {
   "cell_type": "code",
   "execution_count": 28,
   "metadata": {},
   "outputs": [
    {
     "name": "stdout",
     "output_type": "stream",
     "text": [
      "Hellopythonstart\n"
     ]
    }
   ],
   "source": [
    "print('Hello'\n",
    "     'python'\n",
    "     'start')"
   ]
  },
  {
   "cell_type": "code",
   "execution_count": 29,
   "metadata": {},
   "outputs": [
    {
     "name": "stdout",
     "output_type": "stream",
     "text": [
      "hello\n",
      "python\n",
      "start\n"
     ]
    }
   ],
   "source": [
    "print('hello\\n'\n",
    "     'python\\n'\n",
    "     'start')"
   ]
  },
  {
   "cell_type": "code",
   "execution_count": 30,
   "metadata": {},
   "outputs": [
    {
     "name": "stdout",
     "output_type": "stream",
     "text": [
      "안녕하세요\n",
      "python\n",
      "입니다\n"
     ]
    }
   ],
   "source": [
    "print('''안녕하세요\n",
    "python\n",
    "입니다''')"
   ]
  },
  {
   "cell_type": "code",
   "execution_count": 34,
   "metadata": {},
   "outputs": [
    {
     "name": "stdout",
     "output_type": "stream",
     "text": [
      "저의 이름은 이창현입니다\n",
      "      저의 나이는 20살 입니다\n",
      "      주소는 산골자기 입니다\n"
     ]
    }
   ],
   "source": [
    "print('''저의 이름은 이창현입니다\n",
    "      저의 나이는 20살 입니다\n",
    "      주소는 산골자기 입니다''')"
   ]
  },
  {
   "cell_type": "code",
   "execution_count": 35,
   "metadata": {},
   "outputs": [
    {
     "name": "stdout",
     "output_type": "stream",
     "text": [
      "저의 이름은 이창현입니다\n",
      "저의 나이는 26살 입니다\n",
      "주소는 산골자기 입니다\n"
     ]
    }
   ],
   "source": [
    "print('저의 이름은 이창현입니다\\n저의 나이는 26살 입니다\\n주소는 산골자기 입니다')"
   ]
  },
  {
   "cell_type": "code",
   "execution_count": 36,
   "metadata": {},
   "outputs": [
    {
     "name": "stdout",
     "output_type": "stream",
     "text": [
      "저의 이름은 이창현입니다\n",
      "저의 나이는 26살 입니다\n",
      "주소는 산골자기 입니다\n"
     ]
    }
   ],
   "source": [
    "print('저의 이름은 이창현입니다\\n'\n",
    "      '저의 나이는 26살 입니다\\n'\n",
    "     '주소는 산골자기 입니다')"
   ]
  },
  {
   "cell_type": "code",
   "execution_count": 37,
   "metadata": {},
   "outputs": [
    {
     "name": "stdout",
     "output_type": "stream",
     "text": [
      "have\ta\tgood\ttime\n"
     ]
    }
   ],
   "source": [
    "print('have\\ta\\tgood\\ttime')"
   ]
  },
  {
   "cell_type": "markdown",
   "metadata": {},
   "source": [
    "#### 파이썬에서는 글자를 적을 때 공백을 기본적으로 8칸을 잡는다\n",
    "#### 그래서 \\t를 쓰면 글자수에 따라 공백의 차이가 생긴다\n",
    "#### \\t 사용 용도는 주소/ 이름 /전화번호 같이 일정하게 줄 맞춤을 하고 싶을 때 사용"
   ]
  },
  {
   "cell_type": "code",
   "execution_count": 38,
   "metadata": {},
   "outputs": [
    {
     "name": "stdout",
     "output_type": "stream",
     "text": [
      "1234567\t1\t12345678\t123\n"
     ]
    }
   ],
   "source": [
    "print('1234567\\t1\\t12345678\\t123')"
   ]
  },
  {
   "cell_type": "markdown",
   "metadata": {},
   "source": [
    "#### 따옴표 안에 또 다른 문자를 사용하고 싶으면 \\사용"
   ]
  },
  {
   "cell_type": "code",
   "execution_count": 40,
   "metadata": {},
   "outputs": [
    {
     "name": "stdout",
     "output_type": "stream",
     "text": [
      "쌍 따옴표\"\n",
      "홋 따옴표''''\n",
      "쌍 따옴표\"\n",
      "홋 따옴표'\n"
     ]
    }
   ],
   "source": [
    "print(\"쌍 따옴표\\\"\")\n",
    "print(\"홋 따옴표''''\")\n",
    "print('쌍 따옴표\"')\n",
    "print('홋 따옴표\\'')\n"
   ]
  },
  {
   "cell_type": "code",
   "execution_count": 41,
   "metadata": {},
   "outputs": [
    {
     "name": "stdout",
     "output_type": "stream",
     "text": [
      "표현 \\2 방식\n",
      "표현 방식\\\n"
     ]
    }
   ],
   "source": [
    "print('표현 \\\\2 방식')\n",
    "print('표현 방식\\\\')"
   ]
  },
  {
   "cell_type": "code",
   "execution_count": 51,
   "metadata": {},
   "outputs": [
    {
     "name": "stdout",
     "output_type": "stream",
     "text": [
      "\t   #### 회비 정보 ####\n",
      "========================================\n",
      "이름\t나이\t전화번호\t회비\n",
      "========================================\n",
      "홍길동\t\"15\"\t010-123-1234\t\\20,000\n",
      "임꺽정\t\"20\"\t010-234-2345\t\\30,000\n",
      "김말이\t\"28\"\t010-345-3456\t\\50,000\n",
      "----------------------------------------\n",
      "총합계\t\t\t\t\\100,000\n",
      "========================================\n",
      "\n"
     ]
    }
   ],
   "source": [
    "print('\\t   #### 회비 정보 ####\\n'\n",
    "     '========================================\\n'\n",
    "     '이름\\t나이\\t전화번호\\t회비\\n'\n",
    "     '========================================\\n'\n",
    "     '홍길동\\t\"15\"\\t010-123-1234\\t\\\\20,000\\n'\n",
    "     '임꺽정\\t\"20\"\\t010-234-2345\\t\\\\30,000\\n'\n",
    "     '김말이\\t\"28\"\\t010-345-3456\\t\\\\50,000\\n'\n",
    "     '----------------------------------------\\n'\n",
    "     '총합계\\t\\t\\t\\t\\\\100,000\\n'\n",
    "     '========================================\\n'\n",
    "     )"
   ]
  },
  {
   "cell_type": "code",
   "execution_count": 72,
   "metadata": {},
   "outputs": [
    {
     "name": "stdout",
     "output_type": "stream",
     "text": [
      "246\n",
      "300\n",
      "246\n",
      "40.0\n"
     ]
    }
   ],
   "source": [
    "print(123+123)\n",
    "print(542-242)\n",
    "print(2*123)\n",
    "print(120/3)"
   ]
  },
  {
   "cell_type": "code",
   "execution_count": 74,
   "metadata": {
    "scrolled": false
   },
   "outputs": [
    {
     "name": "stdout",
     "output_type": "stream",
     "text": [
      "덧셈 결과: 246\n",
      "뺄셈 결과: 300\n",
      "곱셈 결과: 246\n",
      "나눗셈 결과: 40.0\n"
     ]
    }
   ],
   "source": [
    "print('덧셈 결과:',123+123)\n",
    "print('뺄셈 결과:',542-242)\n",
    "print('곱셈 결과:',2*123)\n",
    "print('나눗셈 결과:',120/3)"
   ]
  },
  {
   "cell_type": "code",
   "execution_count": 76,
   "metadata": {},
   "outputs": [
    {
     "name": "stdout",
     "output_type": "stream",
     "text": [
      "12+54= 66 입니다\n",
      "268-42= 226 입니다\n",
      "2*23= 46 입니다\n",
      "120/3= 40.0 입니다\n"
     ]
    }
   ],
   "source": [
    "print('12+54=',12+54,'입니다')\n",
    "print('268-42=',268-42,'입니다')\n",
    "print('2*23=',2*23,'입니다')\n",
    "print('120/3=',120/3,'입니다')"
   ]
  },
  {
   "cell_type": "code",
   "execution_count": 77,
   "metadata": {},
   "outputs": [
    {
     "name": "stdout",
     "output_type": "stream",
     "text": [
      "12+54=66입니다\n",
      "268-42=226입니다\n",
      "2*23=46입니다\n",
      "120/3=40.0입니다\n"
     ]
    }
   ],
   "source": [
    "print('12+54={}입니다'.format(12+54))\n",
    "print('268-42={}입니다'.format(268-42))\n",
    "print('2*23={}입니다'.format(2*23))\n",
    "print('120/3={}입니다'.format(120/3))"
   ]
  },
  {
   "cell_type": "code",
   "execution_count": 95,
   "metadata": {},
   "outputs": [
    {
     "name": "stdout",
     "output_type": "stream",
     "text": [
      "12+54=66입니다\n",
      "268-42=226입니다\n",
      "2*23=46입니다\n",
      "120/3=40입니다\n"
     ]
    }
   ],
   "source": [
    "print('12+54={}입니다'.format(12+54))\n",
    "print('268-42={}입니다'.format(268-42))\n",
    "print('2*23={}입니다'.format(2*23))\n",
    "print('120/3={:.0f}입니다'.format(120/3))"
   ]
  },
  {
   "cell_type": "code",
   "execution_count": 91,
   "metadata": {},
   "outputs": [
    {
     "name": "stdout",
     "output_type": "stream",
     "text": [
      "3.00\n"
     ]
    }
   ],
   "source": [
    "print('{:.2f}'.format(3))"
   ]
  },
  {
   "cell_type": "code",
   "execution_count": 2,
   "metadata": {},
   "outputs": [
    {
     "name": "stdout",
     "output_type": "stream",
     "text": [
      "2진수: 0b1111011\n",
      "8진수: 0o173\n",
      "16진수: 0x7b\n",
      "10진수: 123\n"
     ]
    }
   ],
   "source": [
    "print('2진수:',bin(0b01111011))\n",
    "print('8진수:',oct(0b01111011))\n",
    "print('16진수:',hex(0b01111011))\n",
    "print('10진수:',0b01111011)"
   ]
  },
  {
   "cell_type": "markdown",
   "metadata": {},
   "source": [
    "---\n",
    "# 서식 문자\n",
    "- %d 10진 정수\n",
    "- %o 8진 정수\n",
    "- %x 16진 정수\n",
    "- %f 실수\n",
    "- %c 단일 문자\n",
    "- %s 문자열"
   ]
  },
  {
   "cell_type": "code",
   "execution_count": 5,
   "metadata": {},
   "outputs": [
    {
     "name": "stdout",
     "output_type": "stream",
     "text": [
      "123\n",
      "123321\n",
      "123+321=444\n"
     ]
    }
   ],
   "source": [
    "print('%d'%123)\n",
    "#print('%d%d'%123) 에러 발생\n",
    "#print('%d'%(123,321)) 에러 발생\n",
    "print('%d%d'%(123,321))\n",
    "print('%d+%d=%d'%(123,321,123+321))"
   ]
  },
  {
   "cell_type": "code",
   "execution_count": 12,
   "metadata": {
    "scrolled": true
   },
   "outputs": [
    {
     "name": "stdout",
     "output_type": "stream",
     "text": [
      "\n",
      "실수 표현 : 456.000000\n",
      "실수 표현 : 456.46\n",
      "실수 표현 : 456.46 123.1\n"
     ]
    }
   ],
   "source": [
    "print('\\n실수 표현 : %f'% 456)\n",
    "print('실수 표현 : %.2f'%456.456)\n",
    "print('실수 표현 : %.2f %.1f'%(456.456,123.123))"
   ]
  },
  {
   "cell_type": "code",
   "execution_count": 17,
   "metadata": {},
   "outputs": [
    {
     "name": "stdout",
     "output_type": "stream",
     "text": [
      "문자 표현 : 한 글\n",
      "문자 표현 : 표 현\n",
      "\n",
      "문자열 표현 : 안녕\n",
      "문자열 표현 : 문자열\t표현방식\n"
     ]
    }
   ],
   "source": [
    "print('문자 표현 : %c %c'%('한','글'))\n",
    "print('문자 표현 : %c %c'%('표','현'))\n",
    "\n",
    "print('\\n문자열 표현 : %s'%'안녕')\n",
    "print('문자열 표현 : %s\\t%s'%('문자열','표현방식'))"
   ]
  },
  {
   "cell_type": "markdown",
   "metadata": {},
   "source": [
    "---\n",
    "# 서식 지정"
   ]
  },
  {
   "cell_type": "code",
   "execution_count": 25,
   "metadata": {
    "scrolled": true
   },
   "outputs": [
    {
     "name": "stdout",
     "output_type": "stream",
     "text": [
      "기본 값: 123\n",
      "기본 값:   123\n",
      "기본 값: 00123\n",
      "기본 값:   123  123\n",
      "기본 값: 123  123  \n",
      "기본 값: 123123\n"
     ]
    }
   ],
   "source": [
    "print('기본 값: %d'%123)\n",
    "print('기본 값: %5d'%123)\n",
    "print('기본 값: %05d'%123)\n",
    "print('기본 값: %5d%5d'%(123,123))\n",
    "print('기본 값: %-5d%-5d'%(123,123))\n",
    "print('기본 값: %d%d'%(123,123))"
   ]
  },
  {
   "cell_type": "markdown",
   "metadata": {},
   "source": [
    "---"
   ]
  },
  {
   "cell_type": "code",
   "execution_count": 26,
   "metadata": {},
   "outputs": [
    {
     "name": "stdout",
     "output_type": "stream",
     "text": [
      "기본 값 : 123.456780\n",
      "설정 값 :    123.457\n",
      "설정 값 : 123.5\n",
      "설정 값 : 123.46\n"
     ]
    }
   ],
   "source": [
    "print('기본 값 : %f'%123.45678)\n",
    "print('설정 값 : %10.3f'%123.45678)\n",
    "print('설정 값 : %2.1f'%123.45678)\n",
    "print('설정 값 : %.2f'%123.45678)"
   ]
  },
  {
   "cell_type": "code",
   "execution_count": 1,
   "metadata": {},
   "outputs": [
    {
     "name": "stdout",
     "output_type": "stream",
     "text": [
      "기본 값 : python test\n",
      "설정 값 :          python test\n"
     ]
    }
   ],
   "source": [
    "print('기본 값 : %s'% 'python test')\n",
    "print('설정 값 : %20s'% 'python test')"
   ]
  },
  {
   "cell_type": "code",
   "execution_count": 12,
   "metadata": {},
   "outputs": [
    {
     "name": "stdout",
     "output_type": "stream",
     "text": [
      "======== 출력 결과 ========\n",
      "\n",
      "이름\t: 홍길동 \n",
      "나이\t: 20 \n",
      "Tel\t: 010-1234-1234 \n",
      "키\t: 178.5 \n",
      "몸무게\t: 75 \n",
      "혈액형\t: O\n"
     ]
    }
   ],
   "source": [
    "print('======== 출력 결과 ========\\n'\n",
    "     '\\n'\n",
    "     '이름\\t: %s'%'홍길동','\\n'\n",
    "     '나이\\t: %d'%20,'\\n'\n",
    "     'Tel\\t: %03d-%d-%d'%(10,1234,1234),'\\n'\n",
    "     '키\\t: %.1f'%178.5,'\\n'\n",
    "     '몸무게\\t: %d'%75,'\\n'\n",
    "     '혈액형\\t: %s'%'O')"
   ]
  }
 ],
 "metadata": {
  "kernelspec": {
   "display_name": "tf-gpu",
   "language": "python",
   "name": "tf2.0-gpu"
  },
  "language_info": {
   "codemirror_mode": {
    "name": "ipython",
    "version": 3
   },
   "file_extension": ".py",
   "mimetype": "text/x-python",
   "name": "python",
   "nbconvert_exporter": "python",
   "pygments_lexer": "ipython3",
   "version": "3.7.2"
  }
 },
 "nbformat": 4,
 "nbformat_minor": 4
}
