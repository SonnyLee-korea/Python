{
 "cells": [
  {
   "cell_type": "markdown",
   "metadata": {},
   "source": [
    "# Variable (변수)\n",
    "- 기호(=)를 통해서 변수를 할당한다.\n",
    "- 변수 생성 시 특수문자,공백,숫자부터 기입은 안된다.\n",
    "- 대소문자 구분한다.\n",
    "- _는 사용가능"
   ]
  },
  {
   "cell_type": "code",
   "execution_count": 2,
   "metadata": {},
   "outputs": [
    {
     "name": "stdout",
     "output_type": "stream",
     "text": [
      "정수 형 변수 사용: 100\n",
      "정수 형 변수 사용: 100\n"
     ]
    }
   ],
   "source": [
    "num=100\n",
    "print('정수 형 변수 사용: %d'%num)\n",
    "print('정수 형 변수 사용:',num)"
   ]
  },
  {
   "cell_type": "code",
   "execution_count": 5,
   "metadata": {},
   "outputs": [
    {
     "name": "stdout",
     "output_type": "stream",
     "text": [
      "변경 전 num : 5\n",
      "변경 후 num : 15\n"
     ]
    }
   ],
   "source": [
    "num=5\n",
    "print('변경 전 num :',num)\n",
    "num=num+10\n",
    "print('변경 후 num :',num)"
   ]
  },
  {
   "cell_type": "code",
   "execution_count": 7,
   "metadata": {},
   "outputs": [
    {
     "name": "stdout",
     "output_type": "stream",
     "text": [
      "두 수의 합 :  15\n"
     ]
    }
   ],
   "source": [
    "num1=5\n",
    "num2=10\n",
    "sum_=num1+num2\n",
    "print('두 수의 합 : ',sum_)"
   ]
  },
  {
   "cell_type": "code",
   "execution_count": 8,
   "metadata": {},
   "outputs": [
    {
     "name": "stdout",
     "output_type": "stream",
     "text": [
      "id num1 :  140714524345408\n",
      "id num2 :  140714524345568\n",
      "id sum_ :  140714524345728\n"
     ]
    }
   ],
   "source": [
    "num1=5\n",
    "num2=10\n",
    "sum_=num1+num2\n",
    "print('id num1 : ',id(num1))\n",
    "print('id num2 : ',id(num2))\n",
    "print('id sum_ : ',id(sum_))"
   ]
  },
  {
   "cell_type": "code",
   "execution_count": 10,
   "metadata": {},
   "outputs": [
    {
     "name": "stdout",
     "output_type": "stream",
     "text": [
      "num1(10)+num2(20)=30\n"
     ]
    }
   ],
   "source": [
    "num1=10\n",
    "num2=20\n",
    "print('num1(%d)+num2(%d)=%d'%(num1,num2,num1+num2))"
   ]
  },
  {
   "cell_type": "code",
   "execution_count": 13,
   "metadata": {},
   "outputs": [
    {
     "name": "stdout",
     "output_type": "stream",
     "text": [
      "num1+num2=12\n",
      "num1-num2=2\n",
      "num1*num2=35\n",
      "num1/num2=1\n"
     ]
    }
   ],
   "source": [
    "num1=7\n",
    "num2=5\n",
    "print('num1+num2=%d'%(num1+num2))\n",
    "print('num1-num2=%d'%(num1-num2))\n",
    "print('num1*num2=%d'%(num1*num2))\n",
    "print('num1/num2=%d'%(num1/num2))"
   ]
  },
  {
   "cell_type": "markdown",
   "metadata": {},
   "source": [
    "---"
   ]
  },
  {
   "cell_type": "code",
   "execution_count": 17,
   "metadata": {},
   "outputs": [],
   "source": [
    "def python_view(python_):\n",
    "    return print('파이썬 %d점'%python_)"
   ]
  },
  {
   "cell_type": "code",
   "execution_count": 18,
   "metadata": {},
   "outputs": [],
   "source": [
    "def age_view(age):\n",
    "    return print('나는 %d살이다.'%age)"
   ]
  },
  {
   "cell_type": "code",
   "execution_count": 15,
   "metadata": {},
   "outputs": [],
   "source": [
    "def mean_subject(python_,c_,java_):\n",
    "    sum_=python_+c_+java_\n",
    "    mean_=sum_/3\n",
    "    return print('sum : %d\\nmean : %.2f'%(sum_,mean_))"
   ]
  },
  {
   "cell_type": "code",
   "execution_count": 19,
   "metadata": {},
   "outputs": [
    {
     "name": "stdout",
     "output_type": "stream",
     "text": [
      "파이썬 100점\n"
     ]
    }
   ],
   "source": [
    "python_view(100)"
   ]
  },
  {
   "cell_type": "code",
   "execution_count": 20,
   "metadata": {},
   "outputs": [
    {
     "name": "stdout",
     "output_type": "stream",
     "text": [
      "나는 26살이다.\n"
     ]
    }
   ],
   "source": [
    "age_view(26)"
   ]
  },
  {
   "cell_type": "code",
   "execution_count": 21,
   "metadata": {
    "scrolled": true
   },
   "outputs": [
    {
     "name": "stdout",
     "output_type": "stream",
     "text": [
      "sum : 300\n",
      "mean : 100.00\n"
     ]
    }
   ],
   "source": [
    "mean_subject(100,100,100)"
   ]
  },
  {
   "cell_type": "markdown",
   "metadata": {},
   "source": [
    "# 소수점 수를 자르는 함수 (round)"
   ]
  },
  {
   "cell_type": "code",
   "execution_count": 22,
   "metadata": {},
   "outputs": [
    {
     "name": "stdout",
     "output_type": "stream",
     "text": [
      "round(fit) :  124\n",
      "round(fit,1) :  123.6\n",
      "round(fit,2) :  123.57\n"
     ]
    }
   ],
   "source": [
    "fit=123.567\n",
    "print('round(fit) : ',round(fit))\n",
    "print('round(fit,1) : ',round(fit,1))\n",
    "print('round(fit,2) : ',round(fit,2))"
   ]
  },
  {
   "cell_type": "code",
   "execution_count": 3,
   "metadata": {},
   "outputs": [
    {
     "name": "stdout",
     "output_type": "stream",
     "text": [
      "123.123+321.321=444.444\n",
      "파+2+썬=파2썬\n",
      "python+test=pythontest\n"
     ]
    }
   ],
   "source": [
    "fit=123.123\n",
    "print('%.3f+%.3f=%.3f'%(fit,321.321,fit+321.321))\n",
    "\n",
    "ch1,ch2,ch3='파','2','썬'\n",
    "print('%c+%c+%c=%s'%(ch1,ch2,ch3,ch1+ch2+ch3))\n",
    "\n",
    "str_1='python'\n",
    "str_2='test'\n",
    "str_3=str_1+str_2\n",
    "print('%s+%s=%s'%(str_1,str_2,str_1+str_2))"
   ]
  }
 ],
 "metadata": {
  "kernelspec": {
   "display_name": "tf-gpu",
   "language": "python",
   "name": "tf2.0-gpu"
  },
  "language_info": {
   "codemirror_mode": {
    "name": "ipython",
    "version": 3
   },
   "file_extension": ".py",
   "mimetype": "text/x-python",
   "name": "python",
   "nbconvert_exporter": "python",
   "pygments_lexer": "ipython3",
   "version": "3.7.2"
  }
 },
 "nbformat": 4,
 "nbformat_minor": 4
}
